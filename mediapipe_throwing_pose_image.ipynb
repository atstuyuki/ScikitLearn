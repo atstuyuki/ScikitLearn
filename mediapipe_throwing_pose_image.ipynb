{
  "cells": [
    {
      "cell_type": "markdown",
      "metadata": {
        "id": "view-in-github",
        "colab_type": "text"
      },
      "source": [
        "<a href=\"https://colab.research.google.com/github/atstuyuki/ScikitLearn/blob/main/mediapipe_throwing_pose_image.ipynb\" target=\"_parent\"><img src=\"https://colab.research.google.com/assets/colab-badge.svg\" alt=\"Open In Colab\"/></a>"
      ]
    },
    {
      "cell_type": "markdown",
      "metadata": {
        "id": "D2PlazN5Q94l"
      },
      "source": [
        "# セットアップ"
      ]
    },
    {
      "cell_type": "markdown",
      "source": [
        ""
      ],
      "metadata": {
        "id": "RSDQ1Dy1qeXY"
      }
    },
    {
      "cell_type": "code",
      "execution_count": 15,
      "metadata": {
        "colab": {
          "base_uri": "https://localhost:8080/"
        },
        "id": "AuQfLvpuJkb0",
        "outputId": "65a97024-0193-45fa-9776-ae2c2bdb3da4"
      },
      "outputs": [
        {
          "output_type": "stream",
          "name": "stdout",
          "text": [
            "Requirement already satisfied: numpy==1.19.3 in /usr/local/lib/python3.7/dist-packages (1.19.3)\n",
            "Requirement already satisfied: mediapipe in /usr/local/lib/python3.7/dist-packages (0.8.10)\n",
            "Requirement already satisfied: matplotlib in /usr/local/lib/python3.7/dist-packages (from mediapipe) (3.2.2)\n",
            "Requirement already satisfied: numpy in /usr/local/lib/python3.7/dist-packages (from mediapipe) (1.19.3)\n",
            "Requirement already satisfied: opencv-contrib-python in /usr/local/lib/python3.7/dist-packages (from mediapipe) (4.1.2.30)\n",
            "Requirement already satisfied: protobuf>=3.11.4 in /usr/local/lib/python3.7/dist-packages (from mediapipe) (3.17.3)\n",
            "Requirement already satisfied: attrs>=19.1.0 in /usr/local/lib/python3.7/dist-packages (from mediapipe) (21.4.0)\n",
            "Requirement already satisfied: absl-py in /usr/local/lib/python3.7/dist-packages (from mediapipe) (1.0.0)\n",
            "Requirement already satisfied: six>=1.9 in /usr/local/lib/python3.7/dist-packages (from protobuf>=3.11.4->mediapipe) (1.15.0)\n",
            "Requirement already satisfied: kiwisolver>=1.0.1 in /usr/local/lib/python3.7/dist-packages (from matplotlib->mediapipe) (1.4.2)\n",
            "Requirement already satisfied: python-dateutil>=2.1 in /usr/local/lib/python3.7/dist-packages (from matplotlib->mediapipe) (2.8.2)\n",
            "Requirement already satisfied: pyparsing!=2.0.4,!=2.1.2,!=2.1.6,>=2.0.1 in /usr/local/lib/python3.7/dist-packages (from matplotlib->mediapipe) (3.0.8)\n",
            "Requirement already satisfied: cycler>=0.10 in /usr/local/lib/python3.7/dist-packages (from matplotlib->mediapipe) (0.11.0)\n",
            "Requirement already satisfied: typing-extensions in /usr/local/lib/python3.7/dist-packages (from kiwisolver>=1.0.1->matplotlib->mediapipe) (4.2.0)\n"
          ]
        }
      ],
      "source": [
        "# ライブラリーのインストール\n",
        "!pip install numpy==1.19.3\n",
        "!pip install mediapipe"
      ]
    },
    {
      "cell_type": "code",
      "source": [
        "#手元の動画をgoogle colabにupload\n",
        "\n",
        "from google.colab import files\n",
        "import os\n",
        "uploaded = files.upload()\n",
        "#uploadedは辞書型なのでファイル名を取り出し、絶対パスを取得してfullpathという変数を当てる\n",
        "for k in uploaded.keys():\n",
        "  print('file name:',k)\n",
        "fullpath=os.path.abspath(k)\n",
        "print('fullpath:',fullpath)\n"
      ],
      "metadata": {
        "id": "ZHh48agb9P4g",
        "outputId": "30920512-ef64-47c3-b70d-948d50f337c8",
        "colab": {
          "resources": {
            "http://localhost:8080/nbextensions/google.colab/files.js": {
              "data": "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",
              "ok": true,
              "headers": [
                [
                  "content-type",
                  "application/javascript"
                ]
              ],
              "status": 200,
              "status_text": ""
            }
          },
          "base_uri": "https://localhost:8080/",
          "height": 115
        }
      },
      "execution_count": 16,
      "outputs": [
        {
          "output_type": "display_data",
          "data": {
            "text/plain": [
              "<IPython.core.display.HTML object>"
            ],
            "text/html": [
              "\n",
              "     <input type=\"file\" id=\"files-a421e746-2e49-4eaf-932d-a981461ef71d\" name=\"files[]\" multiple disabled\n",
              "        style=\"border:none\" />\n",
              "     <output id=\"result-a421e746-2e49-4eaf-932d-a981461ef71d\">\n",
              "      Upload widget is only available when the cell has been executed in the\n",
              "      current browser session. Please rerun this cell to enable.\n",
              "      </output>\n",
              "      <script src=\"/nbextensions/google.colab/files.js\"></script> "
            ]
          },
          "metadata": {}
        },
        {
          "output_type": "stream",
          "name": "stdout",
          "text": [
            "Saving holistic.jpg to holistic.jpg\n",
            "file name: holistic.jpg\n",
            "fullpath: /content/holistic.jpg\n"
          ]
        }
      ]
    },
    {
      "cell_type": "code",
      "source": [
        "#3次元座標の角度計算の定義\n",
        "def calculate_3D_angle(a,b,c):\n",
        "    a = np.array(a) # First\n",
        "    b = np.array(b) # Mid\n",
        "    c = np.array(c) # End\n",
        "    #0がx座標　１がｙ座標　２がｚ座標\n",
        "    #ベクトルを定義 長さと内積からコサインを計算\n",
        "    vec_a=a-b\n",
        "    vec_c=c-b\n",
        "    len_vec_a=np.linalg.norm(vec_a)\n",
        "    len_vec_c=np.linalg.norm(vec_c)\n",
        "    inner_product=np.inner(vec_a, vec_c)\n",
        "    cos=inner_product/(len_vec_a*len_vec_c)\n",
        "    \n",
        "    #角度（ラジアン）の計算\n",
        "    rad=np.arccos(cos)\n",
        "    \n",
        "    #ラジアンから度数へ変換\n",
        "    angle=np.rad2deg(rad)\n",
        "        \n",
        "    return angle\n",
        "  \n",
        "#2次元からの角度計算の定義\n",
        "def calculate_2D_angle(a,b,c):\n",
        "  a=np.array(a)#firtst\n",
        "  b=np.array(b)#second\n",
        "  c=np.array(c)#third\n",
        "  radians=np.arctan2(c[1]-b[1],c[0]-b[0])-np.arctan2(a[1]-b[1],a[0]-b[0])\n",
        "  angle=np.abs(radians*180/np.pi)\n",
        "\n",
        "  if angle>180.0:\n",
        "    angle=360-angle\n",
        "  \n",
        "  return angle"
      ],
      "metadata": {
        "id": "NbX-cFEJ-VGn"
      },
      "execution_count": 17,
      "outputs": []
    },
    {
      "cell_type": "code",
      "source": [
        "import mediapipe as mp\n",
        "import cv2\n",
        "import numpy as np\n",
        "\n",
        "mp_pose = mp.solutions.pose\n",
        "mp_drawing = mp.solutions.drawing_utils\n",
        "mesh_drawing_spec = mp_drawing.DrawingSpec(thickness=2, color=(0, 255, 0))#RGBで色指定\n",
        "mark_drawing_spec = mp_drawing.DrawingSpec(thickness=3, circle_radius=3, color=(0, 0, 255))#RGBで色指定\n",
        "\n",
        "img_path = fullpath\n",
        "\n",
        "with mp_pose.Pose(\n",
        "        min_detection_confidence=0.5,\n",
        "        static_image_mode=True) as pose_detection:\n",
        "    image = cv2.imread(img_path)\n",
        "    image = cv2.resize(image, dsize=None, fx=0.3, fy=0.3)\n",
        "    rgb_image = cv2.cvtColor(image, cv2.COLOR_BGR2RGB)\n",
        "    height = rgb_image.shape[0]\n",
        "    width = rgb_image.shape[1]\n",
        "\n",
        "    results = pose_detection.process(rgb_image)\n",
        "\n",
        "    annotated_image = image.copy()\n",
        "    if not results.pose_landmarks:\n",
        "        print('not results')\n",
        "    else:\n",
        "   #各検出ポイントをarrayに変換\n",
        "      rtshoulder=[results.pose_landmarks.landmark[12].x,results.pose_landmarks.landmark[12].y,results.pose_landmarks.landmark[12].z]\n",
        "      rtelbow=[results.pose_landmarks.landmark[14].x,results.pose_landmarks.landmark[14].y,results.pose_landmarks.landmark[14].z]\n",
        "      rtwrist=[results.pose_landmarks.landmark[16].x,results.pose_landmarks.landmark[16].y,results.pose_landmarks.landmark[16].z]\n",
        "      rthip=[results.pose_landmarks.landmark[24].x,results.pose_landmarks.landmark[24].y,results.pose_landmarks.landmark[24].z]\n",
        "      ltshoulder=[results.pose_landmarks.landmark[11].x,results.pose_landmarks.landmark[11].y,results.pose_landmarks.landmark[11].z]\n",
        "  #3D座標から角度を計算 2Dか3Dか選ぶ\n",
        "  #rtelbowAngleは右肩-右肘-右手関節\n",
        "      rtelbowAngle=180-calculate_2D_angle(rtshoulder,rtelbow,rtwrist)\n",
        "  #rtshoulderAngleは左肩-右肩-右肘\n",
        "      rtshoulderAngle=calculate_2D_angle(ltshoulder,rtshoulder,rtelbow)\n",
        "  #rtshoulderAbductionは右股関節-右肩-右肘\n",
        "      rtshoulderAbduction=calculate_2D_angle(rthip,rtshoulder,rtelbow)\n",
        "  #角度情報をテキストして画像に挿入\n",
        "      cv2.putText(annotated_image, 'rtElbow'+str(round(rtelbowAngle,1)),\n",
        "              (int(0.1*width),int(0.1*height)),\n",
        "              cv2.FONT_HERSHEY_SIMPLEX,0.6,(255,255,50),1,cv2.LINE_AA)\n",
        "\n",
        "      cv2.putText(annotated_image, 'rtshoulderAbd'+str(round(rtshoulderAbduction,1)),\n",
        "               (int(0.1*width),int(0.2*height)),    \n",
        "              cv2.FONT_HERSHEY_SIMPLEX,0.6,(255,255,50),1,cv2.LINE_AA)\n",
        "      cv2.putText(annotated_image, 'rtshoulderAngle'+str(round(rtshoulderAngle,1)),\n",
        "               (int(0.1*width),int(0.3*height)),\n",
        "              cv2.FONT_HERSHEY_SIMPLEX,0.6,(255,255,50),1,cv2.LINE_AA)\n",
        "      mp_drawing.draw_landmarks(\n",
        "            image=annotated_image,\n",
        "            landmark_list=results.pose_landmarks,\n",
        "            connections=mp_pose.POSE_CONNECTIONS,\n",
        "            landmark_drawing_spec=mark_drawing_spec,\n",
        "            connection_drawing_spec=mesh_drawing_spec\n",
        "            )\n",
        "      cv2.imwrite('result.jpg', annotated_image)\n",
        "      print('right shoulder angle:',rtshoulderAngle)\n",
        "      print('right Elbow:',rtelbowAngle)\n",
        "      print('right shouler Abduction', rtshoulderAbduction)"
      ],
      "metadata": {
        "id": "v0RzIMILRMfZ",
        "outputId": "44ed9aa4-a460-4401-f866-00b11e0784d3",
        "colab": {
          "base_uri": "https://localhost:8080/"
        }
      },
      "execution_count": 23,
      "outputs": [
        {
          "output_type": "stream",
          "name": "stdout",
          "text": [
            "right shoulder angle: 178.69184960987752\n",
            "right Elbow: 6.220027692433092\n",
            "right shouler Abduction 108.11592729569743\n"
          ]
        }
      ]
    },
    {
      "cell_type": "markdown",
      "source": [
        ""
      ],
      "metadata": {
        "id": "r6WTPjQyBFDE"
      }
    },
    {
      "cell_type": "code",
      "source": [
        "height"
      ],
      "metadata": {
        "id": "VRfMs_QHBkpS",
        "outputId": "901366c0-6374-4924-abe4-e6cfbc5fc0f5",
        "colab": {
          "base_uri": "https://localhost:8080/"
        }
      },
      "execution_count": 19,
      "outputs": [
        {
          "output_type": "execute_result",
          "data": {
            "text/plain": [
              "360"
            ]
          },
          "metadata": {},
          "execution_count": 19
        }
      ]
    },
    {
      "cell_type": "code",
      "source": [
        "rtshoulderAngle"
      ],
      "metadata": {
        "id": "Xhp2ptwvRdJS"
      },
      "execution_count": null,
      "outputs": []
    },
    {
      "cell_type": "code",
      "execution_count": null,
      "metadata": {
        "id": "BboTB-FAMfPo"
      },
      "outputs": [],
      "source": [
        "\"\"\"# 初期設定 holistic とPoseを用意する　検出感度は0.5＞＞変更可能\n",
        "import mediapipe as mp\n",
        "mp_holistic = mp.solutions.holistic\n",
        "mp_pose = mp.solutions.pose\n",
        "# Initialize MediaPipe Holistic.\n",
        "holistic = mp_holistic.Holistic(\n",
        "    static_image_mode=True, min_detection_confidence=0.8)\n",
        "pose= mp_pose.Pose(\n",
        "    static_image_mode=True, min_detection_confidence=0.8)\n",
        "# Prepare DrawingSpec for drawing the face landmarks later.\n",
        "mp_drawing = mp.solutions.drawing_utils \n",
        "drawing_spec = mp_drawing.DrawingSpec(color=[225,0,200],thickness=2, circle_radius=1) #color=[B,G,R]で指定,線の太さと〇の色も指定可能\"\"\""
      ]
    },
    {
      "cell_type": "code",
      "source": [
        "\"\"\"cap = cv2.VideoCapture(fullpath) #動画の読み込み\n",
        "width = int(cap.get(cv2.CAP_PROP_FRAME_WIDTH)) #幅\n",
        "height = int(cap.get(cv2.CAP_PROP_FRAME_HEIGHT)) #高\n",
        "frame_rate = int(cap.get(cv2.CAP_PROP_FPS)) #FPS\n",
        "fourcc = cv2.VideoWriter_fourcc('m','p','4','v') #mp4出力\n",
        "out = cv2.VideoWriter('out.mp4', fourcc, frame_rate, (width, height))\"\""
      ],
      "metadata": {
        "id": "kpB8anVoGf4K"
      },
      "execution_count": null,
      "outputs": []
    },
    {
      "cell_type": "markdown",
      "metadata": {
        "id": "RFbsbDmFX22w"
      },
      "source": [
        "# MediaPipeで静止画を処理"
      ]
    },
    {
      "cell_type": "code",
      "execution_count": null,
      "metadata": {
        "id": "Fs2IYWOGtCGj"
      },
      "outputs": [],
      "source": [
        "import cv2\n",
        "from google.colab.patches import cv2_imshow\n",
        "import numpy as np\n",
        "import glob\n",
        "import time\n",
        "#変数の初期化\n",
        "rtelbowAnglelist=[]\n",
        "rtshoulderAnglelist=[]\n",
        "rtshoulderAbductionlist=[]\n",
        "timelist=[]\n",
        "data_land = np.zeros((0,132))\n",
        "\n",
        "# image file names to files in list format\n",
        "files=[]\n",
        "for name in sorted(glob.glob('./images/*.png')):\n",
        "    files.append(name)\n",
        "\n",
        "# Read images with OpenCV.\n",
        "images = {name: cv2.imread(name) for name in files}\n",
        "w = width             # 画像の横幅を取得\n",
        "h = height            # 画像の縦幅を取得\n",
        "\n",
        "for name, image in images.items():\n",
        "  # Convert the BGR image to RGB and process it with MediaPipe Pose.\n",
        "  if image is None:\n",
        "      break\n",
        "  results = pose.process(cv2.cvtColor(image, cv2.COLOR_BGR2RGB))\n",
        "  landmarks = results.pose_landmarks\n",
        "  if landmarks is None:\n",
        "      print(name)\n",
        "      continue\n",
        "   #各検出ポイントをarrayに変換\n",
        "  rtshoulder=[results.pose_landmarks.landmark[12].x,results.pose_landmarks.landmark[12].y,results.pose_landmarks.landmark[12].z]\n",
        "  rtelbow=[results.pose_landmarks.landmark[14].x,results.pose_landmarks.landmark[14].y,results.pose_landmarks.landmark[14].z]\n",
        "  rtwrist=[results.pose_landmarks.landmark[16].x,results.pose_landmarks.landmark[16].y,results.pose_landmarks.landmark[16].z]\n",
        "  rthip=[results.pose_landmarks.landmark[24].x,results.pose_landmarks.landmark[24].y,results.pose_landmarks.landmark[24].z]\n",
        "  ltshoulder=[results.pose_landmarks.landmark[11].x,results.pose_landmarks.landmark[11].y,results.pose_landmarks.landmark[11].z]\n",
        "  #3D座標から角度を計算 2Dか3Dか選ぶ\n",
        "  #rtelbowAngleは右肩-右肘-右手関節\n",
        "  rtelbowAngle=180-calculate_2D_angle(rtshoulder,rtelbow,rtwrist)\n",
        "  #rtshoulderAngleは左肩-右肩-右肘\n",
        "  rtshoulderAngle=calculate_2D_angle(ltshoulder,rtshoulder,rtelbow)\n",
        "  #rtshoulderAbductionは右股関節-右肩-右肘\n",
        "  rtshoulderAbduction=calculate_2D_angle(rthip,rtshoulder,rtelbow)\n",
        "  #角度情報をテキストして画像に挿入\n",
        "  cv2.putText(image, 'rtElbow'+str(round(rtelbowAngle,1)),\n",
        "              (200,400),\n",
        "              #tuple(np.multiply(rtelbow[:2],[w, h]).astype(int)),\n",
        "              cv2.FONT_HERSHEY_SIMPLEX,1.0,(255,0,50),2,cv2.LINE_AA)\n",
        "\n",
        "  cv2.putText(image, 'rtshoulderAbd'+str(round(rtshoulderAbduction,1)),\n",
        "              (200,350),\n",
        "              #tuple(np.multiply(rtshoulder[:2],[w, h]).astype(int)),\n",
        "              cv2.FONT_HERSHEY_SIMPLEX,1.0,(255,0,50),2,cv2.LINE_AA)\n",
        "  cv2.putText(image, 'rtshoulderAngle'+str(round(rtshoulderAngle,1)),\n",
        "              (200,300),\n",
        "              #tuple(np.multiply(rtshoulder[:2],[w, h]).astype(int)),\n",
        "              cv2.FONT_HERSHEY_SIMPLEX,1.0,(255,0,50),2,cv2.LINE_AA)\n",
        "\n",
        "        \n",
        "  rtelbowAnglelist.append(rtelbowAngle)\n",
        "  rtshoulderAnglelist.append(rtshoulderAngle)  \n",
        "  rtshoulderAbductionlist.append(rtshoulderAbduction)\n",
        "  timelist.append(time.time())\n",
        "  # Draw pose landmarks.\n",
        "  annotated_image = image.copy()\n",
        "  # Get Landmarks\n",
        "  #landmarks=results.pose_landmarks.landmark\n",
        " \n",
        "  \"\"\"\n",
        "  Holisticを使用しない場合はこの部分をコメントアウト\n",
        "  \n",
        "  mp_drawing.draw_landmarks(annotated_image, results.left_hand_landmarks, mp_holistic.HAND_CONNECTIONS)\n",
        "  mp_drawing.draw_landmarks(annotated_image, results.right_hand_landmarks, mp_holistic.HAND_CONNECTIONS)\n",
        "  mp_drawing.draw_landmarks(\n",
        "      image=annotated_image, \n",
        "      landmark_list=results.face_landmarks, \n",
        "      connections=mp_holistic.FACEMESH_TESSELATION,\n",
        "      landmark_drawing_spec=drawing_spec,\n",
        "      connection_drawing_spec=drawing_spec)\n",
        "  \"\"\"\n",
        "  mp_drawing.draw_landmarks(\n",
        "        image=annotated_image, \n",
        "        landmark_list=results.pose_landmarks, \n",
        "        connections=mp_pose.POSE_CONNECTIONS,\n",
        "        landmark_drawing_spec=drawing_spec,\n",
        "        connection_drawing_spec=drawing_spec)\n",
        "  #get coordinate poseの33か所の3次元座標データと確信度(visibilisty)をすべて結合してCSVに変換\n",
        "  data_land2 = np.zeros((1,3))\n",
        "    \n",
        "  for x in range (0,33):#pose_landmarksかpose_world_landmarksか選ぶ\n",
        "      data1 = results.pose_landmarks.landmark[x].x\n",
        "      data2 = results.pose_landmarks.landmark[x].y\n",
        "      data3 = results.pose_landmarks.landmark[x].z\n",
        "      data4 = results.pose_landmarks.landmark[x].visibility\n",
        "      keydata = np.hstack((data1,data2,data3,data4)).reshape(1,-1)\n",
        "      data_land2 = np.hstack((data_land2,keydata))\n",
        "\n",
        "  data_land2 = data_land2[:,3:]\n",
        "  data_land = np.vstack((data_land,data_land2))\n",
        "  final_data= np.vstack((landmarklist,data_land))\n",
        "  cv2.imwrite(name, annotated_image)  \n",
        "\n",
        "#savetxtではデータの型が合わないと保存でき無いことがあるのでfmtで文字の型を指定\n",
        "  np.savetxt('keypoint_results.csv',final_data,delimiter = ',',fmt = '%s')\n"
      ]
    },
    {
      "cell_type": "markdown",
      "source": [
        "# 角度のグラフ表示とデータのCSV保存"
      ],
      "metadata": {
        "id": "gaXlYqwKNB7v"
      }
    },
    {
      "cell_type": "code",
      "source": [
        "\n",
        "from matplotlib import pyplot as plt\n",
        "#combine Anglelist arrayにして水平結合\n",
        "#timelistの開始数字を0に変更\n",
        "np.array(timelist[0])\n",
        "d=np.full(len(timelist),timelist[0])#すべての要素がtimelistの１番目の値でlen(timelist)の行列を作成\n",
        "#timelistの時間を初期化（1番目の要素を0として行列の引き算\n",
        "deltatime=np.array(timelist)-np.full(len(timelist),timelist[0])\n",
        "a=np.array(rtelbowAnglelist)\n",
        "b=np.array(rtshoulderAnglelist)\n",
        "c=np.array(rtshoulderAbductionlist)\n",
        "plt.plot(deltatime,a, label='elbow angle')\n",
        "plt.plot(deltatime,b, label='shoulder angle')\n",
        "plt.plot(deltatime,c, label='shoulder Abduction')\n",
        "plt.title('Angle')\n",
        "plt.legend()\n",
        "plt.show() \n",
        "#角度データをAngle＿Results.CSVとして保存\n",
        "name=['time','elbow_angle', 'shoulder_angle', 'shoulder_Abduction']\n",
        "data=np.stack((deltatime,a,b,c)).T\n",
        "data=np.vstack((name,data))\n",
        "np.savetxt('Angle_Results.csv',data,delimiter = ',',fmt = '%s')"
      ],
      "metadata": {
        "id": "vhtuzjLp5_vm"
      },
      "execution_count": null,
      "outputs": []
    },
    {
      "cell_type": "code",
      "source": [
        "#plotlyでグラフを可視化\n",
        "import plotly\n",
        "import plotly.graph_objs as go\n",
        "# Google Colab. やJupyter Lab.でプロットするためには，以下を実行する．\n",
        "import plotly.io as pio\n",
        "pio.renderers.default = \"colab\"\n",
        "plotly.__version__\n"
      ],
      "metadata": {
        "id": "yX_BuT2K09uI"
      },
      "execution_count": null,
      "outputs": []
    },
    {
      "cell_type": "code",
      "source": [
        "#Ea_roll_mean = a.rolling(10).mean() # 移動平均を求める"
      ],
      "metadata": {
        "id": "ouvupMHw-ywC"
      },
      "execution_count": null,
      "outputs": []
    },
    {
      "cell_type": "code",
      "source": [
        "fig = go.Figure() # 1 \n",
        "\n",
        "fig.add_trace(    #2. グラフを追加・記述する\n",
        "    go.Scatter(x = deltatime, y = a,\n",
        "                  name='elbow angle')\n",
        ")\n",
        "fig.add_trace(\n",
        "    go.Scatter(x= deltatime, y =b, name='shoulder angle'))\n",
        "fig.add_trace(\n",
        "    go.Scatter(x=deltatime, y= c, name='shoulder abduction')\n",
        ")\n",
        "\n",
        "fig.update_layout( #3. グラフの装飾、制限を追加(titleの表示、x軸の最大値など)\n",
        "    title = 'Joint angles over time',\n",
        "    xaxis_title = 'time',\n",
        "    yaxis_title = 'angle',\n",
        "    showlegend = True\n",
        ")\n",
        "fig.show() #4.グラフの描画"
      ],
      "metadata": {
        "id": "ve-NLnr91O63"
      },
      "execution_count": null,
      "outputs": []
    },
    {
      "cell_type": "markdown",
      "metadata": {
        "id": "Xth7qTogKjmE"
      },
      "source": [
        "# 処理した画像をmp4動画に変換\n"
      ]
    },
    {
      "cell_type": "code",
      "execution_count": null,
      "metadata": {
        "id": "fOyDbsFjKp2S"
      },
      "outputs": [],
      "source": [
        "# 既に output.mp4 があれば削除\n",
        "import os\n",
        "if os.path.exists('./output.mp4'):\n",
        "   os.remove('./output.mp4')\n",
        "\n",
        "! ffmpeg -r 10 -i images/%6d.png\\\n",
        "               -vcodec libx264 -pix_fmt yuv420p output.mp4"
      ]
    },
    {
      "cell_type": "code",
      "execution_count": null,
      "metadata": {
        "id": "1grd4PeRLFgO"
      },
      "outputs": [],
      "source": [
        "# --- mp4動画の再生 ---\n",
        "from IPython.display import HTML\n",
        "from base64 import b64encode\n",
        "\n",
        "mp4 = open('./output.mp4', 'rb').read()\n",
        "data_url = 'data:video/mp4;base64,' + b64encode(mp4).decode()\n",
        "HTML(f\"\"\"\n",
        "<video width=\"85%\" height=\"85%\" controls>\n",
        "      <source src=\"{data_url}\" type=\"video/mp4\">\n",
        "</video>\"\"\")"
      ]
    },
    {
      "cell_type": "markdown",
      "metadata": {
        "id": "PpKEWxXpL4w9"
      },
      "source": [
        "＊作成したmp4動画は、左側のファイル欄にある　./mediapipe/output.mp4 を右クリックするとダウンロードできます。"
      ]
    }
  ],
  "metadata": {
    "colab": {
      "collapsed_sections": [],
      "name": "mediapipe_throwing _toCSV20220404",
      "provenance": [],
      "include_colab_link": true
    },
    "kernelspec": {
      "display_name": "Python 3",
      "language": "python",
      "name": "python3"
    },
    "language_info": {
      "codemirror_mode": {
        "name": "ipython",
        "version": 3
      },
      "file_extension": ".py",
      "mimetype": "text/x-python",
      "name": "python",
      "nbconvert_exporter": "python",
      "pygments_lexer": "ipython3",
      "version": "3.7.9"
    }
  },
  "nbformat": 4,
  "nbformat_minor": 0
}