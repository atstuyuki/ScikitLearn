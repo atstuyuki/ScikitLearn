{
  "nbformat": 4,
  "nbformat_minor": 0,
  "metadata": {
    "colab": {
      "name": "CTS_NCS_1Y.ipynb",
      "provenance": [],
      "collapsed_sections": [],
      "authorship_tag": "ABX9TyNb1RrIP3hU1XJO1hEIx5H6",
      "include_colab_link": true
    },
    "kernelspec": {
      "name": "python3",
      "display_name": "Python 3"
    },
    "language_info": {
      "name": "python"
    }
  },
  "cells": [
    {
      "cell_type": "markdown",
      "metadata": {
        "id": "view-in-github",
        "colab_type": "text"
      },
      "source": [
        "<a href=\"https://colab.research.google.com/github/atstuyuki/ScikitLearn/blob/main/CTS_NCS_1Y.ipynb\" target=\"_parent\"><img src=\"https://colab.research.google.com/assets/colab-badge.svg\" alt=\"Open In Colab\"/></a>"
      ]
    },
    {
      "cell_type": "code",
      "execution_count": 1,
      "metadata": {
        "id": "rqpSDXb3LqRl",
        "cellView": "form"
      },
      "outputs": [],
      "source": [
        "#@title\n",
        "#ライブラリのインポート\n",
        "\n",
        "# data analysis and wranglinimport seaborn as sns\n",
        "\n",
        "import math\n",
        "import pandas as pd\n",
        "import numpy as np\n",
        "import random as rnd\n",
        "from scipy import stats\n",
        "from scipy.stats import norm\n",
        "from sklearn.preprocessing import MinMaxScaler #正規化（最小0,最大1となるように変換）\n",
        "from sklearn.preprocessing import StandardScaler #標準化（平均0,分散1となるように変換）\n",
        "from sklearn.preprocessing import RobustScaler #中央値0,四分位範囲1となるように変換(外れ値の影響を抑える)\n",
        "from sklearn.preprocessing import LabelEncoder #カテゴリ変数の置換\n",
        "from sklearn.pipeline import Pipeline #パイプライン（変換器と推定器を結合）\n",
        "from sklearn.model_selection import train_test_split\n",
        "#splitting data : train_data 80%,test_data 20%\n",
        "#X_train, X_test, y_train, y_test = \\\n",
        "#    train_test_split(X, y, test_size=0.20, random_state=1)\n",
        "\n",
        "# Added version check for recent scikit-learn 0.18 checks\n",
        "from distutils.version import LooseVersion as Version\n",
        "from sklearn import __version__ as sklearn_version\n",
        "\n",
        "# visualization\n",
        "import seaborn as sns\n",
        "import matplotlib.pyplot as plt\n",
        "%matplotlib inline\n",
        "\n",
        "# machine learning\n",
        "from sklearn.linear_model import LinearRegression #線形回帰\n",
        "from sklearn.linear_model import Lasso, LassoCV #Lasso ,LassoCV(内部チューニング)\n",
        "from sklearn.linear_model import Ridge, RidgeCV #Ridge ,RidgeCV(内部チューニング) \n",
        "from sklearn.linear_model import ElasticNet ,ElasticNetCV #RElasticNet , ElasticNetCV(内部チューニング) \n",
        "from sklearn.linear_model import LogisticRegression #ロジスティック回帰\n",
        "from sklearn.kernel_ridge import KernelRidge #カーネルリッジ回帰\n",
        "from sklearn.svm import SVC, LinearSVC #SVM\n",
        "from sklearn.decomposition import PCA #PCA(主成分分析）\n",
        "from sklearn.discriminant_analysis import LinearDiscriminantAnalysis as LDA #LDA(線形判別分析)\n",
        "from sklearn.ensemble import RandomForestClassifier #ランダムフォレスト\n",
        "from sklearn.ensemble import RandomForestRegressor #ランダムフォレスト回帰\n",
        "from sklearn.ensemble import GradientBoostingRegressor #勾配ブースティング回帰\n",
        "from sklearn.neighbors import KNeighborsClassifier #k近傍法\n",
        "from sklearn.cluster import KMeans #k-means法 (非階層的クラスタリング(クラスター分析))\n",
        "from sklearn.cluster import AgglomerativeClustering #階層的クラスタリング(クラスター分析)\n",
        "from sklearn.cluster import DBSCAN #DBSCAN(クラスター分析)\n",
        "from sklearn.naive_bayes import GaussianNB #ナイーブベイズ（正規分布ver)\n",
        "from sklearn.linear_model import Perceptron #パーセプトロン\n",
        "from sklearn.linear_model import SGDClassifier #確率的勾配降下\n",
        "from sklearn.tree import DecisionTreeClassifier #決定木\n",
        "from sklearn.tree import DecisionTreeRegressor #決定木回帰\n",
        "import xgboost as xgb #XGBoost\n",
        "import lightgbm as lgb #LightGBM\n",
        "\n",
        "\n",
        "#model_evaluation & tuning\n",
        "from sklearn.metrics import r2_score #決定係数R^2\n",
        "from sklearn.metrics import mean_squared_error #平均二乗誤差MSE \n",
        "from sklearn.metrics import confusion_matrix #混同行列\n",
        "from sklearn.metrics import accuracy_score #正解率\n",
        "from sklearn.model_selection import KFold #k分割交差検証\n",
        "from sklearn.model_selection import StratifiedKFold #層化k分割交差検証\n",
        "from sklearn.model_selection import cross_val_score #交差検証のスコア\n",
        "from sklearn.model_selection import learning_curve #学習曲線\n",
        "from sklearn.model_selection import validation_curve #検証曲線\n",
        "from sklearn.model_selection import GridSearchCV #グリッドサーチ\n",
        "\n",
        "#ignore warnings which are not unrelated to work\n",
        "#実行に影響がない警告の非表示\n",
        "import warnings\n",
        "warnings.filterwarnings('ignore')"
      ]
    },
    {
      "cell_type": "code",
      "source": [
        "#@title\n",
        "#手元のデータをgoogle colabにupload\n",
        "\n",
        "from google.colab import files\n",
        "import os\n",
        "uploaded = files.upload()\n",
        "#uploadedは辞書型なのでファイル名を取り出し、絶対パスを取得してfullpathという変数を当てる\n",
        "for k in uploaded.keys():\n",
        "  print('file name:',k)\n",
        "fullpath=os.path.abspath(k)\n",
        "print('fullpath:',fullpath)"
      ],
      "metadata": {
        "colab": {
          "resources": {
            "http://localhost:8080/nbextensions/google.colab/files.js": {
              "data": "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",
              "ok": true,
              "headers": [
                [
                  "content-type",
                  "application/javascript"
                ]
              ],
              "status": 200,
              "status_text": ""
            }
          },
          "base_uri": "https://localhost:8080/",
          "height": 115
        },
        "id": "cinl3A6PL2tY",
        "outputId": "040cf2e7-1c27-48ba-e351-ed9497b0a510",
        "cellView": "form"
      },
      "execution_count": 2,
      "outputs": [
        {
          "output_type": "display_data",
          "data": {
            "text/plain": [
              "<IPython.core.display.HTML object>"
            ],
            "text/html": [
              "\n",
              "     <input type=\"file\" id=\"files-d2c9fc53-6b3d-4813-83c3-2a58c09f2329\" name=\"files[]\" multiple disabled\n",
              "        style=\"border:none\" />\n",
              "     <output id=\"result-d2c9fc53-6b3d-4813-83c3-2a58c09f2329\">\n",
              "      Upload widget is only available when the cell has been executed in the\n",
              "      current browser session. Please rerun this cell to enable.\n",
              "      </output>\n",
              "      <script src=\"/nbextensions/google.colab/files.js\"></script> "
            ]
          },
          "metadata": {}
        },
        {
          "output_type": "stream",
          "name": "stdout",
          "text": [
            "Saving CTS_NCS_1Y.csv to CTS_NCS_1Y.csv\n",
            "file name: CTS_NCS_1Y.csv\n",
            "fullpath: /content/CTS_NCS_1Y.csv\n"
          ]
        }
      ]
    },
    {
      "cell_type": "code",
      "source": [
        "#@title\n",
        "#dataのインポート  \\を　/に置き換えfullpathを代入　csvを’,'で区切る \n",
        "#文字認識異常が出た時は　encoding='UTF-8'や’shift_jis'にする　もともとのCSVファイルの文字形式を確認する\n",
        "#もともとのCSVで数値がintやfloatではなくstring等の事があるので、良くチェックしておく\n",
        "#https://insilico-notebook.com/python-unicodedecodeerror/\n",
        "df=pd.read_csv(fullpath,sep=',',encoding='UTF-8')"
      ],
      "metadata": {
        "id": "SFeAF48mMOuy",
        "cellView": "form"
      },
      "execution_count": 3,
      "outputs": []
    },
    {
      "cell_type": "code",
      "source": [
        "#@title\n",
        "df.head()#データの最初の5行の表示"
      ],
      "metadata": {
        "colab": {
          "base_uri": "https://localhost:8080/",
          "height": 206
        },
        "id": "6NO-cSL7Mj25",
        "outputId": "d1ce483a-7fb0-43bf-a4a1-108f3860b558",
        "cellView": "form"
      },
      "execution_count": 4,
      "outputs": [
        {
          "output_type": "execute_result",
          "data": {
            "text/plain": [
              "           ID sex   age side  DML   SCV  stage DML_1Y  SCV_1Y stage_1Y  \\\n",
              "0  97024533.0   F  56.0    L  3.4  58.3      1   4.4.    46.7        1   \n",
              "1  20019501.0   F  54.0    L  4.7  39.5      3    3.5    53.0        1   \n",
              "2  10001808.0   F  52.0    L  4.7  50.0      2    4.1    59.3        1   \n",
              "3   9062654.0   F  60.0    L  4.9  36.6      3    3.8    45.1        1   \n",
              "4  11056306.0   F  47.0    L  4.9  52.1      2    4.3    47.3        1   \n",
              "\n",
              "   outcome_1Y  \n",
              "0           0  \n",
              "1           0  \n",
              "2           0  \n",
              "3           0  \n",
              "4           0  "
            ],
            "text/html": [
              "\n",
              "  <div id=\"df-9462fb2f-f584-4b92-86b5-83f0b911df0b\">\n",
              "    <div class=\"colab-df-container\">\n",
              "      <div>\n",
              "<style scoped>\n",
              "    .dataframe tbody tr th:only-of-type {\n",
              "        vertical-align: middle;\n",
              "    }\n",
              "\n",
              "    .dataframe tbody tr th {\n",
              "        vertical-align: top;\n",
              "    }\n",
              "\n",
              "    .dataframe thead th {\n",
              "        text-align: right;\n",
              "    }\n",
              "</style>\n",
              "<table border=\"1\" class=\"dataframe\">\n",
              "  <thead>\n",
              "    <tr style=\"text-align: right;\">\n",
              "      <th></th>\n",
              "      <th>ID</th>\n",
              "      <th>sex</th>\n",
              "      <th>age</th>\n",
              "      <th>side</th>\n",
              "      <th>DML</th>\n",
              "      <th>SCV</th>\n",
              "      <th>stage</th>\n",
              "      <th>DML_1Y</th>\n",
              "      <th>SCV_1Y</th>\n",
              "      <th>stage_1Y</th>\n",
              "      <th>outcome_1Y</th>\n",
              "    </tr>\n",
              "  </thead>\n",
              "  <tbody>\n",
              "    <tr>\n",
              "      <th>0</th>\n",
              "      <td>97024533.0</td>\n",
              "      <td>F</td>\n",
              "      <td>56.0</td>\n",
              "      <td>L</td>\n",
              "      <td>3.4</td>\n",
              "      <td>58.3</td>\n",
              "      <td>1</td>\n",
              "      <td>4.4.</td>\n",
              "      <td>46.7</td>\n",
              "      <td>1</td>\n",
              "      <td>0</td>\n",
              "    </tr>\n",
              "    <tr>\n",
              "      <th>1</th>\n",
              "      <td>20019501.0</td>\n",
              "      <td>F</td>\n",
              "      <td>54.0</td>\n",
              "      <td>L</td>\n",
              "      <td>4.7</td>\n",
              "      <td>39.5</td>\n",
              "      <td>3</td>\n",
              "      <td>3.5</td>\n",
              "      <td>53.0</td>\n",
              "      <td>1</td>\n",
              "      <td>0</td>\n",
              "    </tr>\n",
              "    <tr>\n",
              "      <th>2</th>\n",
              "      <td>10001808.0</td>\n",
              "      <td>F</td>\n",
              "      <td>52.0</td>\n",
              "      <td>L</td>\n",
              "      <td>4.7</td>\n",
              "      <td>50.0</td>\n",
              "      <td>2</td>\n",
              "      <td>4.1</td>\n",
              "      <td>59.3</td>\n",
              "      <td>1</td>\n",
              "      <td>0</td>\n",
              "    </tr>\n",
              "    <tr>\n",
              "      <th>3</th>\n",
              "      <td>9062654.0</td>\n",
              "      <td>F</td>\n",
              "      <td>60.0</td>\n",
              "      <td>L</td>\n",
              "      <td>4.9</td>\n",
              "      <td>36.6</td>\n",
              "      <td>3</td>\n",
              "      <td>3.8</td>\n",
              "      <td>45.1</td>\n",
              "      <td>1</td>\n",
              "      <td>0</td>\n",
              "    </tr>\n",
              "    <tr>\n",
              "      <th>4</th>\n",
              "      <td>11056306.0</td>\n",
              "      <td>F</td>\n",
              "      <td>47.0</td>\n",
              "      <td>L</td>\n",
              "      <td>4.9</td>\n",
              "      <td>52.1</td>\n",
              "      <td>2</td>\n",
              "      <td>4.3</td>\n",
              "      <td>47.3</td>\n",
              "      <td>1</td>\n",
              "      <td>0</td>\n",
              "    </tr>\n",
              "  </tbody>\n",
              "</table>\n",
              "</div>\n",
              "      <button class=\"colab-df-convert\" onclick=\"convertToInteractive('df-9462fb2f-f584-4b92-86b5-83f0b911df0b')\"\n",
              "              title=\"Convert this dataframe to an interactive table.\"\n",
              "              style=\"display:none;\">\n",
              "        \n",
              "  <svg xmlns=\"http://www.w3.org/2000/svg\" height=\"24px\"viewBox=\"0 0 24 24\"\n",
              "       width=\"24px\">\n",
              "    <path d=\"M0 0h24v24H0V0z\" fill=\"none\"/>\n",
              "    <path d=\"M18.56 5.44l.94 2.06.94-2.06 2.06-.94-2.06-.94-.94-2.06-.94 2.06-2.06.94zm-11 1L8.5 8.5l.94-2.06 2.06-.94-2.06-.94L8.5 2.5l-.94 2.06-2.06.94zm10 10l.94 2.06.94-2.06 2.06-.94-2.06-.94-.94-2.06-.94 2.06-2.06.94z\"/><path d=\"M17.41 7.96l-1.37-1.37c-.4-.4-.92-.59-1.43-.59-.52 0-1.04.2-1.43.59L10.3 9.45l-7.72 7.72c-.78.78-.78 2.05 0 2.83L4 21.41c.39.39.9.59 1.41.59.51 0 1.02-.2 1.41-.59l7.78-7.78 2.81-2.81c.8-.78.8-2.07 0-2.86zM5.41 20L4 18.59l7.72-7.72 1.47 1.35L5.41 20z\"/>\n",
              "  </svg>\n",
              "      </button>\n",
              "      \n",
              "  <style>\n",
              "    .colab-df-container {\n",
              "      display:flex;\n",
              "      flex-wrap:wrap;\n",
              "      gap: 12px;\n",
              "    }\n",
              "\n",
              "    .colab-df-convert {\n",
              "      background-color: #E8F0FE;\n",
              "      border: none;\n",
              "      border-radius: 50%;\n",
              "      cursor: pointer;\n",
              "      display: none;\n",
              "      fill: #1967D2;\n",
              "      height: 32px;\n",
              "      padding: 0 0 0 0;\n",
              "      width: 32px;\n",
              "    }\n",
              "\n",
              "    .colab-df-convert:hover {\n",
              "      background-color: #E2EBFA;\n",
              "      box-shadow: 0px 1px 2px rgba(60, 64, 67, 0.3), 0px 1px 3px 1px rgba(60, 64, 67, 0.15);\n",
              "      fill: #174EA6;\n",
              "    }\n",
              "\n",
              "    [theme=dark] .colab-df-convert {\n",
              "      background-color: #3B4455;\n",
              "      fill: #D2E3FC;\n",
              "    }\n",
              "\n",
              "    [theme=dark] .colab-df-convert:hover {\n",
              "      background-color: #434B5C;\n",
              "      box-shadow: 0px 1px 3px 1px rgba(0, 0, 0, 0.15);\n",
              "      filter: drop-shadow(0px 1px 2px rgba(0, 0, 0, 0.3));\n",
              "      fill: #FFFFFF;\n",
              "    }\n",
              "  </style>\n",
              "\n",
              "      <script>\n",
              "        const buttonEl =\n",
              "          document.querySelector('#df-9462fb2f-f584-4b92-86b5-83f0b911df0b button.colab-df-convert');\n",
              "        buttonEl.style.display =\n",
              "          google.colab.kernel.accessAllowed ? 'block' : 'none';\n",
              "\n",
              "        async function convertToInteractive(key) {\n",
              "          const element = document.querySelector('#df-9462fb2f-f584-4b92-86b5-83f0b911df0b');\n",
              "          const dataTable =\n",
              "            await google.colab.kernel.invokeFunction('convertToInteractive',\n",
              "                                                     [key], {});\n",
              "          if (!dataTable) return;\n",
              "\n",
              "          const docLinkHtml = 'Like what you see? Visit the ' +\n",
              "            '<a target=\"_blank\" href=https://colab.research.google.com/notebooks/data_table.ipynb>data table notebook</a>'\n",
              "            + ' to learn more about interactive tables.';\n",
              "          element.innerHTML = '';\n",
              "          dataTable['output_type'] = 'display_data';\n",
              "          await google.colab.output.renderOutput(dataTable, element);\n",
              "          const docLink = document.createElement('div');\n",
              "          docLink.innerHTML = docLinkHtml;\n",
              "          element.appendChild(docLink);\n",
              "        }\n",
              "      </script>\n",
              "    </div>\n",
              "  </div>\n",
              "  "
            ]
          },
          "metadata": {},
          "execution_count": 4
        }
      ]
    },
    {
      "cell_type": "code",
      "source": [
        "#@title\n",
        "df.info()"
      ],
      "metadata": {
        "colab": {
          "base_uri": "https://localhost:8080/",
          "height": 0
        },
        "id": "CWr49Q1Kw_D7",
        "outputId": "8517cee5-2341-40f4-c1c8-06cb2d0cf5c9",
        "cellView": "form",
        "collapsed": true
      },
      "execution_count": 5,
      "outputs": [
        {
          "output_type": "stream",
          "name": "stdout",
          "text": [
            "<class 'pandas.core.frame.DataFrame'>\n",
            "RangeIndex: 575 entries, 0 to 574\n",
            "Data columns (total 11 columns):\n",
            " #   Column      Non-Null Count  Dtype  \n",
            "---  ------      --------------  -----  \n",
            " 0   ID          574 non-null    float64\n",
            " 1   sex         575 non-null    object \n",
            " 2   age         566 non-null    float64\n",
            " 3   side        575 non-null    object \n",
            " 4   DML         575 non-null    object \n",
            " 5   SCV         575 non-null    float64\n",
            " 6   stage       575 non-null    int64  \n",
            " 7   DML_1Y      574 non-null    object \n",
            " 8   SCV_1Y      574 non-null    float64\n",
            " 9   stage_1Y    573 non-null    object \n",
            " 10  outcome_1Y  575 non-null    int64  \n",
            "dtypes: float64(4), int64(2), object(5)\n",
            "memory usage: 49.5+ KB\n"
          ]
        }
      ]
    },
    {
      "cell_type": "code",
      "source": [
        "#@title\n",
        "#dfの型の確認　object型等は変更する必要がある\n",
        "#df.dtypes"
      ],
      "metadata": {
        "id": "sbLwYZRRN467",
        "cellView": "form"
      },
      "execution_count": 6,
      "outputs": []
    },
    {
      "cell_type": "code",
      "source": [
        "#@title\n",
        "#今回の解析に不要な列をdrop\n",
        "df=df.drop(['ID','DML_1Y','SCV_1Y','stage_1Y'],axis='columns') "
      ],
      "metadata": {
        "id": "wfuBLN23OIVy",
        "cellView": "form"
      },
      "execution_count": 7,
      "outputs": []
    },
    {
      "cell_type": "code",
      "source": [
        "#NEがカテゴリ変数と認識されるので、NEの値はDML＝20としてデータを前処理\n",
        "df=df.replace('NE',20)"
      ],
      "metadata": {
        "id": "anvfDulza3bx"
      },
      "execution_count": 8,
      "outputs": []
    },
    {
      "cell_type": "code",
      "source": [
        "#@title\n",
        "df.dtypes"
      ],
      "metadata": {
        "id": "XaFtymRFbgf1",
        "outputId": "4cd1dbd2-143c-4716-ea32-eaaac76a8e62",
        "colab": {
          "base_uri": "https://localhost:8080/",
          "height": 0
        },
        "cellView": "form",
        "collapsed": true
      },
      "execution_count": 9,
      "outputs": [
        {
          "output_type": "execute_result",
          "data": {
            "text/plain": [
              "sex            object\n",
              "age           float64\n",
              "side           object\n",
              "DML            object\n",
              "SCV           float64\n",
              "stage           int64\n",
              "outcome_1Y      int64\n",
              "dtype: object"
            ]
          },
          "metadata": {},
          "execution_count": 9
        }
      ]
    },
    {
      "cell_type": "code",
      "source": [
        "#@title\n",
        "#object型の値をpd.to_nurmericで数値型に変換する\n",
        "df[\"DML\"]=pd.to_numeric(df[\"DML\"])\n",
        "df.dtypes"
      ],
      "metadata": {
        "id": "SIzrh32qcfTK",
        "outputId": "37098169-c88c-48d3-f501-14481dad01c9",
        "colab": {
          "base_uri": "https://localhost:8080/",
          "height": 0
        },
        "collapsed": true,
        "cellView": "form"
      },
      "execution_count": 11,
      "outputs": [
        {
          "output_type": "execute_result",
          "data": {
            "text/plain": [
              "sex            object\n",
              "age           float64\n",
              "side           object\n",
              "DML           float64\n",
              "SCV           float64\n",
              "stage           int64\n",
              "outcome_1Y      int64\n",
              "dtype: object"
            ]
          },
          "metadata": {},
          "execution_count": 11
        }
      ]
    },
    {
      "cell_type": "code",
      "source": [
        "#@title\n",
        "#カテゴリ変数をone hot enchoding (drop_first=Trueならダミーエンコーディングなので1次元削減)\n",
        "#今回はSEX side がone hot enchodingされる\n",
        "df= pd.get_dummies(df,drop_first=True) \n",
        "df.dtypes"
      ],
      "metadata": {
        "colab": {
          "base_uri": "https://localhost:8080/",
          "height": 0
        },
        "id": "V4svhQdFOhus",
        "outputId": "f85f0d2c-6cd5-4139-9183-811602ebc8fa",
        "cellView": "form",
        "collapsed": true
      },
      "execution_count": 12,
      "outputs": [
        {
          "output_type": "execute_result",
          "data": {
            "text/plain": [
              "age           float64\n",
              "DML           float64\n",
              "SCV           float64\n",
              "stage           int64\n",
              "outcome_1Y      int64\n",
              "sex_M           uint8\n",
              "side_R          uint8\n",
              "dtype: object"
            ]
          },
          "metadata": {},
          "execution_count": 12
        }
      ]
    },
    {
      "cell_type": "code",
      "source": [
        "#@title\n",
        "#dfの欠損値の確認\n",
        "df.isnull().sum()"
      ],
      "metadata": {
        "colab": {
          "base_uri": "https://localhost:8080/",
          "height": 0
        },
        "id": "nXhpwSjxO2iG",
        "outputId": "c885a845-fc8c-424a-f8db-60e4a0384886",
        "cellView": "form",
        "collapsed": true
      },
      "execution_count": 13,
      "outputs": [
        {
          "output_type": "execute_result",
          "data": {
            "text/plain": [
              "age           9\n",
              "DML           0\n",
              "SCV           0\n",
              "stage         0\n",
              "outcome_1Y    0\n",
              "sex_M         0\n",
              "side_R        0\n",
              "dtype: int64"
            ]
          },
          "metadata": {},
          "execution_count": 13
        }
      ]
    },
    {
      "cell_type": "code",
      "source": [
        "# データフレームの統計量記述\n",
        "df.describe()"
      ],
      "metadata": {
        "colab": {
          "base_uri": "https://localhost:8080/",
          "height": 300
        },
        "id": "GvJlI7XMQyaq",
        "outputId": "f032c358-e540-432c-c637-d8d790c67b29"
      },
      "execution_count": 14,
      "outputs": [
        {
          "output_type": "execute_result",
          "data": {
            "text/plain": [
              "              age         DML         SCV       stage  outcome_1Y       sex_M  \\\n",
              "count  566.000000  575.000000  575.000000  575.000000  575.000000  575.000000   \n",
              "mean    67.736749   12.930957    6.444174    4.217391    0.271304    0.255652   \n",
              "std     12.390246    6.322810   14.558069    0.819860    0.445020    0.436607   \n",
              "min     26.000000    3.400000    0.000000    1.000000    0.000000    0.000000   \n",
              "25%     59.000000    6.800000    0.000000    4.000000    0.000000    0.000000   \n",
              "50%     69.000000   10.100000    0.000000    4.000000    0.000000    0.000000   \n",
              "75%     77.000000   20.000000    0.000000    5.000000    1.000000    1.000000   \n",
              "max     97.000000   20.000000   59.500000    5.000000    1.000000    1.000000   \n",
              "\n",
              "           side_R  \n",
              "count  575.000000  \n",
              "mean     0.558261  \n",
              "std      0.497026  \n",
              "min      0.000000  \n",
              "25%      0.000000  \n",
              "50%      1.000000  \n",
              "75%      1.000000  \n",
              "max      1.000000  "
            ],
            "text/html": [
              "\n",
              "  <div id=\"df-0096af2b-e501-46ee-93b0-90f2f0a74b18\">\n",
              "    <div class=\"colab-df-container\">\n",
              "      <div>\n",
              "<style scoped>\n",
              "    .dataframe tbody tr th:only-of-type {\n",
              "        vertical-align: middle;\n",
              "    }\n",
              "\n",
              "    .dataframe tbody tr th {\n",
              "        vertical-align: top;\n",
              "    }\n",
              "\n",
              "    .dataframe thead th {\n",
              "        text-align: right;\n",
              "    }\n",
              "</style>\n",
              "<table border=\"1\" class=\"dataframe\">\n",
              "  <thead>\n",
              "    <tr style=\"text-align: right;\">\n",
              "      <th></th>\n",
              "      <th>age</th>\n",
              "      <th>DML</th>\n",
              "      <th>SCV</th>\n",
              "      <th>stage</th>\n",
              "      <th>outcome_1Y</th>\n",
              "      <th>sex_M</th>\n",
              "      <th>side_R</th>\n",
              "    </tr>\n",
              "  </thead>\n",
              "  <tbody>\n",
              "    <tr>\n",
              "      <th>count</th>\n",
              "      <td>566.000000</td>\n",
              "      <td>575.000000</td>\n",
              "      <td>575.000000</td>\n",
              "      <td>575.000000</td>\n",
              "      <td>575.000000</td>\n",
              "      <td>575.000000</td>\n",
              "      <td>575.000000</td>\n",
              "    </tr>\n",
              "    <tr>\n",
              "      <th>mean</th>\n",
              "      <td>67.736749</td>\n",
              "      <td>12.930957</td>\n",
              "      <td>6.444174</td>\n",
              "      <td>4.217391</td>\n",
              "      <td>0.271304</td>\n",
              "      <td>0.255652</td>\n",
              "      <td>0.558261</td>\n",
              "    </tr>\n",
              "    <tr>\n",
              "      <th>std</th>\n",
              "      <td>12.390246</td>\n",
              "      <td>6.322810</td>\n",
              "      <td>14.558069</td>\n",
              "      <td>0.819860</td>\n",
              "      <td>0.445020</td>\n",
              "      <td>0.436607</td>\n",
              "      <td>0.497026</td>\n",
              "    </tr>\n",
              "    <tr>\n",
              "      <th>min</th>\n",
              "      <td>26.000000</td>\n",
              "      <td>3.400000</td>\n",
              "      <td>0.000000</td>\n",
              "      <td>1.000000</td>\n",
              "      <td>0.000000</td>\n",
              "      <td>0.000000</td>\n",
              "      <td>0.000000</td>\n",
              "    </tr>\n",
              "    <tr>\n",
              "      <th>25%</th>\n",
              "      <td>59.000000</td>\n",
              "      <td>6.800000</td>\n",
              "      <td>0.000000</td>\n",
              "      <td>4.000000</td>\n",
              "      <td>0.000000</td>\n",
              "      <td>0.000000</td>\n",
              "      <td>0.000000</td>\n",
              "    </tr>\n",
              "    <tr>\n",
              "      <th>50%</th>\n",
              "      <td>69.000000</td>\n",
              "      <td>10.100000</td>\n",
              "      <td>0.000000</td>\n",
              "      <td>4.000000</td>\n",
              "      <td>0.000000</td>\n",
              "      <td>0.000000</td>\n",
              "      <td>1.000000</td>\n",
              "    </tr>\n",
              "    <tr>\n",
              "      <th>75%</th>\n",
              "      <td>77.000000</td>\n",
              "      <td>20.000000</td>\n",
              "      <td>0.000000</td>\n",
              "      <td>5.000000</td>\n",
              "      <td>1.000000</td>\n",
              "      <td>1.000000</td>\n",
              "      <td>1.000000</td>\n",
              "    </tr>\n",
              "    <tr>\n",
              "      <th>max</th>\n",
              "      <td>97.000000</td>\n",
              "      <td>20.000000</td>\n",
              "      <td>59.500000</td>\n",
              "      <td>5.000000</td>\n",
              "      <td>1.000000</td>\n",
              "      <td>1.000000</td>\n",
              "      <td>1.000000</td>\n",
              "    </tr>\n",
              "  </tbody>\n",
              "</table>\n",
              "</div>\n",
              "      <button class=\"colab-df-convert\" onclick=\"convertToInteractive('df-0096af2b-e501-46ee-93b0-90f2f0a74b18')\"\n",
              "              title=\"Convert this dataframe to an interactive table.\"\n",
              "              style=\"display:none;\">\n",
              "        \n",
              "  <svg xmlns=\"http://www.w3.org/2000/svg\" height=\"24px\"viewBox=\"0 0 24 24\"\n",
              "       width=\"24px\">\n",
              "    <path d=\"M0 0h24v24H0V0z\" fill=\"none\"/>\n",
              "    <path d=\"M18.56 5.44l.94 2.06.94-2.06 2.06-.94-2.06-.94-.94-2.06-.94 2.06-2.06.94zm-11 1L8.5 8.5l.94-2.06 2.06-.94-2.06-.94L8.5 2.5l-.94 2.06-2.06.94zm10 10l.94 2.06.94-2.06 2.06-.94-2.06-.94-.94-2.06-.94 2.06-2.06.94z\"/><path d=\"M17.41 7.96l-1.37-1.37c-.4-.4-.92-.59-1.43-.59-.52 0-1.04.2-1.43.59L10.3 9.45l-7.72 7.72c-.78.78-.78 2.05 0 2.83L4 21.41c.39.39.9.59 1.41.59.51 0 1.02-.2 1.41-.59l7.78-7.78 2.81-2.81c.8-.78.8-2.07 0-2.86zM5.41 20L4 18.59l7.72-7.72 1.47 1.35L5.41 20z\"/>\n",
              "  </svg>\n",
              "      </button>\n",
              "      \n",
              "  <style>\n",
              "    .colab-df-container {\n",
              "      display:flex;\n",
              "      flex-wrap:wrap;\n",
              "      gap: 12px;\n",
              "    }\n",
              "\n",
              "    .colab-df-convert {\n",
              "      background-color: #E8F0FE;\n",
              "      border: none;\n",
              "      border-radius: 50%;\n",
              "      cursor: pointer;\n",
              "      display: none;\n",
              "      fill: #1967D2;\n",
              "      height: 32px;\n",
              "      padding: 0 0 0 0;\n",
              "      width: 32px;\n",
              "    }\n",
              "\n",
              "    .colab-df-convert:hover {\n",
              "      background-color: #E2EBFA;\n",
              "      box-shadow: 0px 1px 2px rgba(60, 64, 67, 0.3), 0px 1px 3px 1px rgba(60, 64, 67, 0.15);\n",
              "      fill: #174EA6;\n",
              "    }\n",
              "\n",
              "    [theme=dark] .colab-df-convert {\n",
              "      background-color: #3B4455;\n",
              "      fill: #D2E3FC;\n",
              "    }\n",
              "\n",
              "    [theme=dark] .colab-df-convert:hover {\n",
              "      background-color: #434B5C;\n",
              "      box-shadow: 0px 1px 3px 1px rgba(0, 0, 0, 0.15);\n",
              "      filter: drop-shadow(0px 1px 2px rgba(0, 0, 0, 0.3));\n",
              "      fill: #FFFFFF;\n",
              "    }\n",
              "  </style>\n",
              "\n",
              "      <script>\n",
              "        const buttonEl =\n",
              "          document.querySelector('#df-0096af2b-e501-46ee-93b0-90f2f0a74b18 button.colab-df-convert');\n",
              "        buttonEl.style.display =\n",
              "          google.colab.kernel.accessAllowed ? 'block' : 'none';\n",
              "\n",
              "        async function convertToInteractive(key) {\n",
              "          const element = document.querySelector('#df-0096af2b-e501-46ee-93b0-90f2f0a74b18');\n",
              "          const dataTable =\n",
              "            await google.colab.kernel.invokeFunction('convertToInteractive',\n",
              "                                                     [key], {});\n",
              "          if (!dataTable) return;\n",
              "\n",
              "          const docLinkHtml = 'Like what you see? Visit the ' +\n",
              "            '<a target=\"_blank\" href=https://colab.research.google.com/notebooks/data_table.ipynb>data table notebook</a>'\n",
              "            + ' to learn more about interactive tables.';\n",
              "          element.innerHTML = '';\n",
              "          dataTable['output_type'] = 'display_data';\n",
              "          await google.colab.output.renderOutput(dataTable, element);\n",
              "          const docLink = document.createElement('div');\n",
              "          docLink.innerHTML = docLinkHtml;\n",
              "          element.appendChild(docLink);\n",
              "        }\n",
              "      </script>\n",
              "    </div>\n",
              "  </div>\n",
              "  "
            ]
          },
          "metadata": {},
          "execution_count": 14
        }
      ]
    },
    {
      "cell_type": "code",
      "source": [
        "#@title\n",
        "df.info()"
      ],
      "metadata": {
        "id": "XBrddagMWSg4",
        "outputId": "35154277-6f60-41da-96f5-2b7d57e7b640",
        "colab": {
          "base_uri": "https://localhost:8080/",
          "height": 0
        },
        "cellView": "form",
        "collapsed": true
      },
      "execution_count": 15,
      "outputs": [
        {
          "output_type": "stream",
          "name": "stdout",
          "text": [
            "<class 'pandas.core.frame.DataFrame'>\n",
            "RangeIndex: 575 entries, 0 to 574\n",
            "Data columns (total 7 columns):\n",
            " #   Column      Non-Null Count  Dtype  \n",
            "---  ------      --------------  -----  \n",
            " 0   age         566 non-null    float64\n",
            " 1   DML         575 non-null    float64\n",
            " 2   SCV         575 non-null    float64\n",
            " 3   stage       575 non-null    int64  \n",
            " 4   outcome_1Y  575 non-null    int64  \n",
            " 5   sex_M       575 non-null    uint8  \n",
            " 6   side_R      575 non-null    uint8  \n",
            "dtypes: float64(3), int64(2), uint8(2)\n",
            "memory usage: 23.7 KB\n"
          ]
        }
      ]
    },
    {
      "cell_type": "code",
      "source": [
        "#@title\n",
        "#ageに欠損値があるので平均値で補完する\n",
        "df=df.fillna(df.mean())\n",
        "df.info()"
      ],
      "metadata": {
        "colab": {
          "base_uri": "https://localhost:8080/",
          "height": 0
        },
        "id": "78tjWavMypwk",
        "outputId": "b7083df0-6ec6-4ea3-e1bd-273f30314aef",
        "cellView": "form",
        "collapsed": true
      },
      "execution_count": 16,
      "outputs": [
        {
          "output_type": "stream",
          "name": "stdout",
          "text": [
            "<class 'pandas.core.frame.DataFrame'>\n",
            "RangeIndex: 575 entries, 0 to 574\n",
            "Data columns (total 7 columns):\n",
            " #   Column      Non-Null Count  Dtype  \n",
            "---  ------      --------------  -----  \n",
            " 0   age         575 non-null    float64\n",
            " 1   DML         575 non-null    float64\n",
            " 2   SCV         575 non-null    float64\n",
            " 3   stage       575 non-null    int64  \n",
            " 4   outcome_1Y  575 non-null    int64  \n",
            " 5   sex_M       575 non-null    uint8  \n",
            " 6   side_R      575 non-null    uint8  \n",
            "dtypes: float64(3), int64(2), uint8(2)\n",
            "memory usage: 23.7 KB\n"
          ]
        }
      ]
    },
    {
      "cell_type": "markdown",
      "source": [
        "各項目の相関性をheatmapにて表示　赤なら項目間の相関性が高い"
      ],
      "metadata": {
        "id": "jeBL7JAY09cD"
      }
    },
    {
      "cell_type": "code",
      "source": [
        "#@title\n",
        "#dfでの相関係数のheatmap 白黒表示であればcmap='binary'とする\n",
        "plt.figure(figsize=(10,10))\n",
        "cmap=sns.color_palette('coolwarm',200)\n",
        "sns.heatmap(df.corr(),square=True,annot=False,cmap=cmap,center=0)"
      ],
      "metadata": {
        "colab": {
          "base_uri": "https://localhost:8080/",
          "height": 596
        },
        "id": "90wLOhAxQ4sB",
        "outputId": "4453e57e-97db-4167-ca5d-3e03c4d506df",
        "cellView": "form"
      },
      "execution_count": 17,
      "outputs": [
        {
          "output_type": "execute_result",
          "data": {
            "text/plain": [
              "<matplotlib.axes._subplots.AxesSubplot at 0x7f7d6f9bdfd0>"
            ]
          },
          "metadata": {},
          "execution_count": 17
        },
        {
          "output_type": "display_data",
          "data": {
            "text/plain": [
              "<Figure size 720x720 with 2 Axes>"
            ],
            "image/png": "[encoded data removed]"
          },
          "metadata": {
            "needs_background": "light"
          }
        }
      ]
    },
    {
      "cell_type": "code",
      "source": [
        "#@title\n",
        "#Pandasで目的変数別に色分けしたヒストグラムを作成する\n",
        "#関数の指定\n",
        "#http://own-search-and-study.xyz/2018/02/27/pandas%e3%81%a7%e7%9b%ae%e7%9a%84%e5%a4%89%e6%95%b0%e5%88%a5%e3%81%ab%e8%89%b2%e5%88%86%e3%81%91%e3%81%97%e3%81%9f%e3%83%92%e3%82%b9%e3%83%88%e3%82%b0%e3%83%a9%e3%83%a0%e3%82%92%e4%bd%9c%e6%88%90/\n",
        "import pandas as pd\n",
        " \n",
        "def targethist(df, target, save=False, kind='hist', **kwards):\n",
        "     \n",
        "    columns = df.columns[df.columns != target]\n",
        "    pdf = df.pivot_table(index=df.index, columns=target)\n",
        "     \n",
        "    for column in columns:\n",
        "         \n",
        "        ax = pdf.loc[:, column].plot(kind=kind, title=column, **kwards)\n",
        "         \n",
        "        if save==True:\n",
        "            ax.get_figure().savefig(column+\".png\") "
      ],
      "metadata": {
        "id": "EYQXJTLNRAmx",
        "cellView": "form"
      },
      "execution_count": 18,
      "outputs": []
    },
    {
      "cell_type": "markdown",
      "source": [
        "１Yでstage1,2,3が改善群（0）4，5は非改善群（1）として分布をヒストグラム化"
      ],
      "metadata": {
        "id": "mOuTZQSI1Ios"
      }
    },
    {
      "cell_type": "code",
      "source": [
        "#@title\n",
        "#関数targethistに引数を渡す　\n",
        "#pandasのplotをラップしている点を活用してパラメータを指定します。\n",
        "#outcom_0Y=0がstage1,2,3 =1がstage4,5\n",
        "targethist(df,target='outcome_1Y', bins=20, alpha=0.8)"
      ],
      "metadata": {
        "colab": {
          "base_uri": "https://localhost:8080/",
          "height": 1601
        },
        "id": "YPkLALdFRN7z",
        "outputId": "fa0ca085-5239-4190-8781-b4b59cca680c",
        "cellView": "form"
      },
      "execution_count": 20,
      "outputs": [
        {
          "output_type": "display_data",
          "data": {
            "text/plain": [
              "<Figure size 432x288 with 1 Axes>"
            ],
            "image/png": "[encoded data removed]"
          },
          "metadata": {
            "needs_background": "light"
          }
        },
        {
          "output_type": "display_data",
          "data": {
            "text/plain": [
              "<Figure size 432x288 with 1 Axes>"
            ],
            "image/png": "[encoded data removed]"
          },
          "metadata": {
            "needs_background": "light"
          }
        },
        {
          "output_type": "display_data",
          "data": {
            "text/plain": [
              "<Figure size 432x288 with 1 Axes>"
            ],
            "image/png": "[encoded data removed]"
          },
          "metadata": {
            "needs_background": "light"
          }
        },
        {
          "output_type": "display_data",
          "data": {
            "text/plain": [
              "<Figure size 432x288 with 1 Axes>"
            ],
            "image/png": "[encoded data removed]"
          },
          "metadata": {
            "needs_background": "light"
          }
        },
        {
          "output_type": "display_data",
          "data": {
            "text/plain": [
              "<Figure size 432x288 with 1 Axes>"
            ],
            "image/png": "[encoded data removed]"
          },
          "metadata": {
            "needs_background": "light"
          }
        },
        {
          "output_type": "display_data",
          "data": {
            "text/plain": [
              "<Figure size 432x288 with 1 Axes>"
            ],
            "image/png": "[encoded data removed]"
          },
          "metadata": {
            "needs_background": "light"
          }
        }
      ]
    },
    {
      "cell_type": "markdown",
      "source": [
        "同じ群間でボックスプロットによる群の表示"
      ],
      "metadata": {
        "id": "YK6SAWQP2YIe"
      }
    },
    {
      "cell_type": "code",
      "source": [
        "#@title\n",
        "#outcom_0Y=0がstage1,2,3 =1がstage4,5\n",
        "#box plotしてみる\n",
        "targethist(df, target=\"outcome_1Y\", kind='box')"
      ],
      "metadata": {
        "colab": {
          "base_uri": "https://localhost:8080/",
          "height": 1601
        },
        "id": "ahWDAd5LRSNv",
        "outputId": "bcf891c1-0424-4b00-976e-334f9f43b23b",
        "cellView": "form"
      },
      "execution_count": 22,
      "outputs": [
        {
          "output_type": "display_data",
          "data": {
            "text/plain": [
              "<Figure size 432x288 with 1 Axes>"
            ],
            "image/png": "[encoded data removed]"
          },
          "metadata": {
            "needs_background": "light"
          }
        },
        {
          "output_type": "display_data",
          "data": {
            "text/plain": [
              "<Figure size 432x288 with 1 Axes>"
            ],
            "image/png": "[encoded data removed]"
          },
          "metadata": {
            "needs_background": "light"
          }
        },
        {
          "output_type": "display_data",
          "data": {
            "text/plain": [
              "<Figure size 432x288 with 1 Axes>"
            ],
            "image/png": "[encoded data removed]"
          },
          "metadata": {
            "needs_background": "light"
          }
        },
        {
          "output_type": "display_data",
          "data": {
            "text/plain": [
              "<Figure size 432x288 with 1 Axes>"
            ],
            "image/png": "[encoded data removed]"
          },
          "metadata": {
            "needs_background": "light"
          }
        },
        {
          "output_type": "display_data",
          "data": {
            "text/plain": [
              "<Figure size 432x288 with 1 Axes>"
            ],
            "image/png": "[encoded data removed]"
          },
          "metadata": {
            "needs_background": "light"
          }
        },
        {
          "output_type": "display_data",
          "data": {
            "text/plain": [
              "<Figure size 432x288 with 1 Axes>"
            ],
            "image/png": "[encoded data removed]"
          },
          "metadata": {
            "needs_background": "light"
          }
        }
      ]
    },
    {
      "cell_type": "markdown",
      "source": [
        "同じ群でカーネル密度推定の可視化"
      ],
      "metadata": {
        "id": "U4R3-sVS2jlD"
      }
    },
    {
      "cell_type": "code",
      "source": [
        "#@title\n",
        "#カーネル密度推定\n",
        "targethist(df, target=\"outcome_1Y\", kind='kde')"
      ],
      "metadata": {
        "colab": {
          "base_uri": "https://localhost:8080/",
          "height": 1601
        },
        "id": "wuf7I0PFRmj_",
        "outputId": "b3403122-11a4-4714-e936-b9da46789e82",
        "cellView": "form"
      },
      "execution_count": 23,
      "outputs": [
        {
          "output_type": "display_data",
          "data": {
            "text/plain": [
              "<Figure size 432x288 with 1 Axes>"
            ],
            "image/png": "[encoded data removed]"
          },
          "metadata": {
            "needs_background": "light"
          }
        },
        {
          "output_type": "display_data",
          "data": {
            "text/plain": [
              "<Figure size 432x288 with 1 Axes>"
            ],
            "image/png": "[encoded data removed]"
          },
          "metadata": {
            "needs_background": "light"
          }
        },
        {
          "output_type": "display_data",
          "data": {
            "text/plain": [
              "<Figure size 432x288 with 1 Axes>"
            ],
            "image/png": "[encoded data removed]"
          },
          "metadata": {
            "needs_background": "light"
          }
        },
        {
          "output_type": "display_data",
          "data": {
            "text/plain": [
              "<Figure size 432x288 with 1 Axes>"
            ],
            "image/png": "[encoded data removed]"
          },
          "metadata": {
            "needs_background": "light"
          }
        },
        {
          "output_type": "display_data",
          "data": {
            "text/plain": [
              "<Figure size 432x288 with 1 Axes>"
            ],
            "image/png": "[encoded data removed]"
          },
          "metadata": {
            "needs_background": "light"
          }
        },
        {
          "output_type": "display_data",
          "data": {
            "text/plain": [
              "<Figure size 432x288 with 1 Axes>"
            ],
            "image/png": "[encoded data removed]"
          },
          "metadata": {
            "needs_background": "light"
          }
        }
      ]
    },
    {
      "cell_type": "markdown",
      "source": [
        "各群の平均値の表示"
      ],
      "metadata": {
        "id": "BoqX-bij2wNZ"
      }
    },
    {
      "cell_type": "code",
      "source": [
        "#@title\n",
        "#outcom_0Y=0がstage1,2,3 =1がstage4,5\n",
        "grouped=df.groupby('outcome_1Y')\n",
        "#各グループの平均値を表示 省略されないように5データフレームの50列まで表示するように設定\n",
        "pd.set_option('display.max_columns', 50)\n",
        "print(grouped.mean())"
      ],
      "metadata": {
        "colab": {
          "base_uri": "https://localhost:8080/",
          "height": 0
        },
        "id": "zwnf3ocyRtNY",
        "outputId": "e8849ab5-61d6-43b0-e647-614209bc9bb4",
        "cellView": "form"
      },
      "execution_count": 24,
      "outputs": [
        {
          "output_type": "stream",
          "name": "stdout",
          "text": [
            "                  age        DML       SCV     stage     sex_M    side_R\n",
            "outcome_1Y                                                              \n",
            "0           65.812459  10.966110  8.752029  4.002387  0.224344  0.532220\n",
            "1           72.905194  18.208333  0.245513  4.794872  0.339744  0.628205\n"
          ]
        }
      ]
    },
    {
      "cell_type": "markdown",
      "source": [
        "各群の標準偏差の表示"
      ],
      "metadata": {
        "id": "NnsZsPIL22mR"
      }
    },
    {
      "cell_type": "code",
      "source": [
        "#@title\n",
        "#各グル―プの標準偏差を表示\n",
        "print(grouped.std())"
      ],
      "metadata": {
        "colab": {
          "base_uri": "https://localhost:8080/",
          "height": 0
        },
        "id": "NefsxjW8SebW",
        "outputId": "3e752308-6dc3-4c3c-c89f-7fef20112760",
        "cellView": "form"
      },
      "execution_count": 25,
      "outputs": [
        {
          "output_type": "stream",
          "name": "stdout",
          "text": [
            "                  age       DML        SCV     stage     sex_M    side_R\n",
            "outcome_1Y                                                              \n",
            "0           12.077339  5.899396  16.366675  0.819904  0.417648  0.499557\n",
            "1           11.373059  3.965512   3.066454  0.464452  0.475147  0.484840\n"
          ]
        }
      ]
    },
    {
      "cell_type": "code",
      "source": [
        "#statsmodelsによる重回帰分析 結果の解釈は　https://tanuhack.com/statsmodels-multiple-lra/#StatsModels\n",
        "import pandas as pd\n",
        "import statsmodels.api as sm\n",
        "import statsmodels.formula.api as smf\n",
        "\n",
        "# get_dummies()カテゴリ変数をone-hot-enchodingで質的データも対応可能\n",
        "x = pd.get_dummies(df.drop(['outcome_1Y',],axis='columns') ) # ←もちろん増減可能 今回は目的変数以外すべて採用\n",
        "y = df['outcome_1Y']#目的変数の列\n",
        "\n",
        "# 定数項(y切片)を必要とする線形回帰のモデル式ならば必須\n",
        "X = sm.add_constant(x)\n",
        "\n",
        "# 最小二乗法によるモデリング\n",
        "model = sm.OLS(y,X)\n",
        "result = model.fit()\n",
        "\n",
        "# 重回帰分析の結果を表示 \n",
        "result.summary()"
      ],
      "metadata": {
        "colab": {
          "base_uri": "https://localhost:8080/",
          "height": 583
        },
        "id": "bHaZxmRBSvHc",
        "outputId": "0a5373ed-e19f-4cac-bbc4-a13c2ceb4585"
      },
      "execution_count": 27,
      "outputs": [
        {
          "output_type": "execute_result",
          "data": {
            "text/plain": [
              "<class 'statsmodels.iolib.summary.Summary'>\n",
              "\"\"\"\n",
              "                            OLS Regression Results                            \n",
              "==============================================================================\n",
              "Dep. Variable:             outcome_1Y   R-squared:                       0.298\n",
              "Model:                            OLS   Adj. R-squared:                  0.291\n",
              "Method:                 Least Squares   F-statistic:                     40.18\n",
              "Date:                Tue, 12 Apr 2022   Prob (F-statistic):           8.50e-41\n",
              "Time:                        03:40:48   Log-Likelihood:                -248.13\n",
              "No. Observations:                 575   AIC:                             510.3\n",
              "Df Residuals:                     568   BIC:                             540.7\n",
              "Df Model:                           6                                         \n",
              "Covariance Type:            nonrobust                                         \n",
              "==============================================================================\n",
              "                 coef    std err          t      P>|t|      [0.025      0.975]\n",
              "------------------------------------------------------------------------------\n",
              "const         -0.4139      0.256     -1.617      0.107      -0.917       0.089\n",
              "age            0.0051      0.001      3.766      0.000       0.002       0.008\n",
              "DML            0.0384      0.006      6.323      0.000       0.026       0.050\n",
              "SCV           -0.0004      0.002     -0.151      0.880      -0.005       0.004\n",
              "stage         -0.0490      0.070     -0.700      0.484      -0.186       0.088\n",
              "sex_M          0.1488      0.036      4.109      0.000       0.078       0.220\n",
              "side_R         0.0207      0.032      0.652      0.515      -0.042       0.083\n",
              "==============================================================================\n",
              "Omnibus:                       28.214   Durbin-Watson:                   0.120\n",
              "Prob(Omnibus):                  0.000   Jarque-Bera (JB):               19.525\n",
              "Skew:                           0.335   Prob(JB):                     5.76e-05\n",
              "Kurtosis:                       2.395   Cond. No.                     1.19e+03\n",
              "==============================================================================\n",
              "\n",
              "Warnings:\n",
              "[1] Standard Errors assume that the covariance matrix of the errors is correctly specified.\n",
              "[2] The condition number is large, 1.19e+03. This might indicate that there are\n",
              "strong multicollinearity or other numerical problems.\n",
              "\"\"\""
            ],
            "text/html": [
              "<table class=\"simpletable\">\n",
              "<caption>OLS Regression Results</caption>\n",
              "<tr>\n",
              "  <th>Dep. Variable:</th>       <td>outcome_1Y</td>    <th>  R-squared:         </th> <td>   0.298</td>\n",
              "</tr>\n",
              "<tr>\n",
              "  <th>Model:</th>                   <td>OLS</td>       <th>  Adj. R-squared:    </th> <td>   0.291</td>\n",
              "</tr>\n",
              "<tr>\n",
              "  <th>Method:</th>             <td>Least Squares</td>  <th>  F-statistic:       </th> <td>   40.18</td>\n",
              "</tr>\n",
              "<tr>\n",
              "  <th>Date:</th>             <td>Tue, 12 Apr 2022</td> <th>  Prob (F-statistic):</th> <td>8.50e-41</td>\n",
              "</tr>\n",
              "<tr>\n",
              "  <th>Time:</th>                 <td>03:40:48</td>     <th>  Log-Likelihood:    </th> <td> -248.13</td>\n",
              "</tr>\n",
              "<tr>\n",
              "  <th>No. Observations:</th>      <td>   575</td>      <th>  AIC:               </th> <td>   510.3</td>\n",
              "</tr>\n",
              "<tr>\n",
              "  <th>Df Residuals:</th>          <td>   568</td>      <th>  BIC:               </th> <td>   540.7</td>\n",
              "</tr>\n",
              "<tr>\n",
              "  <th>Df Model:</th>              <td>     6</td>      <th>                     </th>     <td> </td>   \n",
              "</tr>\n",
              "<tr>\n",
              "  <th>Covariance Type:</th>      <td>nonrobust</td>    <th>                     </th>     <td> </td>   \n",
              "</tr>\n",
              "</table>\n",
              "<table class=\"simpletable\">\n",
              "<tr>\n",
              "     <td></td>       <th>coef</th>     <th>std err</th>      <th>t</th>      <th>P>|t|</th>  <th>[0.025</th>    <th>0.975]</th>  \n",
              "</tr>\n",
              "<tr>\n",
              "  <th>const</th>  <td>   -0.4139</td> <td>    0.256</td> <td>   -1.617</td> <td> 0.107</td> <td>   -0.917</td> <td>    0.089</td>\n",
              "</tr>\n",
              "<tr>\n",
              "  <th>age</th>    <td>    0.0051</td> <td>    0.001</td> <td>    3.766</td> <td> 0.000</td> <td>    0.002</td> <td>    0.008</td>\n",
              "</tr>\n",
              "<tr>\n",
              "  <th>DML</th>    <td>    0.0384</td> <td>    0.006</td> <td>    6.323</td> <td> 0.000</td> <td>    0.026</td> <td>    0.050</td>\n",
              "</tr>\n",
              "<tr>\n",
              "  <th>SCV</th>    <td>   -0.0004</td> <td>    0.002</td> <td>   -0.151</td> <td> 0.880</td> <td>   -0.005</td> <td>    0.004</td>\n",
              "</tr>\n",
              "<tr>\n",
              "  <th>stage</th>  <td>   -0.0490</td> <td>    0.070</td> <td>   -0.700</td> <td> 0.484</td> <td>   -0.186</td> <td>    0.088</td>\n",
              "</tr>\n",
              "<tr>\n",
              "  <th>sex_M</th>  <td>    0.1488</td> <td>    0.036</td> <td>    4.109</td> <td> 0.000</td> <td>    0.078</td> <td>    0.220</td>\n",
              "</tr>\n",
              "<tr>\n",
              "  <th>side_R</th> <td>    0.0207</td> <td>    0.032</td> <td>    0.652</td> <td> 0.515</td> <td>   -0.042</td> <td>    0.083</td>\n",
              "</tr>\n",
              "</table>\n",
              "<table class=\"simpletable\">\n",
              "<tr>\n",
              "  <th>Omnibus:</th>       <td>28.214</td> <th>  Durbin-Watson:     </th> <td>   0.120</td>\n",
              "</tr>\n",
              "<tr>\n",
              "  <th>Prob(Omnibus):</th> <td> 0.000</td> <th>  Jarque-Bera (JB):  </th> <td>  19.525</td>\n",
              "</tr>\n",
              "<tr>\n",
              "  <th>Skew:</th>          <td> 0.335</td> <th>  Prob(JB):          </th> <td>5.76e-05</td>\n",
              "</tr>\n",
              "<tr>\n",
              "  <th>Kurtosis:</th>      <td> 2.395</td> <th>  Cond. No.          </th> <td>1.19e+03</td>\n",
              "</tr>\n",
              "</table><br/><br/>Warnings:<br/>[1] Standard Errors assume that the covariance matrix of the errors is correctly specified.<br/>[2] The condition number is large, 1.19e+03. This might indicate that there are<br/>strong multicollinearity or other numerical problems."
            ]
          },
          "metadata": {},
          "execution_count": 27
        }
      ]
    },
    {
      "cell_type": "markdown",
      "source": [
        "各群の数のカウント"
      ],
      "metadata": {
        "id": "OaLgq1wc3Hc6"
      }
    },
    {
      "cell_type": "code",
      "source": [
        "#@title\n",
        "#分類するクラスを確認  'Retear'=0が再断裂なし　１が再断裂あり\n",
        "df['outcome_1Y'].value_counts()"
      ],
      "metadata": {
        "colab": {
          "base_uri": "https://localhost:8080/",
          "height": 0
        },
        "id": "Vl77ZyPcTcfz",
        "outputId": "7d6ab78c-47ef-4c0e-e86a-d7490c025655",
        "cellView": "form"
      },
      "execution_count": 29,
      "outputs": [
        {
          "output_type": "execute_result",
          "data": {
            "text/plain": [
              "0    419\n",
              "1    156\n",
              "Name: outcome_1Y, dtype: int64"
            ]
          },
          "metadata": {},
          "execution_count": 29
        }
      ]
    },
    {
      "cell_type": "code",
      "source": [
        "#@title\n",
        "target='outcome_1Y'"
      ],
      "metadata": {
        "id": "toyiYsToX8tJ",
        "cellView": "form"
      },
      "execution_count": 31,
      "outputs": []
    },
    {
      "cell_type": "code",
      "source": [
        "#@title\n",
        "#データセットの分割　正解クラス　説明変数の指定\n",
        "#訓練データの不要な列を df.drop([],axis='columns')で指定\n",
        "#テストデータ数が少ないのでtestデータを20%に指定\n",
        "#不均衡データなのでstratifyで割合を指定\n",
        "train_x=df.drop([target],axis='columns') \n",
        "train_y=df[target]\n",
        "(train_x,test_x,train_y,test_y)=train_test_split(train_x,train_y,test_size=0.2,random_state=0,stratify=df[target].values)"
      ],
      "metadata": {
        "id": "aYHt_KLPT0cC",
        "cellView": "form"
      },
      "execution_count": 32,
      "outputs": []
    },
    {
      "cell_type": "markdown",
      "source": [
        "まずは不均等データのままでランダムフォレスト/ロジスティック回帰で分析してみる"
      ],
      "metadata": {
        "id": "hV8ZnJPbT51a"
      }
    },
    {
      "cell_type": "code",
      "source": [
        "#@title\n",
        "#データセットの形確認\n",
        "print(train_x.shape)\n",
        "print(test_x.shape)\n",
        "print(train_y.shape)\n",
        "print(test_y.shape)"
      ],
      "metadata": {
        "colab": {
          "base_uri": "https://localhost:8080/",
          "height": 0
        },
        "id": "AFNV5pF9T7np",
        "outputId": "b7473d40-7db8-4102-e0f4-fd0e175e4e3d",
        "cellView": "form",
        "collapsed": true
      },
      "execution_count": 33,
      "outputs": [
        {
          "output_type": "stream",
          "name": "stdout",
          "text": [
            "(460, 6)\n",
            "(115, 6)\n",
            "(460,)\n",
            "(115,)\n"
          ]
        }
      ]
    },
    {
      "cell_type": "code",
      "source": [
        "#@title\n",
        "# 訓練データ中のRetear=1のサンプル数をカウント(train_yの'1'の数値の合計)\n",
        "#テストデータ中もカウント\n",
        "positive_count_train =train_y.sum()\n",
        "positive_count_test=test_y.sum()\n",
        "print('positive target numbers in train: {}'.format(positive_count_train))\n",
        "print('positive target numbers in test:{}'.format(positive_count_test))"
      ],
      "metadata": {
        "colab": {
          "base_uri": "https://localhost:8080/",
          "height": 0
        },
        "id": "nedCVxdxYfBg",
        "outputId": "607e64b3-c8e7-4183-be20-7b58ecdc39f4",
        "cellView": "form"
      },
      "execution_count": 34,
      "outputs": [
        {
          "output_type": "stream",
          "name": "stdout",
          "text": [
            "positive target numbers in train: 125\n",
            "positive target numbers in test:31\n"
          ]
        }
      ]
    },
    {
      "cell_type": "code",
      "source": [
        "#@title\n",
        "#評価用関数のインポートおよび定義\n",
        "from sklearn.metrics import recall_score#recall score用の関数インポート\n",
        "from sklearn.metrics import precision_score\n",
        "from sklearn.metrics import f1_score"
      ],
      "metadata": {
        "id": "VMQT7D_MYzPG",
        "cellView": "form"
      },
      "execution_count": 35,
      "outputs": []
    },
    {
      "cell_type": "code",
      "source": [
        "#@title\n",
        "#感度　特異度の関数定義\n",
        "\n",
        "#感度\n",
        "def sensitivity1(test_y, pred_y):\n",
        "    cm = confusion_matrix(test_y,pred_y, labels=[1, 0])\n",
        "    return cm[0, 0]/ (cm[0,0]+cm[0,1])\n",
        "\n",
        "#特異度\n",
        "def specificity1(test_y, pred_y):\n",
        "    cm = confusion_matrix(test_y, pred_y, labels=[1, 0])\n",
        "    return cm[1, 1]/ (cm[1,0]+cm[1,1])"
      ],
      "metadata": {
        "id": "TnYICF0kY_Cx",
        "cellView": "form"
      },
      "execution_count": 36,
      "outputs": []
    },
    {
      "cell_type": "markdown",
      "source": [
        "ランダムフォレストモデル＋gridSearchによる予測モデル構築"
      ],
      "metadata": {
        "id": "59m2SllkZIUU"
      }
    },
    {
      "cell_type": "code",
      "source": [
        "#@title\n",
        "#ランダムフォレストモデルの構築\n",
        "gridsearch = {'n_estimators': [100,200,300,400],#決定木の数を辞書で渡す\n",
        "             'max_depth': [4,5,6]}#決定木の数を辞書で渡す\n",
        "score='balanced_accuracy'#モデルの評価関数を指定\n",
        "                 #https://scikit-learn.org/stable/modules/model_evaluation.html#scoring-parameter\n",
        "                 #　今回は検診で偽陰性をへらしたいのでpercisionを使用\n",
        "model_rf=GridSearchCV(RandomForestClassifier(),#分類器の指定\n",
        "                 gridsearch,#グリッドサーチで定義した辞書を渡す\n",
        "                 cv=5,              #交差検定の回数指定\n",
        "                 n_jobs= -1, #-1に設定するとコア数で並列実行\n",
        "                 scoring=score,#モデルの評価関数の指定 今回は異常検知なのでrecall使用\n",
        "                 verbose=True) #verbose=Trueで実行状況の表示\n",
        "model_rf.fit(train_x,train_y)#学習の実行 fit関数\n",
        "pred_y=model_rf.predict(test_x)#予測値の算出\n",
        "train_accuracy=model_rf.score(train_x,train_y)#学習データでの精度の算出\n",
        "print('Train Accuracy:{}'.format(train_accuracy))\n",
        "test_accuracy=accuracy_score(test_y,pred_y)#テストデータでの精度の算出\n",
        "print('Test Accuracy:{}'.format(test_accuracy))\n",
        "recall=recall_score(test_y,pred_y)\n",
        "print('Recall:{}'.format(recall))\n",
        "precision=precision_score(test_y,pred_y)\n",
        "print('Precision:{}'.format(precision))\n",
        "f_measure=f1_score(test_y,pred_y)\n",
        "print('F-measure:{}'.format(f_measure))\n",
        "sensitivity=sensitivity1(test_y,pred_y)\n",
        "print('Sensitivity:{}'.format(sensitivity))\n",
        "specificity=specificity1(test_y,pred_y)\n",
        "print('Specificity:{}'.format(specificity))\n",
        "#不均衡モデルの評価に感度と特異度の相乗平均g_meanを計算\n",
        "g_mean=math.sqrt(sensitivity*specificity)\n",
        "print('G_mean:{}'.format(g_mean))"
      ],
      "metadata": {
        "colab": {
          "base_uri": "https://localhost:8080/",
          "height": 0
        },
        "id": "cyNhSASfZPf2",
        "outputId": "72d07a41-23a9-4752-c792-3185f7a15b08",
        "cellView": "form"
      },
      "execution_count": 37,
      "outputs": [
        {
          "output_type": "stream",
          "name": "stdout",
          "text": [
            "Fitting 5 folds for each of 12 candidates, totalling 60 fits\n",
            "Train Accuracy:0.7397014925373134\n",
            "Test Accuracy:0.782608695652174\n",
            "Recall:0.3870967741935484\n",
            "Precision:0.6666666666666666\n",
            "F-measure:0.4897959183673469\n",
            "Sensitivity:0.3870967741935484\n",
            "Specificity:0.9285714285714286\n",
            "G_mean:0.5995389934010088\n"
          ]
        }
      ]
    },
    {
      "cell_type": "markdown",
      "source": [
        "ランダムフォレストモデルでの混合行列の可視化"
      ],
      "metadata": {
        "id": "N2mVoUst33IB"
      }
    },
    {
      "cell_type": "code",
      "source": [
        "#@title\n",
        "#plot_confusion_matrixのデフォルト設定でもプロットしてみる\n",
        "#confusion_matrix関数と渡す引数がちがうことに注意\n",
        "from sklearn.metrics import confusion_matrix, plot_confusion_matrix\n",
        "plot_confusion_matrix(model_rf,test_x,test_y)"
      ],
      "metadata": {
        "colab": {
          "base_uri": "https://localhost:8080/",
          "height": 297
        },
        "id": "7QuZjcLrZgFq",
        "outputId": "b41b393e-8922-495c-f080-d362f3b6ad71",
        "cellView": "form"
      },
      "execution_count": 38,
      "outputs": [
        {
          "output_type": "execute_result",
          "data": {
            "text/plain": [
              "<sklearn.metrics._plot.confusion_matrix.ConfusionMatrixDisplay at 0x7f7d6195f710>"
            ]
          },
          "metadata": {},
          "execution_count": 38
        },
        {
          "output_type": "display_data",
          "data": {
            "text/plain": [
              "<Figure size 432x288 with 2 Axes>"
            ],
            "image/png": "[encoded data removed]"
          },
          "metadata": {
            "needs_background": "light"
          }
        }
      ]
    },
    {
      "cell_type": "markdown",
      "source": [
        "ランダムフォレストモデルでのROC曲線の計算とAUCの算出"
      ],
      "metadata": {
        "id": "AVul3iei4NhK"
      }
    },
    {
      "cell_type": "code",
      "source": [
        "#@title\n",
        "#plot_roc_curve関数によるROC曲線のプロット　引数は　モデル、test_x, test_y\n",
        "from sklearn import metrics\n",
        "rf_disp=metrics.plot_roc_curve(model_rf,test_x,test_y)  # treeのROC曲線\n",
        "plt.show(rf_disp)  "
      ],
      "metadata": {
        "colab": {
          "base_uri": "https://localhost:8080/",
          "height": 279
        },
        "id": "ntlY1W57Zkfk",
        "outputId": "ba09f057-6f21-4e24-b844-abb7006e37e9",
        "cellView": "form"
      },
      "execution_count": 39,
      "outputs": [
        {
          "output_type": "display_data",
          "data": {
            "text/plain": [
              "<Figure size 432x288 with 1 Axes>"
            ],
            "image/png": "[encoded data removed]"
          },
          "metadata": {
            "needs_background": "light"
          }
        }
      ]
    },
    {
      "cell_type": "markdown",
      "source": [
        "ロジスティック回帰モデルによる予測モデル構築"
      ],
      "metadata": {
        "id": "pQQ1KG6cZng_"
      }
    },
    {
      "cell_type": "code",
      "source": [
        "#@title\n",
        "#ロジスティック回帰による分類\n",
        "from sklearn.model_selection import cross_val_predict #交差検証\n",
        "model_LR=LogisticRegression(solver='liblinear')#ハイパーパラメーターをかっこ内に記述\n",
        "pred_y=cross_val_predict(model_LR,test_x,test_y,cv=5) #cross validation の分割数を指定\n",
        "model_LR.fit(train_x,train_y)\n",
        "\n",
        "acc=accuracy_score(test_y,pred_y)\n",
        "recall=recall_score(test_y,pred_y)\n",
        "precision=precision_score(test_y,pred_y)\n",
        "\n",
        "print('Accuracy:',acc)\n",
        "print('Recall:',recall)\n",
        "print('Precision:',precision)\n",
        "conf_matrix=confusion_matrix(test_y,pred_y)\n",
        "tn_LR,fp_LR,fn_LR,tp_LR=conf_matrix.ravel()\n",
        "print('tn_LR,fp_LR,fn_LR,tp_LR=',tn_LR,fp_LR,fn_LR,tp_LR)\n",
        "f_measure=f1_score(test_y,pred_y)\n",
        "print('F-measure:{}'.format(f_measure))\n",
        "sensitivity=sensitivity1(test_y,pred_y)\n",
        "print('Sensitivity:{}'.format(sensitivity))\n",
        "specificity=specificity1(test_y,pred_y)\n",
        "print('Specificity:{}'.format(specificity))"
      ],
      "metadata": {
        "colab": {
          "base_uri": "https://localhost:8080/",
          "height": 0
        },
        "id": "_J6SyawqZnFy",
        "outputId": "6345dca2-c7c5-4a62-e625-89b9e62a4c85",
        "cellView": "form"
      },
      "execution_count": 40,
      "outputs": [
        {
          "output_type": "stream",
          "name": "stdout",
          "text": [
            "Accuracy: 0.7391304347826086\n",
            "Recall: 0.3225806451612903\n",
            "Precision: 0.5263157894736842\n",
            "tn_LR,fp_LR,fn_LR,tp_LR= 75 9 21 10\n",
            "F-measure:0.39999999999999997\n",
            "Sensitivity:0.3225806451612903\n",
            "Specificity:0.8928571428571429\n"
          ]
        }
      ]
    },
    {
      "cell_type": "markdown",
      "source": [
        "ロジステック回帰分析モデルでの混合行列の表示"
      ],
      "metadata": {
        "id": "t3KK8zhd4d1Y"
      }
    },
    {
      "cell_type": "code",
      "source": [
        "#@title\n",
        "#plot_confusion_matrixのデフォルト設定でプロット\n",
        "#confusion_matrix関数と渡す引数がちがうことに注意\n",
        "plot_confusion_matrix(model_LR,test_x,test_y)"
      ],
      "metadata": {
        "colab": {
          "base_uri": "https://localhost:8080/",
          "height": 297
        },
        "id": "YG1KOIVYZ3PG",
        "outputId": "e4429d22-3c57-4410-8065-81c004184498",
        "cellView": "form"
      },
      "execution_count": 41,
      "outputs": [
        {
          "output_type": "execute_result",
          "data": {
            "text/plain": [
              "<sklearn.metrics._plot.confusion_matrix.ConfusionMatrixDisplay at 0x7f7d617d7c10>"
            ]
          },
          "metadata": {},
          "execution_count": 41
        },
        {
          "output_type": "display_data",
          "data": {
            "text/plain": [
              "<Figure size 432x288 with 2 Axes>"
            ],
            "image/png": "[encoded data removed]"
          },
          "metadata": {
            "needs_background": "light"
          }
        }
      ]
    },
    {
      "cell_type": "markdown",
      "source": [
        "ロジステック回帰でのROC曲線の計算とAUCの算出"
      ],
      "metadata": {
        "id": "xHEEZ5lM4nIJ"
      }
    },
    {
      "cell_type": "code",
      "source": [
        "#@title\n",
        "#plot_roc_curve関数によるROC曲線のプロット　引数は　モデル、test_x, test_y\n",
        "LR_disp=metrics.plot_roc_curve(model_LR,test_x,test_y)  # treeのROC曲線\n",
        "ax = plt.gca()\n",
        "plt.show()  "
      ],
      "metadata": {
        "colab": {
          "base_uri": "https://localhost:8080/",
          "height": 279
        },
        "id": "s9G8xw5BZ5kl",
        "outputId": "7efbfc26-a76d-4e2a-8238-09f822b24504",
        "cellView": "form"
      },
      "execution_count": 42,
      "outputs": [
        {
          "output_type": "display_data",
          "data": {
            "text/plain": [
              "<Figure size 432x288 with 1 Axes>"
            ],
            "image/png": "[encoded data removed]"
          },
          "metadata": {
            "needs_background": "light"
          }
        }
      ]
    },
    {
      "cell_type": "markdown",
      "source": [
        "Adaboost(不均衡データに強い）による予測モデル構築"
      ],
      "metadata": {
        "id": "5OXU9y-74t2J"
      }
    },
    {
      "cell_type": "code",
      "source": [
        "#@title\n",
        "#不均衡データに強いとされるAdaBoostでグリッドサーチしてみる\n",
        "from sklearn.model_selection import StratifiedShuffleSplit\n",
        "from sklearn.model_selection import GridSearchCV\n",
        "from sklearn.ensemble import AdaBoostClassifier\n",
        "n_estimators = [100,200,300,400];\n",
        "cv = StratifiedShuffleSplit(n_splits=10, test_size=.30, random_state=15)\n",
        "learning_r = [0.1,1,0.01]\n",
        "\n",
        "parameters = {'n_estimators':n_estimators,\n",
        "              'learning_rate':learning_r\n",
        "              \n",
        "        }\n",
        "Ada_Boost_CV = GridSearchCV(AdaBoostClassifier(base_estimator= None, ## If None, then the base estimator is a decision tree.\n",
        "                                     ),\n",
        "                                 param_grid=parameters,\n",
        "                                 cv=cv,\n",
        "                                 n_jobs = -1)\n",
        "Ada_Boost_CV.fit(train_x,train_y) \n",
        "print(Ada_Boost_CV.best_params_)\n",
        "pred_y=Ada_Boost_CV.predict(test_x)#予測値の算出\n",
        "train_accuracy=Ada_Boost_CV.score(train_x,train_y)#学習データでの精度の算出\n",
        "print('Train Accuracy:{}'.format(train_accuracy))\n",
        "test_accuracy=accuracy_score(test_y,pred_y)#テストデータでの精度の算出\n",
        "print('Test Accuracy:{}'.format(test_accuracy))\n",
        "recall=recall_score(test_y,pred_y)\n",
        "print('Recall:{}'.format(recall))\n",
        "precision=precision_score(test_y,pred_y)\n",
        "print('Precision:{}'.format(precision))\n",
        "f_measure=f1_score(test_y,pred_y)\n",
        "print('F-measure:{}'.format(f_measure))\n",
        "sensitivity=sensitivity1(test_y,pred_y)\n",
        "print('Sensitivity:{}'.format(sensitivity))\n",
        "specificity=specificity1(test_y,pred_y)\n",
        "print('Specificity:{}'.format(specificity))\n",
        "#不均衡モデルの評価に感度と特異度の相乗平均g_meanを計算\n",
        "g_mean=math.sqrt(sensitivity*specificity)\n",
        "print('G_mean:{}'.format(g_mean))"
      ],
      "metadata": {
        "id": "Cc5G1jOKdA6G",
        "outputId": "9ef9b03d-f07b-4787-95aa-fb56e25c3f58",
        "colab": {
          "base_uri": "https://localhost:8080/",
          "height": 0
        },
        "cellView": "form"
      },
      "execution_count": 43,
      "outputs": [
        {
          "output_type": "stream",
          "name": "stdout",
          "text": [
            "{'learning_rate': 0.1, 'n_estimators': 100}\n",
            "Train Accuracy:0.8108695652173913\n",
            "Test Accuracy:0.7391304347826086\n",
            "Recall:0.3548387096774194\n",
            "Precision:0.5238095238095238\n",
            "F-measure:0.4230769230769231\n",
            "Sensitivity:0.3548387096774194\n",
            "Specificity:0.8809523809523809\n",
            "G_mean:0.5591028582867318\n"
          ]
        }
      ]
    },
    {
      "cell_type": "markdown",
      "source": [
        "Adaboostモデルでの混合行列の可視化"
      ],
      "metadata": {
        "id": "TuGihDz85QLF"
      }
    },
    {
      "cell_type": "code",
      "source": [
        "#@title\n",
        "#Ada_Boostモデルの混合行列\n",
        "#plot_confusion_matrixのデフォルト設定でプロット\n",
        "#confusion_matrix関数と渡す引数がちがうことに注意\n",
        "plot_confusion_matrix(Ada_Boost_CV,test_x,test_y)"
      ],
      "metadata": {
        "id": "nRckP6MMei45",
        "outputId": "b8b0855a-6339-466d-e7df-00c71d663e97",
        "colab": {
          "base_uri": "https://localhost:8080/",
          "height": 297
        },
        "cellView": "form"
      },
      "execution_count": 44,
      "outputs": [
        {
          "output_type": "execute_result",
          "data": {
            "text/plain": [
              "<sklearn.metrics._plot.confusion_matrix.ConfusionMatrixDisplay at 0x7f7d61b5f9d0>"
            ]
          },
          "metadata": {},
          "execution_count": 44
        },
        {
          "output_type": "display_data",
          "data": {
            "text/plain": [
              "<Figure size 432x288 with 2 Axes>"
            ],
            "image/png": "[encoded data removed]"
          },
          "metadata": {
            "needs_background": "light"
          }
        }
      ]
    },
    {
      "cell_type": "markdown",
      "source": [
        "AdaboostモデルでのROC曲線とAUCの算出"
      ],
      "metadata": {
        "id": "aEIGIbGB5YZy"
      }
    },
    {
      "cell_type": "code",
      "source": [
        "#@title\n",
        "#Ada_BoostのROC曲線\n",
        "Ada_disp=metrics.plot_roc_curve(Ada_Boost_CV,test_x,test_y)  # treeのROC曲線\n",
        "plt.show(Ada_disp)  "
      ],
      "metadata": {
        "id": "bQtkWrALgp6U",
        "outputId": "5d20cd05-0d2b-43e9-9faa-4f6090eeaf13",
        "colab": {
          "base_uri": "https://localhost:8080/",
          "height": 279
        },
        "cellView": "form"
      },
      "execution_count": 45,
      "outputs": [
        {
          "output_type": "display_data",
          "data": {
            "text/plain": [
              "<Figure size 432x288 with 1 Axes>"
            ],
            "image/png": "[encoded data removed]"
          },
          "metadata": {
            "needs_background": "light"
          }
        }
      ]
    },
    {
      "cell_type": "markdown",
      "source": [
        "LightGBMモデルによる予測モデルの作成"
      ],
      "metadata": {
        "id": "G8qiRz-g5hdZ"
      }
    },
    {
      "cell_type": "code",
      "source": [
        "#@title\n",
        "#LightGBM scikit learn APIによる訓練 confusion matrix関数を使うにはsk-learn APIが必要\n",
        "\n",
        "model_lgb = lgb.LGBMClassifier(objective='binary',\n",
        "                        metric='auc',\n",
        "                        n_estimators=1000,\n",
        "                        early_stopping_rounds=100)\n",
        "model_lgb.fit(train_x,train_y,#scilit learn APIではfitで訓練データを渡す original APIではtrain \n",
        "        eval_set=[(test_x, test_y)],\n",
        "        verbose=50)"
      ],
      "metadata": {
        "id": "l1NzLFp_g_Q6",
        "outputId": "cbcc5bad-df84-4267-d3c2-b491960569a0",
        "colab": {
          "base_uri": "https://localhost:8080/",
          "height": 0
        },
        "cellView": "form"
      },
      "execution_count": 46,
      "outputs": [
        {
          "output_type": "stream",
          "name": "stdout",
          "text": [
            "Training until validation scores don't improve for 100 rounds.\n",
            "[50]\tvalid_0's auc: 0.787058\n",
            "[100]\tvalid_0's auc: 0.779762\n",
            "Early stopping, best iteration is:\n",
            "[1]\tvalid_0's auc: 0.798003\n"
          ]
        },
        {
          "output_type": "execute_result",
          "data": {
            "text/plain": [
              "LGBMClassifier(early_stopping_rounds=100, metric='auc', n_estimators=1000,\n",
              "               objective='binary')"
            ]
          },
          "metadata": {},
          "execution_count": 46
        }
      ]
    },
    {
      "cell_type": "code",
      "source": [
        "#@title\n",
        "pred_y=model_lgb.predict(test_x)\n",
        "acc=accuracy_score(test_y,pred_y)\n",
        "recall=recall_score(test_y,pred_y)\n",
        "precision=precision_score(test_y,pred_y)\n",
        "f_measure=f1_score(test_y,pred_y)\n",
        "print('Accuracy:',acc)\n",
        "print('Recall:',recall)\n",
        "print('Precision:',precision)\n",
        "print('F-measure:{}'.format(f_measure))\n",
        "sensitivity=sensitivity1(test_y,pred_y)\n",
        "print('Sensitivity:{}'.format(sensitivity))\n",
        "specificity=specificity1(test_y,pred_y)\n",
        "print('Specificity:{}'.format(specificity))\n",
        "conf_matrix=confusion_matrix(test_y,pred_y)\n",
        "tn,fp,fn,tp=conf_matrix.ravel()\n",
        "print('tn,fp,fn,tp=',tn,fp,fn,tp)\n",
        "#不均衡モデルの評価に感度と特異度の相乗平均g_meanを計算\n",
        "g_mean=math.sqrt(sensitivity*specificity)\n",
        "print('G_mean:{}'.format(g_mean))"
      ],
      "metadata": {
        "id": "gFTkeyNsh2iF",
        "outputId": "65061294-4c70-4af9-c2cd-9250bc211d3d",
        "colab": {
          "base_uri": "https://localhost:8080/",
          "height": 0
        },
        "cellView": "form"
      },
      "execution_count": 47,
      "outputs": [
        {
          "output_type": "stream",
          "name": "stdout",
          "text": [
            "Accuracy: 0.7304347826086957\n",
            "Recall: 0.0\n",
            "Precision: 0.0\n",
            "F-measure:0.0\n",
            "Sensitivity:0.0\n",
            "Specificity:1.0\n",
            "tn,fp,fn,tp= 84 0 31 0\n",
            "G_mean:0.0\n"
          ]
        }
      ]
    },
    {
      "cell_type": "markdown",
      "source": [
        "LightGBMモデルによる混合行列の可視化"
      ],
      "metadata": {
        "id": "DGOj1FXl5uzD"
      }
    },
    {
      "cell_type": "code",
      "source": [
        "#@title\n",
        "from sklearn.metrics import confusion_matrix, plot_confusion_matrix\n",
        "plot_confusion_matrix(model_lgb,test_x,test_y)"
      ],
      "metadata": {
        "id": "2ZS42dpDiipo",
        "outputId": "db025af9-7502-4944-c234-5540e063d875",
        "colab": {
          "base_uri": "https://localhost:8080/",
          "height": 297
        },
        "cellView": "form"
      },
      "execution_count": 48,
      "outputs": [
        {
          "output_type": "execute_result",
          "data": {
            "text/plain": [
              "<sklearn.metrics._plot.confusion_matrix.ConfusionMatrixDisplay at 0x7f7d61a49cd0>"
            ]
          },
          "metadata": {},
          "execution_count": 48
        },
        {
          "output_type": "display_data",
          "data": {
            "text/plain": [
              "<Figure size 432x288 with 2 Axes>"
            ],
            "image/png": "[encoded data removed]"
          },
          "metadata": {
            "needs_background": "light"
          }
        }
      ]
    },
    {
      "cell_type": "markdown",
      "source": [
        "LightGBMモデルによるROC曲線とAUCの算出"
      ],
      "metadata": {
        "id": "pP9uJ_NX51rb"
      }
    },
    {
      "cell_type": "code",
      "source": [
        "#@title\n",
        "lgb_disp=metrics.plot_roc_curve(model_lgb,test_x,test_y)  # LGBMClassigier modelのROC曲線\n",
        "plt.show()   "
      ],
      "metadata": {
        "id": "7vrS7OsRi5DJ",
        "outputId": "17c9d490-c886-4b28-fe5e-0a7d44f00666",
        "colab": {
          "base_uri": "https://localhost:8080/",
          "height": 279
        },
        "cellView": "form"
      },
      "execution_count": 49,
      "outputs": [
        {
          "output_type": "display_data",
          "data": {
            "text/plain": [
              "<Figure size 432x288 with 1 Axes>"
            ],
            "image/png": "[encoded data removed]"
          },
          "metadata": {
            "needs_background": "light"
          }
        }
      ]
    },
    {
      "cell_type": "markdown",
      "source": [
        "oversampling（データ数を統計学的手法で水増しして機械学習モデルの精度を高める手法）を行ってデータの不均衡をなくす　ランダムフォレスト/ロジスティック回帰で分析してみる"
      ],
      "metadata": {
        "id": "MbBw02L8Z91X"
      }
    },
    {
      "cell_type": "code",
      "source": [
        "#@title\n",
        "#imbalanced-learnでデータの不均衡に対応\n",
        "import imblearn\n",
        "from imblearn.over_sampling import SMOTE\n",
        "from imblearn.under_sampling import RandomUnderSampler\n",
        "from imblearn.over_sampling import RandomOverSampler\n",
        "print(imblearn.__version__)"
      ],
      "metadata": {
        "colab": {
          "base_uri": "https://localhost:8080/",
          "height": 0
        },
        "id": "yoiipBwiaApq",
        "outputId": "e7af8297-976f-4d27-e5b7-b990832ccfb4",
        "cellView": "form"
      },
      "execution_count": 50,
      "outputs": [
        {
          "output_type": "stream",
          "name": "stdout",
          "text": [
            "0.8.1\n"
          ]
        }
      ]
    },
    {
      "cell_type": "markdown",
      "source": [
        " 公式ドキュメントでは先にtrain_test_splitしており、testデータではSMOTEしていない kaggleのこの記事参照　 https://www.kaggle.com/janiobachmann/credit-fraud-dealing-with-imbalanced-datasets \n",
        " testデータにはoversamplingしたデータは使わない　leakが生じるため\n",
        "ほかに色々試しているkaggleのnotebook https://www.kaggle.com/andreanuzzo/balance-the-imbalanced-rf-and-xgboost-with-smote"
      ],
      "metadata": {
        "id": "6NotTNeraIpm"
      }
    },
    {
      "cell_type": "code",
      "source": [
        "#@title\n",
        "#train_test_splitしてからSMOTEする\n",
        "train_x=df.drop([target],axis='columns') \n",
        "train_y=df[target]\n",
        "#続いてtain_test_splitで訓練データ　テストデータを再定義 テストデータ多めにしておく>>今回は不均衡あまりないので0.3で\n",
        "(train_x,test_x,train_y,test_y)=train_test_split(train_x,train_y,test_size=0.3,random_state=0)\n",
        "#データセットの形確認\n",
        "print(train_x.shape)\n",
        "print(test_x.shape)\n",
        "print(train_y.shape)\n",
        "print(test_y.shape)"
      ],
      "metadata": {
        "colab": {
          "base_uri": "https://localhost:8080/",
          "height": 0
        },
        "id": "NCaT3Qz1aKd8",
        "outputId": "dcc977b6-765a-4cdc-e738-4bc1ef265f6d",
        "cellView": "form",
        "collapsed": true
      },
      "execution_count": 51,
      "outputs": [
        {
          "output_type": "stream",
          "name": "stdout",
          "text": [
            "(402, 6)\n",
            "(173, 6)\n",
            "(402,)\n",
            "(173,)\n"
          ]
        }
      ]
    },
    {
      "cell_type": "code",
      "source": [
        "#@title\n",
        "#テストデータの’１’の数のカウント\n",
        "positive_count_test =test_y.sum()\n",
        "print('positive count test: {}'.format(positive_count_test))"
      ],
      "metadata": {
        "colab": {
          "base_uri": "https://localhost:8080/",
          "height": 0
        },
        "id": "20SmSKSlagET",
        "outputId": "403013a3-80db-45f0-9ab6-149de07746c4",
        "cellView": "form",
        "collapsed": true
      },
      "execution_count": 52,
      "outputs": [
        {
          "output_type": "stream",
          "name": "stdout",
          "text": [
            "positive count test: 51\n"
          ]
        }
      ]
    },
    {
      "cell_type": "code",
      "source": [
        "#訓練データのみに対してSMOTEによる水増し\n",
        "smote = SMOTE(random_state=42)\n",
        "x_SMOTE, y_SMOTE = smote.fit_resample(train_x,train_y)\n",
        "print('positive count before oversampling(SMOTE)',train_y.sum())\n",
        "print('positive count after oversampling(SMOTE)',y_SMOTE.sum())"
      ],
      "metadata": {
        "colab": {
          "base_uri": "https://localhost:8080/",
          "height": 0
        },
        "id": "f2pK27uOap1r",
        "outputId": "73ef1243-5b67-44cf-fb82-5cf02e4ad049"
      },
      "execution_count": 53,
      "outputs": [
        {
          "output_type": "stream",
          "name": "stdout",
          "text": [
            "positive count before oversampling(SMOTE) 105\n",
            "positive count after oversampling(SMOTE) 297\n"
          ]
        }
      ]
    },
    {
      "cell_type": "markdown",
      "source": [
        "OverSampling dataにたいしてRandom Forestにてモデル作成"
      ],
      "metadata": {
        "id": "nf54CFWtbhCW"
      }
    },
    {
      "cell_type": "code",
      "source": [
        "#@title\n",
        "#ランダムフォレストモデルの構築\n",
        "gridsearch = {'n_estimators': [100,200,300,400],#決定木の数を辞書で渡す\n",
        "             'max_depth': [4,5,6]}#決定木の数を辞書で渡す\n",
        "score='balanced_accuracy'#モデルの評価関数を指定https://scikit-learn.org/stable/modules/model_evaluation.html#scoring-parameter\n",
        "model_rf=GridSearchCV(RandomForestClassifier(),#分類器の指定\n",
        "                 gridsearch,#グリッドサーチで定義した辞書を渡す\n",
        "                 cv=5,              #交差検定の回数指定\n",
        "                 n_jobs= -1, #-1に設定するとコア数で並列実行\n",
        "                 scoring=score,#モデルの評価関数の指定 今回は異常検知なのでrecall使用\n",
        "                 verbose=True) #verbose=Trueで実行状況の表示\n",
        "model_rf.fit(x_SMOTE,y_SMOTE)#学習の実行 fit関数\n",
        "pred_y=model_rf.predict(test_x)#予測値の算出\n",
        "train_accuracy=model_rf.score(x_SMOTE,y_SMOTE)#学習データでの精度の算出\n",
        "print('Train Accuracy:{}'.format(train_accuracy))\n",
        "test_accuracy=accuracy_score(test_y,pred_y)#テストデータでの精度の算出\n",
        "print('Test Accuracy:{}'.format(test_accuracy))\n",
        "recall=recall_score(test_y,pred_y)\n",
        "print('Recall:{}'.format(recall))\n",
        "precision=precision_score(test_y,pred_y)\n",
        "print('Precision:{}'.format(precision))\n",
        "f_measure=f1_score(test_y,pred_y)\n",
        "print('F-measure:{}'.format(f_measure))\n",
        "sensitivity=sensitivity1(test_y,pred_y)\n",
        "print('Sensitivity:{}'.format(sensitivity))\n",
        "specificity=specificity1(test_y,pred_y)\n",
        "print('Specificity:{}'.format(specificity))\n",
        "#不均衡モデルの評価に感度と特異度の相乗平均g_meanを計算\n",
        "g_mean=math.sqrt(sensitivity*specificity)\n",
        "print('G_mean:{}'.format(g_mean))"
      ],
      "metadata": {
        "colab": {
          "base_uri": "https://localhost:8080/",
          "height": 0
        },
        "id": "YTpz3zixbghB",
        "outputId": "fd0b59a6-9115-4a7b-e9d6-02a456acc8e2",
        "cellView": "form"
      },
      "execution_count": 54,
      "outputs": [
        {
          "output_type": "stream",
          "name": "stdout",
          "text": [
            "Fitting 5 folds for each of 12 candidates, totalling 60 fits\n",
            "Train Accuracy:0.8484848484848484\n",
            "Test Accuracy:0.7341040462427746\n",
            "Recall:0.9215686274509803\n",
            "Precision:0.5280898876404494\n",
            "F-measure:0.6714285714285714\n",
            "Sensitivity:0.9215686274509803\n",
            "Specificity:0.6557377049180327\n",
            "G_mean:0.7773720452197695\n"
          ]
        }
      ]
    },
    {
      "cell_type": "code",
      "source": [
        "#@title\n",
        "model_rf.best_estimator_"
      ],
      "metadata": {
        "colab": {
          "base_uri": "https://localhost:8080/",
          "height": 0
        },
        "id": "_BqaTHlKb42_",
        "outputId": "2a5c5e51-e255-41d6-847c-78b220cf39df",
        "cellView": "form",
        "collapsed": true
      },
      "execution_count": 55,
      "outputs": [
        {
          "output_type": "execute_result",
          "data": {
            "text/plain": [
              "RandomForestClassifier(max_depth=6)"
            ]
          },
          "metadata": {},
          "execution_count": 55
        }
      ]
    },
    {
      "cell_type": "code",
      "source": [
        "#@title\n",
        "#plot_confusion_matrixのデフォルト設定でプロット\n",
        "#confusion_matrix関数と渡す引数がちがうことに注意\n",
        "plot_confusion_matrix(model_rf,test_x,test_y)"
      ],
      "metadata": {
        "colab": {
          "base_uri": "https://localhost:8080/",
          "height": 301
        },
        "id": "rmZEex7Sb8BD",
        "outputId": "d3d21acb-22a8-4d7d-f0fd-faa0a2dd3b7b",
        "cellView": "form"
      },
      "execution_count": 56,
      "outputs": [
        {
          "output_type": "execute_result",
          "data": {
            "text/plain": [
              "<sklearn.metrics._plot.confusion_matrix.ConfusionMatrixDisplay at 0x7f7d4fae7ed0>"
            ]
          },
          "metadata": {},
          "execution_count": 56
        },
        {
          "output_type": "display_data",
          "data": {
            "text/plain": [
              "<Figure size 432x288 with 2 Axes>"
            ],
            "image/png": "[encoded data removed]"
          },
          "metadata": {
            "needs_background": "light"
          }
        }
      ]
    },
    {
      "cell_type": "code",
      "source": [
        "#@title\n",
        "#plot_roc_curve関数によるROC曲線のプロット　引数は　モデル、test_x, test_y\n",
        "from sklearn import metrics\n",
        "rf_disp=metrics.plot_roc_curve(model_rf,test_x,test_y)  # treeのROC曲線\n",
        "plt.show(rf_disp)  "
      ],
      "metadata": {
        "colab": {
          "base_uri": "https://localhost:8080/",
          "height": 279
        },
        "id": "-EHPzYeEb_03",
        "outputId": "6c79cce7-1641-404e-9ef3-06c38dedb73f",
        "cellView": "form"
      },
      "execution_count": 57,
      "outputs": [
        {
          "output_type": "display_data",
          "data": {
            "text/plain": [
              "<Figure size 432x288 with 1 Axes>"
            ],
            "image/png": "[encoded data removed]"
          },
          "metadata": {
            "needs_background": "light"
          }
        }
      ]
    },
    {
      "cell_type": "markdown",
      "source": [
        "OverSampling dataにたいしてロジステック回帰にてモデル作成"
      ],
      "metadata": {
        "id": "jYZ_HvuhcMR8"
      }
    },
    {
      "cell_type": "code",
      "source": [
        "#@title\n",
        "#ロジスティック回帰による分類\n",
        "from sklearn.model_selection import cross_val_predict #交差検証\n",
        "model_LR=LogisticRegression(solver='liblinear')#ハイパーパラメーターをかっこ内に記述\n",
        "pred_y=cross_val_predict(model_LR,test_x,test_y,cv=5) #cross validation の分割数を指定\n",
        "model_LR.fit(x_SMOTE,y_SMOTE)\n",
        "\n",
        "acc=accuracy_score(test_y,pred_y)\n",
        "recall=recall_score(test_y,pred_y)\n",
        "precision=precision_score(test_y,pred_y)\n",
        "\n",
        "print('Accuracy:',acc)\n",
        "print('Recall:',recall)\n",
        "print('Precision:',precision)\n",
        "conf_matrix=confusion_matrix(test_y,pred_y)\n",
        "tn_LR,fp_LR,fn_LR,tp_LR=conf_matrix.ravel()\n",
        "print('tn_LR,fp_LR,fn_LR,tp_LR=',tn_LR,fp_LR,fn_LR,tp_LR)\n",
        "f_measure=f1_score(test_y,pred_y)\n",
        "print('F-measure:{}'.format(f_measure))\n",
        "sensitivity=sensitivity1(test_y,pred_y)\n",
        "print('Sensitivity:{}'.format(sensitivity))\n",
        "specificity=specificity1(test_y,pred_y)\n",
        "print('Specificity:{}'.format(specificity))\n",
        "#不均衡モデルの評価に感度と特異度の相乗平均g_meanを計算\n",
        "g_mean=math.sqrt(sensitivity*specificity)\n",
        "print('G_mean:{}'.format(g_mean))"
      ],
      "metadata": {
        "colab": {
          "base_uri": "https://localhost:8080/",
          "height": 0
        },
        "id": "NXtGsh3tcS8k",
        "outputId": "be324430-68da-448c-f085-e90fe15eac54",
        "cellView": "form"
      },
      "execution_count": 58,
      "outputs": [
        {
          "output_type": "stream",
          "name": "stdout",
          "text": [
            "Accuracy: 0.7341040462427746\n",
            "Recall: 0.6274509803921569\n",
            "Precision: 0.5423728813559322\n",
            "tn_LR,fp_LR,fn_LR,tp_LR= 95 27 19 32\n",
            "F-measure:0.5818181818181818\n",
            "Sensitivity:0.6274509803921569\n",
            "Specificity:0.7786885245901639\n",
            "G_mean:0.6989913291123292\n"
          ]
        }
      ]
    },
    {
      "cell_type": "code",
      "source": [
        "#@title\n",
        "#plot_confusion_matrixのデフォルト設定でプロット\n",
        "#confusion_matrix関数と渡す引数がちがうことに注意\n",
        "plot_confusion_matrix(model_LR,test_x,test_y)"
      ],
      "metadata": {
        "colab": {
          "base_uri": "https://localhost:8080/",
          "height": 299
        },
        "id": "n5HtdCzMcbXc",
        "outputId": "e0aa8617-2da6-4783-90a6-3c0a2107475c",
        "cellView": "form"
      },
      "execution_count": 59,
      "outputs": [
        {
          "output_type": "execute_result",
          "data": {
            "text/plain": [
              "<sklearn.metrics._plot.confusion_matrix.ConfusionMatrixDisplay at 0x7f7d4fb0d4d0>"
            ]
          },
          "metadata": {},
          "execution_count": 59
        },
        {
          "output_type": "display_data",
          "data": {
            "text/plain": [
              "<Figure size 432x288 with 2 Axes>"
            ],
            "image/png": "[encoded data removed]"
          },
          "metadata": {
            "needs_background": "light"
          }
        }
      ]
    },
    {
      "cell_type": "code",
      "source": [
        "#@title\n",
        "#plot_roc_curve関数によるROC曲線のプロット　引数は　モデル、test_x, test_y\n",
        "LR_disp=metrics.plot_roc_curve(model_LR,test_x,test_y)  # treeのROC曲線\n",
        "ax = plt.gca()\n",
        "plt.show()  "
      ],
      "metadata": {
        "colab": {
          "base_uri": "https://localhost:8080/",
          "height": 279
        },
        "id": "dUfwk2gNchIR",
        "outputId": "deece0bf-3707-43bc-fc6c-4965bc8d5f90",
        "cellView": "form"
      },
      "execution_count": 60,
      "outputs": [
        {
          "output_type": "display_data",
          "data": {
            "text/plain": [
              "<Figure size 432x288 with 1 Axes>"
            ],
            "image/png": "[encoded data removed]"
          },
          "metadata": {
            "needs_background": "light"
          }
        }
      ]
    },
    {
      "cell_type": "markdown",
      "source": [
        "Adaboostモデルでの構築（oversampling data使用）"
      ],
      "metadata": {
        "id": "uBmlJGy060Oz"
      }
    },
    {
      "cell_type": "code",
      "source": [
        "#@title\n",
        "#AdaBoostによるSMOTEデータに対する訓練と分類\n",
        "#AdaBoostでグリッドサーチしてみる\n",
        "from sklearn.model_selection import StratifiedShuffleSplit\n",
        "from sklearn.model_selection import GridSearchCV\n",
        "from sklearn.ensemble import AdaBoostClassifier\n",
        "n_estimators = [100,200,300,400];\n",
        "cv = StratifiedShuffleSplit(n_splits=10, test_size=.30, random_state=15)\n",
        "learning_r = [0.1,1,0.01]\n",
        "\n",
        "parameters = {'n_estimators':n_estimators,\n",
        "              'learning_rate':learning_r\n",
        "              \n",
        "        }\n",
        "Ada_Boost_CV = GridSearchCV(AdaBoostClassifier(base_estimator= None, ## If None, then the base estimator is a decision tree.\n",
        "                                     ),\n",
        "                                 param_grid=parameters,\n",
        "                                 cv=cv,\n",
        "                                 n_jobs = -1)\n",
        "Ada_Boost_CV.fit(x_SMOTE,y_SMOTE) \n",
        "print(Ada_Boost_CV.best_params_)\n",
        "pred_y=Ada_Boost_CV.predict(test_x)#予測値の算出\n",
        "train_accuracy=Ada_Boost_CV.score(x_SMOTE,y_SMOTE)#学習データでの精度の算出\n",
        "print('Train Accuracy:{}'.format(train_accuracy))\n",
        "test_accuracy=accuracy_score(test_y,pred_y)#テストデータでの精度の算出\n",
        "print('Test Accuracy:{}'.format(test_accuracy))\n",
        "recall=recall_score(test_y,pred_y)\n",
        "print('Recall:{}'.format(recall))\n",
        "precision=precision_score(test_y,pred_y)\n",
        "print('Precision:{}'.format(precision))\n",
        "f_measure=f1_score(test_y,pred_y)\n",
        "print('F-measure:{}'.format(f_measure))\n",
        "sensitivity=sensitivity1(test_y,pred_y)\n",
        "print('Sensitivity:{}'.format(sensitivity))\n",
        "specificity=specificity1(test_y,pred_y)\n",
        "print('Specificity:{}'.format(specificity))\n",
        "#不均衡モデルの評価に感度と特異度の相乗平均g_meanを計算\n",
        "g_mean=math.sqrt(sensitivity*specificity)\n",
        "print('G_mean:{}'.format(g_mean))"
      ],
      "metadata": {
        "id": "kXeob7s5eox4",
        "outputId": "6a85176a-53d1-4cbb-d50a-a16c68e9675c",
        "colab": {
          "base_uri": "https://localhost:8080/",
          "height": 0
        },
        "cellView": "form"
      },
      "execution_count": 61,
      "outputs": [
        {
          "output_type": "stream",
          "name": "stdout",
          "text": [
            "{'learning_rate': 0.1, 'n_estimators': 400}\n",
            "Train Accuracy:0.8114478114478114\n",
            "Test Accuracy:0.7456647398843931\n",
            "Recall:0.9215686274509803\n",
            "Precision:0.5402298850574713\n",
            "F-measure:0.6811594202898551\n",
            "Sensitivity:0.9215686274509803\n",
            "Specificity:0.6721311475409836\n",
            "G_mean:0.7870292110883793\n"
          ]
        }
      ]
    },
    {
      "cell_type": "code",
      "source": [
        "#@title\n",
        "#Ada_Boostモデルの混合行列\n",
        "#plot_confusion_matrixのデフォルト設定でプロット\n",
        "#confusion_matrix関数と渡す引数がちがうことに注意\n",
        "plot_confusion_matrix(Ada_Boost_CV,test_x,test_y)"
      ],
      "metadata": {
        "id": "ROo-rqGQlOkh",
        "outputId": "ff6fc010-07ce-4572-b850-a1d41637cde9",
        "colab": {
          "base_uri": "https://localhost:8080/",
          "height": 297
        },
        "cellView": "form"
      },
      "execution_count": 62,
      "outputs": [
        {
          "output_type": "execute_result",
          "data": {
            "text/plain": [
              "<sklearn.metrics._plot.confusion_matrix.ConfusionMatrixDisplay at 0x7f7d4fb1a110>"
            ]
          },
          "metadata": {},
          "execution_count": 62
        },
        {
          "output_type": "display_data",
          "data": {
            "text/plain": [
              "<Figure size 432x288 with 2 Axes>"
            ],
            "image/png": "[encoded data removed]"
          },
          "metadata": {
            "needs_background": "light"
          }
        }
      ]
    },
    {
      "cell_type": "code",
      "source": [
        "#@title\n",
        "#Ada_BoostのROC曲線\n",
        "Ada_disp=metrics.plot_roc_curve(Ada_Boost_CV,test_x,test_y)  # treeのROC曲線\n",
        "plt.show(Ada_disp)  "
      ],
      "metadata": {
        "id": "0_N-bkxtlaaf",
        "outputId": "174705d0-7de7-4fc1-a01a-4bbe8c5e43c7",
        "colab": {
          "base_uri": "https://localhost:8080/",
          "height": 279
        },
        "cellView": "form"
      },
      "execution_count": 63,
      "outputs": [
        {
          "output_type": "display_data",
          "data": {
            "text/plain": [
              "<Figure size 432x288 with 1 Axes>"
            ],
            "image/png": "[encoded data removed]"
          },
          "metadata": {
            "needs_background": "light"
          }
        }
      ]
    },
    {
      "cell_type": "markdown",
      "source": [
        "LightGBM のscilit learn　APIによるモデル構築"
      ],
      "metadata": {
        "id": "YhIjLtjCetxx"
      }
    },
    {
      "cell_type": "code",
      "source": [
        "#@title\n",
        "#LightGBM scikit learn APIによる訓練 confusion matrix関数を使うにはsk-learn APIが必要\n",
        "\n",
        "model_lgb = lgb.LGBMClassifier(objective='binary',\n",
        "                        metric='auc',\n",
        "                        n_estimators=1000,\n",
        "                        early_stopping_rounds=100)\n",
        "model_lgb.fit(x_SMOTE,y_SMOTE,#scilit learn APIではfitで訓練データを渡す original APIではtrain \n",
        "        eval_set=[(test_x, test_y)],\n",
        "        verbose=50)"
      ],
      "metadata": {
        "colab": {
          "base_uri": "https://localhost:8080/",
          "height": 0
        },
        "id": "J4bfA-U7e7mL",
        "outputId": "5dd8cfe6-ed0c-4a3c-d199-88ce3b77e55b",
        "cellView": "form"
      },
      "execution_count": 64,
      "outputs": [
        {
          "output_type": "stream",
          "name": "stdout",
          "text": [
            "Training until validation scores don't improve for 100 rounds.\n",
            "[50]\tvalid_0's auc: 0.780537\n",
            "[100]\tvalid_0's auc: 0.765349\n",
            "Early stopping, best iteration is:\n",
            "[19]\tvalid_0's auc: 0.806734\n"
          ]
        },
        {
          "output_type": "execute_result",
          "data": {
            "text/plain": [
              "LGBMClassifier(early_stopping_rounds=100, metric='auc', n_estimators=1000,\n",
              "               objective='binary')"
            ]
          },
          "metadata": {},
          "execution_count": 64
        }
      ]
    },
    {
      "cell_type": "code",
      "source": [
        "#@title\n",
        "from sklearn.metrics import confusion_matrix, plot_confusion_matrix\n",
        "plot_confusion_matrix(model_lgb,test_x,test_y)"
      ],
      "metadata": {
        "colab": {
          "base_uri": "https://localhost:8080/",
          "height": 297
        },
        "id": "kzVnv5Fde9zu",
        "outputId": "ba35ce8d-7696-4caf-a024-cf93000bf062",
        "cellView": "form"
      },
      "execution_count": 65,
      "outputs": [
        {
          "output_type": "execute_result",
          "data": {
            "text/plain": [
              "<sklearn.metrics._plot.confusion_matrix.ConfusionMatrixDisplay at 0x7f7d6197bc10>"
            ]
          },
          "metadata": {},
          "execution_count": 65
        },
        {
          "output_type": "display_data",
          "data": {
            "text/plain": [
              "<Figure size 432x288 with 2 Axes>"
            ],
            "image/png": "[encoded data removed]"
          },
          "metadata": {
            "needs_background": "light"
          }
        }
      ]
    },
    {
      "cell_type": "code",
      "source": [
        "#@title\n",
        "pred_y=model_lgb.predict(test_x)\n",
        "acc=accuracy_score(test_y,pred_y)\n",
        "recall=recall_score(test_y,pred_y)\n",
        "precision=precision_score(test_y,pred_y)\n",
        "f_measure=f1_score(test_y,pred_y)\n",
        "print('Accuracy:',acc)\n",
        "print('Recall:',recall)\n",
        "print('Precision:',precision)\n",
        "print('F-measure:{}'.format(f_measure))\n",
        "sensitivity=sensitivity1(test_y,pred_y)\n",
        "print('Sensitivity:{}'.format(sensitivity))\n",
        "specificity=specificity1(test_y,pred_y)\n",
        "print('Specificity:{}'.format(specificity))\n",
        "conf_matrix=confusion_matrix(test_y,pred_y)\n",
        "tn,fp,fn,tp=conf_matrix.ravel()\n",
        "print('tn,fp,fn,tp=',tn,fp,fn,tp)\n",
        "#不均衡モデルの評価に感度と特異度の相乗平均g_meanを計算\n",
        "g_mean=math.sqrt(sensitivity*specificity)\n",
        "print('G_mean:{}'.format(g_mean))"
      ],
      "metadata": {
        "colab": {
          "base_uri": "https://localhost:8080/",
          "height": 0
        },
        "id": "Nih61QL9fDH9",
        "outputId": "2739c8c5-f5a2-4fd9-bf53-4f7e3b2f4cc1",
        "cellView": "form"
      },
      "execution_count": 66,
      "outputs": [
        {
          "output_type": "stream",
          "name": "stdout",
          "text": [
            "Accuracy: 0.6994219653179191\n",
            "Recall: 0.9019607843137255\n",
            "Precision: 0.4946236559139785\n",
            "F-measure:0.638888888888889\n",
            "Sensitivity:0.9019607843137255\n",
            "Specificity:0.6147540983606558\n",
            "tn,fp,fn,tp= 75 47 5 46\n",
            "G_mean:0.7446368838013964\n"
          ]
        }
      ]
    },
    {
      "cell_type": "code",
      "source": [
        "#@title\n",
        "lgb_disp=metrics.plot_roc_curve(model_lgb,test_x,test_y)  # LGBMClassigier model2のROC曲線\n",
        "plt.show()   "
      ],
      "metadata": {
        "colab": {
          "base_uri": "https://localhost:8080/",
          "height": 279
        },
        "id": "6Z0eu1HTfIj8",
        "outputId": "79d1d706-89c3-4cfd-82e6-5030aaf0f98e",
        "cellView": "form"
      },
      "execution_count": 67,
      "outputs": [
        {
          "output_type": "display_data",
          "data": {
            "text/plain": [
              "<Figure size 432x288 with 1 Axes>"
            ],
            "image/png": "[encoded data removed]"
          },
          "metadata": {
            "needs_background": "light"
          }
        }
      ]
    },
    {
      "cell_type": "code",
      "source": [
        "#@title\n",
        "#いままでのROC曲線をまとめて表示\n",
        "ax = plt.gca()\n",
        "lgb_disp.plot(ax=ax, alpha=0.8)\n",
        "rf_disp.plot(ax=ax,alpha=0.8,label='Random Forest')\n",
        "LR_disp.plot(ax=ax,alpha=0.8,label='Logistic Regression')\n",
        "plt.show()"
      ],
      "metadata": {
        "colab": {
          "base_uri": "https://localhost:8080/",
          "height": 279
        },
        "id": "Py-OlWX1fKDn",
        "outputId": "efa97f76-9e8f-4336-cdb5-b7d74a7fd092",
        "cellView": "form"
      },
      "execution_count": 68,
      "outputs": [
        {
          "output_type": "display_data",
          "data": {
            "text/plain": [
              "<Figure size 432x288 with 1 Axes>"
            ],
            "image/png": "[encoded data removed]"
          },
          "metadata": {
            "needs_background": "light"
          }
        }
      ]
    },
    {
      "cell_type": "markdown",
      "source": [
        "LightGBMのscilitlearnAPIは微調整がしにくいので、精度を出すためにoriginal APIを使用する\n",
        "https://qiita.com/hara_tatsu/items/5d1334a76b6645e3a1b4"
      ],
      "metadata": {
        "id": "Jf-vgBTPfSXV"
      }
    },
    {
      "cell_type": "code",
      "source": [
        "#@title\n",
        "import lightgbm as lgb\n",
        "#originalAPIが認識する形に直す\n",
        "# 訓練データ\n",
        "lgb_train = lgb.Dataset(x_SMOTE,y_SMOTE)\n",
        "# 評価データ\n",
        "lgb_eval = lgb.Dataset(test_x, test_y, reference=lgb_train)"
      ],
      "metadata": {
        "id": "mzrPCU8wfXKB",
        "cellView": "form"
      },
      "execution_count": 69,
      "outputs": []
    },
    {
      "cell_type": "code",
      "source": [
        "#@title\n",
        "# パラメータの設定\n",
        "#※２値分類の場合 'objective': 'binary', 'metric': 'binary_error' #評価指標：正答率\n",
        "parms = {\n",
        "    'task': 'train', #トレーニング用\n",
        "    'boosting': 'gbdt', #勾配ブースティング決定木\n",
        "    'objective': 'binary', #目的：多値分類\n",
        "    'metric': 'binary_error', #評価指標：正答率\n",
        "    'num_iterations': 1000, #1000回学習\n",
        "    'verbose': -1 #学習情報を非表示\n",
        "}\n",
        "\n",
        "# モデルの学習\n",
        "lgb_model = lgb.train(parms,\n",
        "                 #訓練データ\n",
        "                 train_set=lgb_train,\n",
        "                 # 評価データ\n",
        "                 valid_sets=lgb_eval,\n",
        "                 early_stopping_rounds=100)"
      ],
      "metadata": {
        "colab": {
          "base_uri": "https://localhost:8080/",
          "height": 0
        },
        "id": "mzMBWC4sfby2",
        "outputId": "b1caf1b0-e6d9-4bba-b23d-4e204230a089",
        "cellView": "form",
        "collapsed": true
      },
      "execution_count": 70,
      "outputs": [
        {
          "output_type": "stream",
          "name": "stdout",
          "text": [
            "[1]\tvalid_0's binary_error: 0.289017\n",
            "Training until validation scores don't improve for 100 rounds.\n",
            "[2]\tvalid_0's binary_error: 0.289017\n",
            "[3]\tvalid_0's binary_error: 0.312139\n",
            "[4]\tvalid_0's binary_error: 0.312139\n",
            "[5]\tvalid_0's binary_error: 0.312139\n",
            "[6]\tvalid_0's binary_error: 0.317919\n",
            "[7]\tvalid_0's binary_error: 0.306358\n",
            "[8]\tvalid_0's binary_error: 0.306358\n",
            "[9]\tvalid_0's binary_error: 0.306358\n",
            "[10]\tvalid_0's binary_error: 0.306358\n",
            "[11]\tvalid_0's binary_error: 0.306358\n",
            "[12]\tvalid_0's binary_error: 0.306358\n",
            "[13]\tvalid_0's binary_error: 0.306358\n",
            "[14]\tvalid_0's binary_error: 0.312139\n",
            "[15]\tvalid_0's binary_error: 0.312139\n",
            "[16]\tvalid_0's binary_error: 0.312139\n",
            "[17]\tvalid_0's binary_error: 0.317919\n",
            "[18]\tvalid_0's binary_error: 0.306358\n",
            "[19]\tvalid_0's binary_error: 0.300578\n",
            "[20]\tvalid_0's binary_error: 0.300578\n",
            "[21]\tvalid_0's binary_error: 0.289017\n",
            "[22]\tvalid_0's binary_error: 0.294798\n",
            "[23]\tvalid_0's binary_error: 0.277457\n",
            "[24]\tvalid_0's binary_error: 0.283237\n",
            "[25]\tvalid_0's binary_error: 0.277457\n",
            "[26]\tvalid_0's binary_error: 0.294798\n",
            "[27]\tvalid_0's binary_error: 0.283237\n",
            "[28]\tvalid_0's binary_error: 0.300578\n",
            "[29]\tvalid_0's binary_error: 0.300578\n",
            "[30]\tvalid_0's binary_error: 0.300578\n",
            "[31]\tvalid_0's binary_error: 0.306358\n",
            "[32]\tvalid_0's binary_error: 0.312139\n",
            "[33]\tvalid_0's binary_error: 0.323699\n",
            "[34]\tvalid_0's binary_error: 0.323699\n",
            "[35]\tvalid_0's binary_error: 0.323699\n",
            "[36]\tvalid_0's binary_error: 0.323699\n",
            "[37]\tvalid_0's binary_error: 0.323699\n",
            "[38]\tvalid_0's binary_error: 0.32948\n",
            "[39]\tvalid_0's binary_error: 0.32948\n",
            "[40]\tvalid_0's binary_error: 0.32948\n",
            "[41]\tvalid_0's binary_error: 0.323699\n",
            "[42]\tvalid_0's binary_error: 0.32948\n",
            "[43]\tvalid_0's binary_error: 0.32948\n",
            "[44]\tvalid_0's binary_error: 0.323699\n",
            "[45]\tvalid_0's binary_error: 0.323699\n",
            "[46]\tvalid_0's binary_error: 0.323699\n",
            "[47]\tvalid_0's binary_error: 0.34104\n",
            "[48]\tvalid_0's binary_error: 0.34104\n",
            "[49]\tvalid_0's binary_error: 0.346821\n",
            "[50]\tvalid_0's binary_error: 0.34104\n",
            "[51]\tvalid_0's binary_error: 0.34104\n",
            "[52]\tvalid_0's binary_error: 0.34104\n",
            "[53]\tvalid_0's binary_error: 0.34104\n",
            "[54]\tvalid_0's binary_error: 0.34104\n",
            "[55]\tvalid_0's binary_error: 0.33526\n",
            "[56]\tvalid_0's binary_error: 0.32948\n",
            "[57]\tvalid_0's binary_error: 0.33526\n",
            "[58]\tvalid_0's binary_error: 0.33526\n",
            "[59]\tvalid_0's binary_error: 0.33526\n",
            "[60]\tvalid_0's binary_error: 0.32948\n",
            "[61]\tvalid_0's binary_error: 0.33526\n",
            "[62]\tvalid_0's binary_error: 0.34104\n",
            "[63]\tvalid_0's binary_error: 0.33526\n",
            "[64]\tvalid_0's binary_error: 0.33526\n",
            "[65]\tvalid_0's binary_error: 0.33526\n",
            "[66]\tvalid_0's binary_error: 0.33526\n",
            "[67]\tvalid_0's binary_error: 0.32948\n",
            "[68]\tvalid_0's binary_error: 0.33526\n",
            "[69]\tvalid_0's binary_error: 0.33526\n",
            "[70]\tvalid_0's binary_error: 0.33526\n",
            "[71]\tvalid_0's binary_error: 0.33526\n",
            "[72]\tvalid_0's binary_error: 0.32948\n",
            "[73]\tvalid_0's binary_error: 0.33526\n",
            "[74]\tvalid_0's binary_error: 0.32948\n",
            "[75]\tvalid_0's binary_error: 0.33526\n",
            "[76]\tvalid_0's binary_error: 0.32948\n",
            "[77]\tvalid_0's binary_error: 0.33526\n",
            "[78]\tvalid_0's binary_error: 0.32948\n",
            "[79]\tvalid_0's binary_error: 0.32948\n",
            "[80]\tvalid_0's binary_error: 0.33526\n",
            "[81]\tvalid_0's binary_error: 0.323699\n",
            "[82]\tvalid_0's binary_error: 0.33526\n",
            "[83]\tvalid_0's binary_error: 0.34104\n",
            "[84]\tvalid_0's binary_error: 0.33526\n",
            "[85]\tvalid_0's binary_error: 0.34104\n",
            "[86]\tvalid_0's binary_error: 0.34104\n",
            "[87]\tvalid_0's binary_error: 0.34104\n",
            "[88]\tvalid_0's binary_error: 0.34104\n",
            "[89]\tvalid_0's binary_error: 0.34104\n",
            "[90]\tvalid_0's binary_error: 0.34104\n",
            "[91]\tvalid_0's binary_error: 0.34104\n",
            "[92]\tvalid_0's binary_error: 0.34104\n",
            "[93]\tvalid_0's binary_error: 0.34104\n",
            "[94]\tvalid_0's binary_error: 0.34104\n",
            "[95]\tvalid_0's binary_error: 0.34104\n",
            "[96]\tvalid_0's binary_error: 0.34104\n",
            "[97]\tvalid_0's binary_error: 0.34104\n",
            "[98]\tvalid_0's binary_error: 0.34104\n",
            "[99]\tvalid_0's binary_error: 0.34104\n",
            "[100]\tvalid_0's binary_error: 0.34104\n",
            "[101]\tvalid_0's binary_error: 0.33526\n",
            "[102]\tvalid_0's binary_error: 0.33526\n",
            "[103]\tvalid_0's binary_error: 0.33526\n",
            "[104]\tvalid_0's binary_error: 0.33526\n",
            "[105]\tvalid_0's binary_error: 0.33526\n",
            "[106]\tvalid_0's binary_error: 0.33526\n",
            "[107]\tvalid_0's binary_error: 0.32948\n",
            "[108]\tvalid_0's binary_error: 0.32948\n",
            "[109]\tvalid_0's binary_error: 0.33526\n",
            "[110]\tvalid_0's binary_error: 0.33526\n",
            "[111]\tvalid_0's binary_error: 0.33526\n",
            "[112]\tvalid_0's binary_error: 0.32948\n",
            "[113]\tvalid_0's binary_error: 0.32948\n",
            "[114]\tvalid_0's binary_error: 0.32948\n",
            "[115]\tvalid_0's binary_error: 0.33526\n",
            "[116]\tvalid_0's binary_error: 0.33526\n",
            "[117]\tvalid_0's binary_error: 0.33526\n",
            "[118]\tvalid_0's binary_error: 0.33526\n",
            "[119]\tvalid_0's binary_error: 0.33526\n",
            "[120]\tvalid_0's binary_error: 0.33526\n",
            "[121]\tvalid_0's binary_error: 0.33526\n",
            "[122]\tvalid_0's binary_error: 0.33526\n",
            "[123]\tvalid_0's binary_error: 0.33526\n",
            "Early stopping, best iteration is:\n",
            "[23]\tvalid_0's binary_error: 0.277457\n"
          ]
        }
      ]
    },
    {
      "cell_type": "code",
      "source": [
        "#@title\n",
        "from sklearn.metrics import roc_auc_score, roc_curve, auc\n",
        "from sklearn.metrics import classification_report\n",
        "# テストデータによる推論\n",
        "y_pred = lgb_model.predict(test_x, num_iteration=lgb_model.best_iteration)\n",
        "\n",
        "# 評価指標の計算\n",
        "fpr, tpr, thresholds = roc_curve(test_y, y_pred)\n",
        "roc_auc = auc(fpr, tpr)\n",
        "\n",
        "# 重要変数とROC-Curveの可視化\n",
        "fig, axes = plt.subplots(nrows=1, ncols=2, figsize=(13,6))\n",
        "feat_imp = pd.Series(lgb_model.feature_importance(), index=test_x.columns).sort_values(ascending=False)\n",
        "feat_imp = feat_imp.head(30)\n",
        "feat_imp = feat_imp.sort_values(ascending=True)\n",
        "feat_imp.plot(kind='barh', title='Feature Importance', ax=axes[0], color=sns.color_palette()[0])\n",
        "axes[0].set_xlabel('Feature Importance Score')\n",
        "axes[1].plot(fpr, tpr, label='ROC curve (area = %0.3f)' % roc_auc)\n",
        "axes[1].plot([0,1], [0,1], 'k--')\n",
        "plt.xlabel('False Positive Rate')\n",
        "plt.ylabel('True Positive Rate')\n",
        "plt.title('ROC Curve')\n",
        "legend = axes[1].legend(frameon=True, loc='lower right', fontsize = 'medium') # 凡例\n",
        "frame = legend.get_frame()\n",
        "frame.set_facecolor('white')\n",
        "frame.set_edgecolor('gray')\n",
        "acc=accuracy_score(test_y,pred_y)\n",
        "recall=recall_score(test_y,pred_y)\n",
        "precision=precision_score(test_y,pred_y)\n",
        "f_measure=f1_score(test_y,pred_y)\n",
        "print('Accuracy:',acc)\n",
        "print('Recall:',recall)\n",
        "print('Precision:',precision)\n",
        "print('F-measure:{}'.format(f_measure))\n",
        "sensitivity=sensitivity1(test_y,pred_y)\n",
        "print('Sensitivity:{}'.format(sensitivity))\n",
        "specificity=specificity1(test_y,pred_y)\n",
        "print('Specificity:{}'.format(specificity))\n",
        "conf_matrix=confusion_matrix(test_y,pred_y)\n",
        "tn,fp,fn,tp=conf_matrix.ravel()\n",
        "print('tn,fp,fn,tp=',tn,fp,fn,tp)"
      ],
      "metadata": {
        "colab": {
          "base_uri": "https://localhost:8080/",
          "height": 531
        },
        "id": "YncqYvIhfgaX",
        "outputId": "5897583d-8439-4ae0-89c2-f6deaf1aa894",
        "cellView": "form"
      },
      "execution_count": 71,
      "outputs": [
        {
          "output_type": "stream",
          "name": "stdout",
          "text": [
            "Accuracy: 0.6994219653179191\n",
            "Recall: 0.9019607843137255\n",
            "Precision: 0.4946236559139785\n",
            "F-measure:0.638888888888889\n",
            "Sensitivity:0.9019607843137255\n",
            "Specificity:0.6147540983606558\n",
            "tn,fp,fn,tp= 75 47 5 46\n"
          ]
        },
        {
          "output_type": "display_data",
          "data": {
            "text/plain": [
              "<Figure size 936x432 with 2 Axes>"
            ],
            "image/png": "[encoded data removed]"
          },
          "metadata": {
            "needs_background": "light"
          }
        }
      ]
    }
  ]
}