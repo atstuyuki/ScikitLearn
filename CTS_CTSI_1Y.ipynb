{
  "nbformat": 4,
  "nbformat_minor": 0,
  "metadata": {
    "colab": {
      "name": "CTS_CTSI_1Y.ipynb",
      "provenance": [],
      "collapsed_sections": [],
      "authorship_tag": "ABX9TyNcUP/RbAzuJS8hfDddY/Ym",
      "include_colab_link": true
    },
    "kernelspec": {
      "name": "python3",
      "display_name": "Python 3"
    },
    "language_info": {
      "name": "python"
    }
  },
  "cells": [
    {
      "cell_type": "markdown",
      "metadata": {
        "id": "view-in-github",
        "colab_type": "text"
      },
      "source": [
        "<a href=\"https://colab.research.google.com/github/atstuyuki/ScikitLearn/blob/main/CTS_CTSI_1Y.ipynb\" target=\"_parent\"><img src=\"https://colab.research.google.com/assets/colab-badge.svg\" alt=\"Open In Colab\"/></a>"
      ]
    },
    {
      "cell_type": "code",
      "execution_count": null,
      "metadata": {
        "id": "rqpSDXb3LqRl",
        "cellView": "form"
      },
      "outputs": [],
      "source": [
        "#@title\n",
        "#ライブラリのインポート\n",
        "\n",
        "# data analysis and wranglinimport seaborn as sns\n",
        "\n",
        "import math\n",
        "import pandas as pd\n",
        "import numpy as np\n",
        "import random as rnd\n",
        "from scipy import stats\n",
        "from scipy.stats import norm\n",
        "from sklearn.preprocessing import MinMaxScaler #正規化（最小0,最大1となるように変換）\n",
        "from sklearn.preprocessing import StandardScaler #標準化（平均0,分散1となるように変換）\n",
        "from sklearn.preprocessing import RobustScaler #中央値0,四分位範囲1となるように変換(外れ値の影響を抑える)\n",
        "from sklearn.preprocessing import LabelEncoder #カテゴリ変数の置換\n",
        "from sklearn.pipeline import Pipeline #パイプライン（変換器と推定器を結合）\n",
        "from sklearn.model_selection import train_test_split\n",
        "#splitting data : train_data 80%,test_data 20%\n",
        "#X_train, X_test, y_train, y_test = \\\n",
        "#    train_test_split(X, y, test_size=0.20, random_state=1)\n",
        "\n",
        "# Added version check for recent scikit-learn 0.18 checks\n",
        "from distutils.version import LooseVersion as Version\n",
        "from sklearn import __version__ as sklearn_version\n",
        "\n",
        "# visualization\n",
        "import seaborn as sns\n",
        "import matplotlib.pyplot as plt\n",
        "%matplotlib inline\n",
        "\n",
        "# machine learning\n",
        "from sklearn.linear_model import LinearRegression #線形回帰\n",
        "from sklearn.linear_model import Lasso, LassoCV #Lasso ,LassoCV(内部チューニング)\n",
        "from sklearn.linear_model import Ridge, RidgeCV #Ridge ,RidgeCV(内部チューニング) \n",
        "from sklearn.linear_model import ElasticNet ,ElasticNetCV #RElasticNet , ElasticNetCV(内部チューニング) \n",
        "from sklearn.linear_model import LogisticRegression #ロジスティック回帰\n",
        "from sklearn.kernel_ridge import KernelRidge #カーネルリッジ回帰\n",
        "from sklearn.svm import SVC, LinearSVC #SVM\n",
        "from sklearn.decomposition import PCA #PCA(主成分分析）\n",
        "from sklearn.discriminant_analysis import LinearDiscriminantAnalysis as LDA #LDA(線形判別分析)\n",
        "from sklearn.ensemble import RandomForestClassifier #ランダムフォレスト\n",
        "from sklearn.ensemble import RandomForestRegressor #ランダムフォレスト回帰\n",
        "from sklearn.ensemble import GradientBoostingRegressor #勾配ブースティング回帰\n",
        "from sklearn.neighbors import KNeighborsClassifier #k近傍法\n",
        "from sklearn.cluster import KMeans #k-means法 (非階層的クラスタリング(クラスター分析))\n",
        "from sklearn.cluster import AgglomerativeClustering #階層的クラスタリング(クラスター分析)\n",
        "from sklearn.cluster import DBSCAN #DBSCAN(クラスター分析)\n",
        "from sklearn.naive_bayes import GaussianNB #ナイーブベイズ（正規分布ver)\n",
        "from sklearn.linear_model import Perceptron #パーセプトロン\n",
        "from sklearn.linear_model import SGDClassifier #確率的勾配降下\n",
        "from sklearn.tree import DecisionTreeClassifier #決定木\n",
        "from sklearn.tree import DecisionTreeRegressor #決定木回帰\n",
        "import xgboost as xgb #XGBoost\n",
        "import lightgbm as lgb #LightGBM\n",
        "\n",
        "\n",
        "#model_evaluation & tuning\n",
        "from sklearn.metrics import r2_score #決定係数R^2\n",
        "from sklearn.metrics import mean_squared_error #平均二乗誤差MSE \n",
        "from sklearn.metrics import confusion_matrix #混同行列\n",
        "from sklearn.metrics import accuracy_score #正解率\n",
        "from sklearn.model_selection import KFold #k分割交差検証\n",
        "from sklearn.model_selection import StratifiedKFold #層化k分割交差検証\n",
        "from sklearn.model_selection import cross_val_score #交差検証のスコア\n",
        "from sklearn.model_selection import learning_curve #学習曲線\n",
        "from sklearn.model_selection import validation_curve #検証曲線\n",
        "from sklearn.model_selection import GridSearchCV #グリッドサーチ\n",
        "\n",
        "#ignore warnings which are not unrelated to work\n",
        "#実行に影響がない警告の非表示\n",
        "import warnings\n",
        "warnings.filterwarnings('ignore')"
      ]
    },
    {
      "cell_type": "code",
      "source": [
        "#@title\n",
        "#手元のデータをgoogle colabにupload\n",
        "\n",
        "from google.colab import files\n",
        "import os\n",
        "uploaded = files.upload()\n",
        "#uploadedは辞書型なのでファイル名を取り出し、絶対パスを取得してfullpathという変数を当てる\n",
        "for k in uploaded.keys():\n",
        "  print('file name:',k)\n",
        "fullpath=os.path.abspath(k)\n",
        "print('fullpath:',fullpath)"
      ],
      "metadata": {
        "colab": {
          "resources": {
            "http://localhost:8080/nbextensions/google.colab/files.js": {
              "data": "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",
              "ok": true,
              "headers": [
                [
                  "content-type",
                  "application/javascript"
                ]
              ],
              "status": 200,
              "status_text": ""
            }
          },
          "base_uri": "https://localhost:8080/",
          "height": 115
        },
        "id": "cinl3A6PL2tY",
        "outputId": "2dfef817-6946-4388-e844-aca65eee8b94",
        "cellView": "form"
      },
      "execution_count": null,
      "outputs": [
        {
          "output_type": "display_data",
          "data": {
            "text/plain": [
              "<IPython.core.display.HTML object>"
            ],
            "text/html": [
              "\n",
              "     <input type=\"file\" id=\"files-424c5391-7717-4912-8479-cf1f9d1bfa7f\" name=\"files[]\" multiple disabled\n",
              "        style=\"border:none\" />\n",
              "     <output id=\"result-424c5391-7717-4912-8479-cf1f9d1bfa7f\">\n",
              "      Upload widget is only available when the cell has been executed in the\n",
              "      current browser session. Please rerun this cell to enable.\n",
              "      </output>\n",
              "      <script src=\"/nbextensions/google.colab/files.js\"></script> "
            ]
          },
          "metadata": {}
        },
        {
          "output_type": "stream",
          "name": "stdout",
          "text": [
            "Saving CTSI_pre_post.csv to CTSI_pre_post.csv\n",
            "file name: CTSI_pre_post.csv\n",
            "fullpath: /content/CTSI_pre_post.csv\n"
          ]
        }
      ]
    },
    {
      "cell_type": "code",
      "source": [
        "#@title\n",
        "#dataのインポート  \\を　/に置き換えfullpathを代入　csvを’,'で区切る \n",
        "#文字認識異常が出た時は　encoding='UTF-8'や’shift_jis'にする　もともとのCSVファイルの文字形式を確認する\n",
        "#もともとのCSVで数値がintやfloatではなくstring等の事があるので、良くチェックしておく\n",
        "#https://insilico-notebook.com/python-unicodedecodeerror/\n",
        "df=pd.read_csv(fullpath,sep=',',encoding='UTF-8')"
      ],
      "metadata": {
        "id": "SFeAF48mMOuy",
        "cellView": "form"
      },
      "execution_count": null,
      "outputs": []
    },
    {
      "cell_type": "code",
      "source": [
        "#@title\n",
        "df.head()#データの最初の5行の表示"
      ],
      "metadata": {
        "colab": {
          "base_uri": "https://localhost:8080/",
          "height": 206
        },
        "id": "6NO-cSL7Mj25",
        "outputId": "25bdb3cd-5294-4b6a-afde-93a0983dd5ca",
        "cellView": "form"
      },
      "execution_count": null,
      "outputs": [
        {
          "output_type": "execute_result",
          "data": {
            "text/plain": [
              "   stage  preFS  preFF  diff_PO_CTSI  diff>23_po_CTSI\n",
              "0      4     11      8           -31                0\n",
              "1      4     12     14           -17                0\n",
              "2      4     21      8           -13                0\n",
              "3      4     11      8           -10                0\n",
              "4      4     27     19            -5                0"
            ],
            "text/html": [
              "\n",
              "  <div id=\"df-7626ef98-2dd8-4c42-912c-8c52ef372aaf\">\n",
              "    <div class=\"colab-df-container\">\n",
              "      <div>\n",
              "<style scoped>\n",
              "    .dataframe tbody tr th:only-of-type {\n",
              "        vertical-align: middle;\n",
              "    }\n",
              "\n",
              "    .dataframe tbody tr th {\n",
              "        vertical-align: top;\n",
              "    }\n",
              "\n",
              "    .dataframe thead th {\n",
              "        text-align: right;\n",
              "    }\n",
              "</style>\n",
              "<table border=\"1\" class=\"dataframe\">\n",
              "  <thead>\n",
              "    <tr style=\"text-align: right;\">\n",
              "      <th></th>\n",
              "      <th>stage</th>\n",
              "      <th>preFS</th>\n",
              "      <th>preFF</th>\n",
              "      <th>diff_PO_CTSI</th>\n",
              "      <th>diff&gt;23_po_CTSI</th>\n",
              "    </tr>\n",
              "  </thead>\n",
              "  <tbody>\n",
              "    <tr>\n",
              "      <th>0</th>\n",
              "      <td>4</td>\n",
              "      <td>11</td>\n",
              "      <td>8</td>\n",
              "      <td>-31</td>\n",
              "      <td>0</td>\n",
              "    </tr>\n",
              "    <tr>\n",
              "      <th>1</th>\n",
              "      <td>4</td>\n",
              "      <td>12</td>\n",
              "      <td>14</td>\n",
              "      <td>-17</td>\n",
              "      <td>0</td>\n",
              "    </tr>\n",
              "    <tr>\n",
              "      <th>2</th>\n",
              "      <td>4</td>\n",
              "      <td>21</td>\n",
              "      <td>8</td>\n",
              "      <td>-13</td>\n",
              "      <td>0</td>\n",
              "    </tr>\n",
              "    <tr>\n",
              "      <th>3</th>\n",
              "      <td>4</td>\n",
              "      <td>11</td>\n",
              "      <td>8</td>\n",
              "      <td>-10</td>\n",
              "      <td>0</td>\n",
              "    </tr>\n",
              "    <tr>\n",
              "      <th>4</th>\n",
              "      <td>4</td>\n",
              "      <td>27</td>\n",
              "      <td>19</td>\n",
              "      <td>-5</td>\n",
              "      <td>0</td>\n",
              "    </tr>\n",
              "  </tbody>\n",
              "</table>\n",
              "</div>\n",
              "      <button class=\"colab-df-convert\" onclick=\"convertToInteractive('df-7626ef98-2dd8-4c42-912c-8c52ef372aaf')\"\n",
              "              title=\"Convert this dataframe to an interactive table.\"\n",
              "              style=\"display:none;\">\n",
              "        \n",
              "  <svg xmlns=\"http://www.w3.org/2000/svg\" height=\"24px\"viewBox=\"0 0 24 24\"\n",
              "       width=\"24px\">\n",
              "    <path d=\"M0 0h24v24H0V0z\" fill=\"none\"/>\n",
              "    <path d=\"M18.56 5.44l.94 2.06.94-2.06 2.06-.94-2.06-.94-.94-2.06-.94 2.06-2.06.94zm-11 1L8.5 8.5l.94-2.06 2.06-.94-2.06-.94L8.5 2.5l-.94 2.06-2.06.94zm10 10l.94 2.06.94-2.06 2.06-.94-2.06-.94-.94-2.06-.94 2.06-2.06.94z\"/><path d=\"M17.41 7.96l-1.37-1.37c-.4-.4-.92-.59-1.43-.59-.52 0-1.04.2-1.43.59L10.3 9.45l-7.72 7.72c-.78.78-.78 2.05 0 2.83L4 21.41c.39.39.9.59 1.41.59.51 0 1.02-.2 1.41-.59l7.78-7.78 2.81-2.81c.8-.78.8-2.07 0-2.86zM5.41 20L4 18.59l7.72-7.72 1.47 1.35L5.41 20z\"/>\n",
              "  </svg>\n",
              "      </button>\n",
              "      \n",
              "  <style>\n",
              "    .colab-df-container {\n",
              "      display:flex;\n",
              "      flex-wrap:wrap;\n",
              "      gap: 12px;\n",
              "    }\n",
              "\n",
              "    .colab-df-convert {\n",
              "      background-color: #E8F0FE;\n",
              "      border: none;\n",
              "      border-radius: 50%;\n",
              "      cursor: pointer;\n",
              "      display: none;\n",
              "      fill: #1967D2;\n",
              "      height: 32px;\n",
              "      padding: 0 0 0 0;\n",
              "      width: 32px;\n",
              "    }\n",
              "\n",
              "    .colab-df-convert:hover {\n",
              "      background-color: #E2EBFA;\n",
              "      box-shadow: 0px 1px 2px rgba(60, 64, 67, 0.3), 0px 1px 3px 1px rgba(60, 64, 67, 0.15);\n",
              "      fill: #174EA6;\n",
              "    }\n",
              "\n",
              "    [theme=dark] .colab-df-convert {\n",
              "      background-color: #3B4455;\n",
              "      fill: #D2E3FC;\n",
              "    }\n",
              "\n",
              "    [theme=dark] .colab-df-convert:hover {\n",
              "      background-color: #434B5C;\n",
              "      box-shadow: 0px 1px 3px 1px rgba(0, 0, 0, 0.15);\n",
              "      filter: drop-shadow(0px 1px 2px rgba(0, 0, 0, 0.3));\n",
              "      fill: #FFFFFF;\n",
              "    }\n",
              "  </style>\n",
              "\n",
              "      <script>\n",
              "        const buttonEl =\n",
              "          document.querySelector('#df-7626ef98-2dd8-4c42-912c-8c52ef372aaf button.colab-df-convert');\n",
              "        buttonEl.style.display =\n",
              "          google.colab.kernel.accessAllowed ? 'block' : 'none';\n",
              "\n",
              "        async function convertToInteractive(key) {\n",
              "          const element = document.querySelector('#df-7626ef98-2dd8-4c42-912c-8c52ef372aaf');\n",
              "          const dataTable =\n",
              "            await google.colab.kernel.invokeFunction('convertToInteractive',\n",
              "                                                     [key], {});\n",
              "          if (!dataTable) return;\n",
              "\n",
              "          const docLinkHtml = 'Like what you see? Visit the ' +\n",
              "            '<a target=\"_blank\" href=https://colab.research.google.com/notebooks/data_table.ipynb>data table notebook</a>'\n",
              "            + ' to learn more about interactive tables.';\n",
              "          element.innerHTML = '';\n",
              "          dataTable['output_type'] = 'display_data';\n",
              "          await google.colab.output.renderOutput(dataTable, element);\n",
              "          const docLink = document.createElement('div');\n",
              "          docLink.innerHTML = docLinkHtml;\n",
              "          element.appendChild(docLink);\n",
              "        }\n",
              "      </script>\n",
              "    </div>\n",
              "  </div>\n",
              "  "
            ]
          },
          "metadata": {},
          "execution_count": 75
        }
      ]
    },
    {
      "cell_type": "code",
      "source": [
        "#@title\n",
        "df.info()"
      ],
      "metadata": {
        "colab": {
          "base_uri": "https://localhost:8080/"
        },
        "id": "CWr49Q1Kw_D7",
        "outputId": "34c16d45-a870-407f-c32f-9991828ae332",
        "cellView": "form",
        "collapsed": true
      },
      "execution_count": null,
      "outputs": [
        {
          "output_type": "stream",
          "name": "stdout",
          "text": [
            "<class 'pandas.core.frame.DataFrame'>\n",
            "RangeIndex: 247 entries, 0 to 246\n",
            "Data columns (total 5 columns):\n",
            " #   Column           Non-Null Count  Dtype\n",
            "---  ------           --------------  -----\n",
            " 0   stage            247 non-null    int64\n",
            " 1   preFS            247 non-null    int64\n",
            " 2   preFF            247 non-null    int64\n",
            " 3   diff_PO_CTSI     247 non-null    int64\n",
            " 4   diff>23_po_CTSI  247 non-null    int64\n",
            "dtypes: int64(5)\n",
            "memory usage: 9.8 KB\n"
          ]
        }
      ]
    },
    {
      "cell_type": "code",
      "source": [
        "#@title\n",
        "#dfの型の確認　object型等は変更する必要がある\n",
        "#df.dtypes"
      ],
      "metadata": {
        "id": "sbLwYZRRN467"
      },
      "execution_count": null,
      "outputs": []
    },
    {
      "cell_type": "code",
      "source": [
        "#@title\n",
        "#今回の解析に不要な列をdrop\n",
        "df=df.drop(['diff_PO_CTSI'],axis='columns') "
      ],
      "metadata": {
        "id": "wfuBLN23OIVy"
      },
      "execution_count": null,
      "outputs": []
    },
    {
      "cell_type": "code",
      "source": [
        "#NEがカテゴリ変数と認識されるので、NEの値はDML＝20としてデータを前処理\n",
        "#df=df.replace('NE',20)"
      ],
      "metadata": {
        "id": "anvfDulza3bx"
      },
      "execution_count": null,
      "outputs": []
    },
    {
      "cell_type": "code",
      "source": [
        "#@title\n",
        "df.dtypes"
      ],
      "metadata": {
        "id": "XaFtymRFbgf1",
        "outputId": "7deca6ec-3654-45f1-a50e-b0e64156ea6d",
        "colab": {
          "base_uri": "https://localhost:8080/"
        },
        "cellView": "form",
        "collapsed": true
      },
      "execution_count": null,
      "outputs": [
        {
          "output_type": "execute_result",
          "data": {
            "text/plain": [
              "stage              int64\n",
              "preFS              int64\n",
              "preFF              int64\n",
              "diff>23_po_CTSI    int64\n",
              "dtype: object"
            ]
          },
          "metadata": {},
          "execution_count": 80
        }
      ]
    },
    {
      "cell_type": "code",
      "source": [
        "#@title\n",
        "#object型の値をpd.to_nurmericで数値型に変換する\n",
        "#df[\"DML\"]=pd.to_numeric(df[\"DML\"])\n",
        "#df.dtypes"
      ],
      "metadata": {
        "id": "SIzrh32qcfTK",
        "collapsed": true
      },
      "execution_count": null,
      "outputs": []
    },
    {
      "cell_type": "code",
      "source": [
        "#@title\n",
        "#カテゴリ変数をone hot enchoding (drop_first=Trueならダミーエンコーディングなので1次元削減)\n",
        "df= pd.get_dummies(df,drop_first=True) \n",
        "df.dtypes"
      ],
      "metadata": {
        "colab": {
          "base_uri": "https://localhost:8080/"
        },
        "id": "V4svhQdFOhus",
        "outputId": "49153c14-5363-4f30-b194-2faaae7c46bb",
        "collapsed": true
      },
      "execution_count": null,
      "outputs": [
        {
          "output_type": "execute_result",
          "data": {
            "text/plain": [
              "stage              int64\n",
              "preFS              int64\n",
              "preFF              int64\n",
              "diff>23_po_CTSI    int64\n",
              "dtype: object"
            ]
          },
          "metadata": {},
          "execution_count": 83
        }
      ]
    },
    {
      "cell_type": "code",
      "source": [
        "#@title\n",
        "#dfの欠損値の確認\n",
        "df.isnull().sum()"
      ],
      "metadata": {
        "colab": {
          "base_uri": "https://localhost:8080/"
        },
        "id": "nXhpwSjxO2iG",
        "outputId": "9115008c-3fd3-440a-fbc7-d553f5d767ac",
        "collapsed": true
      },
      "execution_count": null,
      "outputs": [
        {
          "output_type": "execute_result",
          "data": {
            "text/plain": [
              "stage              0\n",
              "preFS              0\n",
              "preFF              0\n",
              "diff>23_po_CTSI    0\n",
              "dtype: int64"
            ]
          },
          "metadata": {},
          "execution_count": 84
        }
      ]
    },
    {
      "cell_type": "code",
      "source": [
        "# データフレームの統計量記述\n",
        "df.describe()"
      ],
      "metadata": {
        "colab": {
          "base_uri": "https://localhost:8080/",
          "height": 300
        },
        "id": "GvJlI7XMQyaq",
        "outputId": "408ed4e9-1fb9-42ab-ee5f-2fd54269811d"
      },
      "execution_count": null,
      "outputs": [
        {
          "output_type": "execute_result",
          "data": {
            "text/plain": [
              "            stage       preFS       preFF  diff>23_po_CTSI\n",
              "count  247.000000  247.000000  247.000000       247.000000\n",
              "mean     4.198381   28.105263   19.902834         0.449393\n",
              "std      0.773755    9.829287    8.148437         0.498442\n",
              "min      1.000000   11.000000    8.000000         0.000000\n",
              "25%      4.000000   20.000000   13.000000         0.000000\n",
              "50%      4.000000   26.000000   19.000000         0.000000\n",
              "75%      5.000000   36.000000   25.000000         1.000000\n",
              "max      5.000000   51.000000   53.000000         1.000000"
            ],
            "text/html": [
              "\n",
              "  <div id=\"df-0b58db5c-9242-4688-9920-61f236a424bb\">\n",
              "    <div class=\"colab-df-container\">\n",
              "      <div>\n",
              "<style scoped>\n",
              "    .dataframe tbody tr th:only-of-type {\n",
              "        vertical-align: middle;\n",
              "    }\n",
              "\n",
              "    .dataframe tbody tr th {\n",
              "        vertical-align: top;\n",
              "    }\n",
              "\n",
              "    .dataframe thead th {\n",
              "        text-align: right;\n",
              "    }\n",
              "</style>\n",
              "<table border=\"1\" class=\"dataframe\">\n",
              "  <thead>\n",
              "    <tr style=\"text-align: right;\">\n",
              "      <th></th>\n",
              "      <th>stage</th>\n",
              "      <th>preFS</th>\n",
              "      <th>preFF</th>\n",
              "      <th>diff&gt;23_po_CTSI</th>\n",
              "    </tr>\n",
              "  </thead>\n",
              "  <tbody>\n",
              "    <tr>\n",
              "      <th>count</th>\n",
              "      <td>247.000000</td>\n",
              "      <td>247.000000</td>\n",
              "      <td>247.000000</td>\n",
              "      <td>247.000000</td>\n",
              "    </tr>\n",
              "    <tr>\n",
              "      <th>mean</th>\n",
              "      <td>4.198381</td>\n",
              "      <td>28.105263</td>\n",
              "      <td>19.902834</td>\n",
              "      <td>0.449393</td>\n",
              "    </tr>\n",
              "    <tr>\n",
              "      <th>std</th>\n",
              "      <td>0.773755</td>\n",
              "      <td>9.829287</td>\n",
              "      <td>8.148437</td>\n",
              "      <td>0.498442</td>\n",
              "    </tr>\n",
              "    <tr>\n",
              "      <th>min</th>\n",
              "      <td>1.000000</td>\n",
              "      <td>11.000000</td>\n",
              "      <td>8.000000</td>\n",
              "      <td>0.000000</td>\n",
              "    </tr>\n",
              "    <tr>\n",
              "      <th>25%</th>\n",
              "      <td>4.000000</td>\n",
              "      <td>20.000000</td>\n",
              "      <td>13.000000</td>\n",
              "      <td>0.000000</td>\n",
              "    </tr>\n",
              "    <tr>\n",
              "      <th>50%</th>\n",
              "      <td>4.000000</td>\n",
              "      <td>26.000000</td>\n",
              "      <td>19.000000</td>\n",
              "      <td>0.000000</td>\n",
              "    </tr>\n",
              "    <tr>\n",
              "      <th>75%</th>\n",
              "      <td>5.000000</td>\n",
              "      <td>36.000000</td>\n",
              "      <td>25.000000</td>\n",
              "      <td>1.000000</td>\n",
              "    </tr>\n",
              "    <tr>\n",
              "      <th>max</th>\n",
              "      <td>5.000000</td>\n",
              "      <td>51.000000</td>\n",
              "      <td>53.000000</td>\n",
              "      <td>1.000000</td>\n",
              "    </tr>\n",
              "  </tbody>\n",
              "</table>\n",
              "</div>\n",
              "      <button class=\"colab-df-convert\" onclick=\"convertToInteractive('df-0b58db5c-9242-4688-9920-61f236a424bb')\"\n",
              "              title=\"Convert this dataframe to an interactive table.\"\n",
              "              style=\"display:none;\">\n",
              "        \n",
              "  <svg xmlns=\"http://www.w3.org/2000/svg\" height=\"24px\"viewBox=\"0 0 24 24\"\n",
              "       width=\"24px\">\n",
              "    <path d=\"M0 0h24v24H0V0z\" fill=\"none\"/>\n",
              "    <path d=\"M18.56 5.44l.94 2.06.94-2.06 2.06-.94-2.06-.94-.94-2.06-.94 2.06-2.06.94zm-11 1L8.5 8.5l.94-2.06 2.06-.94-2.06-.94L8.5 2.5l-.94 2.06-2.06.94zm10 10l.94 2.06.94-2.06 2.06-.94-2.06-.94-.94-2.06-.94 2.06-2.06.94z\"/><path d=\"M17.41 7.96l-1.37-1.37c-.4-.4-.92-.59-1.43-.59-.52 0-1.04.2-1.43.59L10.3 9.45l-7.72 7.72c-.78.78-.78 2.05 0 2.83L4 21.41c.39.39.9.59 1.41.59.51 0 1.02-.2 1.41-.59l7.78-7.78 2.81-2.81c.8-.78.8-2.07 0-2.86zM5.41 20L4 18.59l7.72-7.72 1.47 1.35L5.41 20z\"/>\n",
              "  </svg>\n",
              "      </button>\n",
              "      \n",
              "  <style>\n",
              "    .colab-df-container {\n",
              "      display:flex;\n",
              "      flex-wrap:wrap;\n",
              "      gap: 12px;\n",
              "    }\n",
              "\n",
              "    .colab-df-convert {\n",
              "      background-color: #E8F0FE;\n",
              "      border: none;\n",
              "      border-radius: 50%;\n",
              "      cursor: pointer;\n",
              "      display: none;\n",
              "      fill: #1967D2;\n",
              "      height: 32px;\n",
              "      padding: 0 0 0 0;\n",
              "      width: 32px;\n",
              "    }\n",
              "\n",
              "    .colab-df-convert:hover {\n",
              "      background-color: #E2EBFA;\n",
              "      box-shadow: 0px 1px 2px rgba(60, 64, 67, 0.3), 0px 1px 3px 1px rgba(60, 64, 67, 0.15);\n",
              "      fill: #174EA6;\n",
              "    }\n",
              "\n",
              "    [theme=dark] .colab-df-convert {\n",
              "      background-color: #3B4455;\n",
              "      fill: #D2E3FC;\n",
              "    }\n",
              "\n",
              "    [theme=dark] .colab-df-convert:hover {\n",
              "      background-color: #434B5C;\n",
              "      box-shadow: 0px 1px 3px 1px rgba(0, 0, 0, 0.15);\n",
              "      filter: drop-shadow(0px 1px 2px rgba(0, 0, 0, 0.3));\n",
              "      fill: #FFFFFF;\n",
              "    }\n",
              "  </style>\n",
              "\n",
              "      <script>\n",
              "        const buttonEl =\n",
              "          document.querySelector('#df-0b58db5c-9242-4688-9920-61f236a424bb button.colab-df-convert');\n",
              "        buttonEl.style.display =\n",
              "          google.colab.kernel.accessAllowed ? 'block' : 'none';\n",
              "\n",
              "        async function convertToInteractive(key) {\n",
              "          const element = document.querySelector('#df-0b58db5c-9242-4688-9920-61f236a424bb');\n",
              "          const dataTable =\n",
              "            await google.colab.kernel.invokeFunction('convertToInteractive',\n",
              "                                                     [key], {});\n",
              "          if (!dataTable) return;\n",
              "\n",
              "          const docLinkHtml = 'Like what you see? Visit the ' +\n",
              "            '<a target=\"_blank\" href=https://colab.research.google.com/notebooks/data_table.ipynb>data table notebook</a>'\n",
              "            + ' to learn more about interactive tables.';\n",
              "          element.innerHTML = '';\n",
              "          dataTable['output_type'] = 'display_data';\n",
              "          await google.colab.output.renderOutput(dataTable, element);\n",
              "          const docLink = document.createElement('div');\n",
              "          docLink.innerHTML = docLinkHtml;\n",
              "          element.appendChild(docLink);\n",
              "        }\n",
              "      </script>\n",
              "    </div>\n",
              "  </div>\n",
              "  "
            ]
          },
          "metadata": {},
          "execution_count": 85
        }
      ]
    },
    {
      "cell_type": "code",
      "source": [
        "#@title\n",
        "df.info()"
      ],
      "metadata": {
        "id": "XBrddagMWSg4",
        "outputId": "a93a508a-2faf-480d-e617-a8f77c6241c6",
        "colab": {
          "base_uri": "https://localhost:8080/"
        },
        "collapsed": true
      },
      "execution_count": null,
      "outputs": [
        {
          "output_type": "stream",
          "name": "stdout",
          "text": [
            "<class 'pandas.core.frame.DataFrame'>\n",
            "RangeIndex: 247 entries, 0 to 246\n",
            "Data columns (total 4 columns):\n",
            " #   Column           Non-Null Count  Dtype\n",
            "---  ------           --------------  -----\n",
            " 0   stage            247 non-null    int64\n",
            " 1   preFS            247 non-null    int64\n",
            " 2   preFF            247 non-null    int64\n",
            " 3   diff>23_po_CTSI  247 non-null    int64\n",
            "dtypes: int64(4)\n",
            "memory usage: 7.8 KB\n"
          ]
        }
      ]
    },
    {
      "cell_type": "code",
      "source": [
        "#@title\n",
        "#ageに欠損値があるので平均値で補完する\n",
        "df=df.fillna(df.mean())\n",
        "df.info()"
      ],
      "metadata": {
        "colab": {
          "base_uri": "https://localhost:8080/"
        },
        "id": "78tjWavMypwk",
        "outputId": "882bf1bd-8940-4c6a-df22-803f7d6fa79d",
        "collapsed": true
      },
      "execution_count": null,
      "outputs": [
        {
          "output_type": "stream",
          "name": "stdout",
          "text": [
            "<class 'pandas.core.frame.DataFrame'>\n",
            "RangeIndex: 247 entries, 0 to 246\n",
            "Data columns (total 4 columns):\n",
            " #   Column           Non-Null Count  Dtype\n",
            "---  ------           --------------  -----\n",
            " 0   stage            247 non-null    int64\n",
            " 1   preFS            247 non-null    int64\n",
            " 2   preFF            247 non-null    int64\n",
            " 3   diff>23_po_CTSI  247 non-null    int64\n",
            "dtypes: int64(4)\n",
            "memory usage: 7.8 KB\n"
          ]
        }
      ]
    },
    {
      "cell_type": "markdown",
      "source": [
        "各項目の相関性をheatmapにて表示　赤なら項目間の相関性が高い"
      ],
      "metadata": {
        "id": "jeBL7JAY09cD"
      }
    },
    {
      "cell_type": "code",
      "source": [
        "#@title\n",
        "#dfでの相関係数のheatmap 白黒表示であればcmap='binary'とする\n",
        "plt.figure(figsize=(10,10))\n",
        "cmap=sns.color_palette('coolwarm',200)\n",
        "sns.heatmap(df.corr(),square=True,annot=False,cmap=cmap,center=0)"
      ],
      "metadata": {
        "colab": {
          "base_uri": "https://localhost:8080/",
          "height": 597
        },
        "id": "90wLOhAxQ4sB",
        "outputId": "4b3c4a6b-a6b3-4641-d070-660bd7324955"
      },
      "execution_count": null,
      "outputs": [
        {
          "output_type": "execute_result",
          "data": {
            "text/plain": [
              "<matplotlib.axes._subplots.AxesSubplot at 0x7f7d4f634090>"
            ]
          },
          "metadata": {},
          "execution_count": 88
        },
        {
          "output_type": "display_data",
          "data": {
            "text/plain": [
              "<Figure size 720x720 with 2 Axes>"
            ],
            "image/png": "[encoded data removed]"
          },
          "metadata": {
            "needs_background": "light"
          }
        }
      ]
    },
    {
      "cell_type": "code",
      "source": [
        "#@title\n",
        "#Pandasで目的変数別に色分けしたヒストグラムを作成する\n",
        "#関数の指定\n",
        "#http://own-search-and-study.xyz/2018/02/27/pandas%e3%81%a7%e7%9b%ae%e7%9a%84%e5%a4%89%e6%95%b0%e5%88%a5%e3%81%ab%e8%89%b2%e5%88%86%e3%81%91%e3%81%97%e3%81%9f%e3%83%92%e3%82%b9%e3%83%88%e3%82%b0%e3%83%a9%e3%83%a0%e3%82%92%e4%bd%9c%e6%88%90/\n",
        "import pandas as pd\n",
        " \n",
        "def targethist(df, target, save=False, kind='hist', **kwards):\n",
        "     \n",
        "    columns = df.columns[df.columns != target]\n",
        "    pdf = df.pivot_table(index=df.index, columns=target)\n",
        "     \n",
        "    for column in columns:\n",
        "         \n",
        "        ax = pdf.loc[:, column].plot(kind=kind, title=column, **kwards)\n",
        "         \n",
        "        if save==True:\n",
        "            ax.get_figure().savefig(column+\".png\") "
      ],
      "metadata": {
        "id": "EYQXJTLNRAmx"
      },
      "execution_count": null,
      "outputs": []
    },
    {
      "cell_type": "markdown",
      "source": [
        "１Yでstage1,2,3が改善群（0）4，5は非改善群（1）として分布をヒストグラム化"
      ],
      "metadata": {
        "id": "mOuTZQSI1Ios"
      }
    },
    {
      "cell_type": "code",
      "source": [
        "#@title\n",
        "#関数targethistに引数を渡す　\n",
        "#pandasのplotをラップしている点を活用してパラメータを指定します。\n",
        "#outcom_0Y=0がstage1,2,3 =1がstage4,5\n",
        "targethist(df,target='diff>23_po_CTSI', bins=20, alpha=0.8)"
      ],
      "metadata": {
        "colab": {
          "base_uri": "https://localhost:8080/",
          "height": 809
        },
        "id": "YPkLALdFRN7z",
        "outputId": "96ccacf3-fc85-45b1-eb71-7122535474c8"
      },
      "execution_count": null,
      "outputs": [
        {
          "output_type": "display_data",
          "data": {
            "text/plain": [
              "<Figure size 432x288 with 1 Axes>"
            ],
            "image/png": "[encoded data removed]"
          },
          "metadata": {
            "needs_background": "light"
          }
        },
        {
          "output_type": "display_data",
          "data": {
            "text/plain": [
              "<Figure size 432x288 with 1 Axes>"
            ],
            "image/png": "[encoded data removed]"
          },
          "metadata": {
            "needs_background": "light"
          }
        },
        {
          "output_type": "display_data",
          "data": {
            "text/plain": [
              "<Figure size 432x288 with 1 Axes>"
            ],
            "image/png": "[encoded data removed]"
          },
          "metadata": {
            "needs_background": "light"
          }
        }
      ]
    },
    {
      "cell_type": "markdown",
      "source": [
        "同じ群間でボックスプロットによる群の表示"
      ],
      "metadata": {
        "id": "YK6SAWQP2YIe"
      }
    },
    {
      "cell_type": "code",
      "source": [
        "#@title\n",
        "#outcom_0Y=0がstage1,2,3 =1がstage4,5\n",
        "#box plotしてみる\n",
        "targethist(df, target='diff>23_po_CTSI', kind='box')"
      ],
      "metadata": {
        "colab": {
          "base_uri": "https://localhost:8080/",
          "height": 809
        },
        "id": "ahWDAd5LRSNv",
        "outputId": "c6e6eb0d-34f9-4c6d-939c-b8ac16a0e5ed"
      },
      "execution_count": null,
      "outputs": [
        {
          "output_type": "display_data",
          "data": {
            "text/plain": [
              "<Figure size 432x288 with 1 Axes>"
            ],
            "image/png": "[encoded data removed]"
          },
          "metadata": {
            "needs_background": "light"
          }
        },
        {
          "output_type": "display_data",
          "data": {
            "text/plain": [
              "<Figure size 432x288 with 1 Axes>"
            ],
            "image/png": "[encoded data removed]"
          },
          "metadata": {
            "needs_background": "light"
          }
        },
        {
          "output_type": "display_data",
          "data": {
            "text/plain": [
              "<Figure size 432x288 with 1 Axes>"
            ],
            "image/png": "[encoded data removed]"
          },
          "metadata": {
            "needs_background": "light"
          }
        }
      ]
    },
    {
      "cell_type": "markdown",
      "source": [
        "同じ群でカーネル密度推定の可視化"
      ],
      "metadata": {
        "id": "U4R3-sVS2jlD"
      }
    },
    {
      "cell_type": "code",
      "source": [
        "#@title\n",
        "#カーネル密度推定\n",
        "targethist(df, target='diff>23_po_CTSI', kind='kde')"
      ],
      "metadata": {
        "colab": {
          "base_uri": "https://localhost:8080/",
          "height": 809
        },
        "id": "wuf7I0PFRmj_",
        "outputId": "80af604f-b2f9-493b-b96b-ec04ae7dd312"
      },
      "execution_count": null,
      "outputs": [
        {
          "output_type": "display_data",
          "data": {
            "text/plain": [
              "<Figure size 432x288 with 1 Axes>"
            ],
            "image/png": "[encoded data removed]"
          },
          "metadata": {
            "needs_background": "light"
          }
        },
        {
          "output_type": "display_data",
          "data": {
            "text/plain": [
              "<Figure size 432x288 with 1 Axes>"
            ],
            "image/png": "[encoded data removed]"
          },
          "metadata": {
            "needs_background": "light"
          }
        },
        {
          "output_type": "display_data",
          "data": {
            "text/plain": [
              "<Figure size 432x288 with 1 Axes>"
            ],
            "image/png": "[encoded data removed]"
          },
          "metadata": {
            "needs_background": "light"
          }
        }
      ]
    },
    {
      "cell_type": "markdown",
      "source": [
        "各群の平均値の表示"
      ],
      "metadata": {
        "id": "BoqX-bij2wNZ"
      }
    },
    {
      "cell_type": "code",
      "source": [
        "#@title\n",
        "#outcom_0Y=0がstage1,2,3 =1がstage4,5\n",
        "grouped=df.groupby('diff>23_po_CTSI')\n",
        "#各グループの平均値を表示 省略されないように5データフレームの50列まで表示するように設定\n",
        "pd.set_option('display.max_columns', 50)\n",
        "print(grouped.mean())"
      ],
      "metadata": {
        "colab": {
          "base_uri": "https://localhost:8080/"
        },
        "id": "zwnf3ocyRtNY",
        "outputId": "0c72cbb4-531f-4b44-b6db-d2d390bfad2d"
      },
      "execution_count": null,
      "outputs": [
        {
          "output_type": "stream",
          "name": "stdout",
          "text": [
            "                    stage      preFS      preFF\n",
            "diff>23_po_CTSI                                \n",
            "0                4.301471  22.080882  16.154412\n",
            "1                4.072072  35.486486  24.495495\n"
          ]
        }
      ]
    },
    {
      "cell_type": "markdown",
      "source": [
        "各群の標準偏差の表示"
      ],
      "metadata": {
        "id": "NnsZsPIL22mR"
      }
    },
    {
      "cell_type": "code",
      "source": [
        "#@title\n",
        "#各グル―プの標準偏差を表示\n",
        "print(grouped.std())"
      ],
      "metadata": {
        "colab": {
          "base_uri": "https://localhost:8080/"
        },
        "id": "NefsxjW8SebW",
        "outputId": "8d4c890e-c4f0-4ead-d2a5-e7bc86040ffa"
      },
      "execution_count": null,
      "outputs": [
        {
          "output_type": "stream",
          "name": "stdout",
          "text": [
            "                    stage     preFS     preFF\n",
            "diff>23_po_CTSI                              \n",
            "0                0.681174  7.079501  6.813797\n",
            "1                0.860356  7.396393  7.269955\n"
          ]
        }
      ]
    },
    {
      "cell_type": "code",
      "source": [
        "#statsmodelsによる重回帰分析 結果の解釈は　https://tanuhack.com/statsmodels-multiple-lra/#StatsModels\n",
        "import pandas as pd\n",
        "import statsmodels.api as sm\n",
        "import statsmodels.formula.api as smf\n",
        "\n",
        "# get_dummies()カテゴリ変数をone-hot-enchodingで質的データも対応可能\n",
        "x = pd.get_dummies(df.drop(['diff>23_po_CTSI',],axis='columns') ) # ←もちろん増減可能 今回は目的変数以外すべて採用\n",
        "y = df['diff>23_po_CTSI']#目的変数の列\n",
        "\n",
        "# 定数項(y切片)を必要とする線形回帰のモデル式ならば必須\n",
        "X = sm.add_constant(x)\n",
        "\n",
        "# 最小二乗法によるモデリング\n",
        "model = sm.OLS(y,X)\n",
        "result = model.fit()\n",
        "\n",
        "# 重回帰分析の結果を表示 \n",
        "result.summary()"
      ],
      "metadata": {
        "colab": {
          "base_uri": "https://localhost:8080/",
          "height": 486
        },
        "id": "bHaZxmRBSvHc",
        "outputId": "14d5995d-8eea-459b-fea0-5f1d470337a1"
      },
      "execution_count": null,
      "outputs": [
        {
          "output_type": "execute_result",
          "data": {
            "text/plain": [
              "<class 'statsmodels.iolib.summary.Summary'>\n",
              "\"\"\"\n",
              "                            OLS Regression Results                            \n",
              "==============================================================================\n",
              "Dep. Variable:        diff>23_po_CTSI   R-squared:                       0.504\n",
              "Model:                            OLS   Adj. R-squared:                  0.498\n",
              "Method:                 Least Squares   F-statistic:                     82.23\n",
              "Date:                Tue, 12 Apr 2022   Prob (F-statistic):           9.45e-37\n",
              "Time:                        05:18:44   Log-Likelihood:                -91.463\n",
              "No. Observations:                 247   AIC:                             190.9\n",
              "Df Residuals:                     243   BIC:                             205.0\n",
              "Df Model:                           3                                         \n",
              "Covariance Type:            nonrobust                                         \n",
              "==============================================================================\n",
              "                 coef    std err          t      P>|t|      [0.025      0.975]\n",
              "------------------------------------------------------------------------------\n",
              "const         -0.3248      0.147     -2.217      0.028      -0.613      -0.036\n",
              "stage         -0.0673      0.030     -2.281      0.023      -0.125      -0.009\n",
              "preFS          0.0279      0.003     10.192      0.000       0.023       0.033\n",
              "preFF          0.0137      0.003      4.162      0.000       0.007       0.020\n",
              "==============================================================================\n",
              "Omnibus:                       10.100   Durbin-Watson:                   0.605\n",
              "Prob(Omnibus):                  0.006   Jarque-Bera (JB):               12.168\n",
              "Skew:                          -0.347   Prob(JB):                      0.00228\n",
              "Kurtosis:                       3.836   Cond. No.                         241.\n",
              "==============================================================================\n",
              "\n",
              "Warnings:\n",
              "[1] Standard Errors assume that the covariance matrix of the errors is correctly specified.\n",
              "\"\"\""
            ],
            "text/html": [
              "<table class=\"simpletable\">\n",
              "<caption>OLS Regression Results</caption>\n",
              "<tr>\n",
              "  <th>Dep. Variable:</th>     <td>diff>23_po_CTSI</td> <th>  R-squared:         </th> <td>   0.504</td>\n",
              "</tr>\n",
              "<tr>\n",
              "  <th>Model:</th>                   <td>OLS</td>       <th>  Adj. R-squared:    </th> <td>   0.498</td>\n",
              "</tr>\n",
              "<tr>\n",
              "  <th>Method:</th>             <td>Least Squares</td>  <th>  F-statistic:       </th> <td>   82.23</td>\n",
              "</tr>\n",
              "<tr>\n",
              "  <th>Date:</th>             <td>Tue, 12 Apr 2022</td> <th>  Prob (F-statistic):</th> <td>9.45e-37</td>\n",
              "</tr>\n",
              "<tr>\n",
              "  <th>Time:</th>                 <td>05:18:44</td>     <th>  Log-Likelihood:    </th> <td> -91.463</td>\n",
              "</tr>\n",
              "<tr>\n",
              "  <th>No. Observations:</th>      <td>   247</td>      <th>  AIC:               </th> <td>   190.9</td>\n",
              "</tr>\n",
              "<tr>\n",
              "  <th>Df Residuals:</th>          <td>   243</td>      <th>  BIC:               </th> <td>   205.0</td>\n",
              "</tr>\n",
              "<tr>\n",
              "  <th>Df Model:</th>              <td>     3</td>      <th>                     </th>     <td> </td>   \n",
              "</tr>\n",
              "<tr>\n",
              "  <th>Covariance Type:</th>      <td>nonrobust</td>    <th>                     </th>     <td> </td>   \n",
              "</tr>\n",
              "</table>\n",
              "<table class=\"simpletable\">\n",
              "<tr>\n",
              "    <td></td>       <th>coef</th>     <th>std err</th>      <th>t</th>      <th>P>|t|</th>  <th>[0.025</th>    <th>0.975]</th>  \n",
              "</tr>\n",
              "<tr>\n",
              "  <th>const</th> <td>   -0.3248</td> <td>    0.147</td> <td>   -2.217</td> <td> 0.028</td> <td>   -0.613</td> <td>   -0.036</td>\n",
              "</tr>\n",
              "<tr>\n",
              "  <th>stage</th> <td>   -0.0673</td> <td>    0.030</td> <td>   -2.281</td> <td> 0.023</td> <td>   -0.125</td> <td>   -0.009</td>\n",
              "</tr>\n",
              "<tr>\n",
              "  <th>preFS</th> <td>    0.0279</td> <td>    0.003</td> <td>   10.192</td> <td> 0.000</td> <td>    0.023</td> <td>    0.033</td>\n",
              "</tr>\n",
              "<tr>\n",
              "  <th>preFF</th> <td>    0.0137</td> <td>    0.003</td> <td>    4.162</td> <td> 0.000</td> <td>    0.007</td> <td>    0.020</td>\n",
              "</tr>\n",
              "</table>\n",
              "<table class=\"simpletable\">\n",
              "<tr>\n",
              "  <th>Omnibus:</th>       <td>10.100</td> <th>  Durbin-Watson:     </th> <td>   0.605</td>\n",
              "</tr>\n",
              "<tr>\n",
              "  <th>Prob(Omnibus):</th> <td> 0.006</td> <th>  Jarque-Bera (JB):  </th> <td>  12.168</td>\n",
              "</tr>\n",
              "<tr>\n",
              "  <th>Skew:</th>          <td>-0.347</td> <th>  Prob(JB):          </th> <td> 0.00228</td>\n",
              "</tr>\n",
              "<tr>\n",
              "  <th>Kurtosis:</th>      <td> 3.836</td> <th>  Cond. No.          </th> <td>    241.</td>\n",
              "</tr>\n",
              "</table><br/><br/>Warnings:<br/>[1] Standard Errors assume that the covariance matrix of the errors is correctly specified."
            ]
          },
          "metadata": {},
          "execution_count": 95
        }
      ]
    },
    {
      "cell_type": "markdown",
      "source": [
        "各群の数のカウント"
      ],
      "metadata": {
        "id": "OaLgq1wc3Hc6"
      }
    },
    {
      "cell_type": "code",
      "source": [
        "#@title\n",
        "#分類するクラスを確認  'Retear'=0が再断裂なし　１が再断裂あり\n",
        "df['diff>23_po_CTSI'].value_counts()"
      ],
      "metadata": {
        "colab": {
          "base_uri": "https://localhost:8080/"
        },
        "id": "Vl77ZyPcTcfz",
        "outputId": "5fc1c208-5394-4226-a835-49be890dac2d"
      },
      "execution_count": null,
      "outputs": [
        {
          "output_type": "execute_result",
          "data": {
            "text/plain": [
              "0    136\n",
              "1    111\n",
              "Name: diff>23_po_CTSI, dtype: int64"
            ]
          },
          "metadata": {},
          "execution_count": 96
        }
      ]
    },
    {
      "cell_type": "code",
      "source": [
        "#@title\n",
        "target='diff>23_po_CTSI'"
      ],
      "metadata": {
        "id": "toyiYsToX8tJ"
      },
      "execution_count": null,
      "outputs": []
    },
    {
      "cell_type": "code",
      "source": [
        "#@title\n",
        "#データセットの分割　正解クラス　説明変数の指定\n",
        "#訓練データの不要な列を df.drop([],axis='columns')で指定\n",
        "#テストデータ数が少ないのでtestデータを20%に指定\n",
        "#不均衡データなのでstratifyで割合を指定\n",
        "train_x=df.drop([target],axis='columns') \n",
        "train_y=df[target]\n",
        "(train_x,test_x,train_y,test_y)=train_test_split(train_x,train_y,test_size=0.2,random_state=0,stratify=df[target].values)"
      ],
      "metadata": {
        "id": "aYHt_KLPT0cC",
        "cellView": "form"
      },
      "execution_count": null,
      "outputs": []
    },
    {
      "cell_type": "markdown",
      "source": [
        "まずは不均等データのままでランダムフォレスト/ロジスティック回帰で分析してみる"
      ],
      "metadata": {
        "id": "hV8ZnJPbT51a"
      }
    },
    {
      "cell_type": "code",
      "source": [
        "#@title\n",
        "#データセットの形確認\n",
        "print(train_x.shape)\n",
        "print(test_x.shape)\n",
        "print(train_y.shape)\n",
        "print(test_y.shape)"
      ],
      "metadata": {
        "colab": {
          "base_uri": "https://localhost:8080/"
        },
        "id": "AFNV5pF9T7np",
        "outputId": "93fd8237-6032-431e-9bc8-835861b2e280",
        "cellView": "form",
        "collapsed": true
      },
      "execution_count": null,
      "outputs": [
        {
          "output_type": "stream",
          "name": "stdout",
          "text": [
            "(197, 3)\n",
            "(50, 3)\n",
            "(197,)\n",
            "(50,)\n"
          ]
        }
      ]
    },
    {
      "cell_type": "code",
      "source": [
        "#@title\n",
        "# 訓練データ中のRetear=1のサンプル数をカウント(train_yの'1'の数値の合計)\n",
        "#テストデータ中もカウント\n",
        "positive_count_train =train_y.sum()\n",
        "positive_count_test=test_y.sum()\n",
        "print('positive target numbers in train: {}'.format(positive_count_train))\n",
        "print('positive target numbers in test:{}'.format(positive_count_test))"
      ],
      "metadata": {
        "colab": {
          "base_uri": "https://localhost:8080/"
        },
        "id": "nedCVxdxYfBg",
        "outputId": "541a3255-a5bb-4368-9863-cea3bd562c3e",
        "cellView": "form"
      },
      "execution_count": null,
      "outputs": [
        {
          "output_type": "stream",
          "name": "stdout",
          "text": [
            "positive target numbers in train: 89\n",
            "positive target numbers in test:22\n"
          ]
        }
      ]
    },
    {
      "cell_type": "code",
      "source": [
        "#@title\n",
        "#評価用関数のインポートおよび定義\n",
        "from sklearn.metrics import recall_score#recall score用の関数インポート\n",
        "from sklearn.metrics import precision_score\n",
        "from sklearn.metrics import f1_score"
      ],
      "metadata": {
        "id": "VMQT7D_MYzPG",
        "cellView": "form"
      },
      "execution_count": null,
      "outputs": []
    },
    {
      "cell_type": "code",
      "source": [
        "#@title\n",
        "#感度　特異度の関数定義\n",
        "\n",
        "#感度\n",
        "def sensitivity1(test_y, pred_y):\n",
        "    cm = confusion_matrix(test_y,pred_y, labels=[1, 0])\n",
        "    return cm[0, 0]/ (cm[0,0]+cm[0,1])\n",
        "\n",
        "#特異度\n",
        "def specificity1(test_y, pred_y):\n",
        "    cm = confusion_matrix(test_y, pred_y, labels=[1, 0])\n",
        "    return cm[1, 1]/ (cm[1,0]+cm[1,1])"
      ],
      "metadata": {
        "id": "TnYICF0kY_Cx",
        "cellView": "form"
      },
      "execution_count": null,
      "outputs": []
    },
    {
      "cell_type": "markdown",
      "source": [
        "ランダムフォレストモデル＋gridSearchによる予測モデル構築"
      ],
      "metadata": {
        "id": "59m2SllkZIUU"
      }
    },
    {
      "cell_type": "code",
      "source": [
        "#@title\n",
        "#ランダムフォレストモデルの構築\n",
        "gridsearch = {'n_estimators': [100,200,300,400],#決定木の数を辞書で渡す\n",
        "             'max_depth': [4,5,6]}#決定木の数を辞書で渡す\n",
        "score='balanced_accuracy'#モデルの評価関数を指定\n",
        "                 #https://scikit-learn.org/stable/modules/model_evaluation.html#scoring-parameter\n",
        "                 #　今回は検診で偽陰性をへらしたいのでpercisionを使用\n",
        "model_rf=GridSearchCV(RandomForestClassifier(),#分類器の指定\n",
        "                 gridsearch,#グリッドサーチで定義した辞書を渡す\n",
        "                 cv=5,              #交差検定の回数指定\n",
        "                 n_jobs= -1, #-1に設定するとコア数で並列実行\n",
        "                 scoring=score,#モデルの評価関数の指定 今回は異常検知なのでrecall使用\n",
        "                 verbose=True) #verbose=Trueで実行状況の表示\n",
        "model_rf.fit(train_x,train_y)#学習の実行 fit関数\n",
        "pred_y=model_rf.predict(test_x)#予測値の算出\n",
        "train_accuracy=model_rf.score(train_x,train_y)#学習データでの精度の算出\n",
        "print('Train Accuracy:{}'.format(train_accuracy))\n",
        "test_accuracy=accuracy_score(test_y,pred_y)#テストデータでの精度の算出\n",
        "print('Test Accuracy:{}'.format(test_accuracy))\n",
        "recall=recall_score(test_y,pred_y)\n",
        "print('Recall:{}'.format(recall))\n",
        "precision=precision_score(test_y,pred_y)\n",
        "print('Precision:{}'.format(precision))\n",
        "f_measure=f1_score(test_y,pred_y)\n",
        "print('F-measure:{}'.format(f_measure))\n",
        "sensitivity=sensitivity1(test_y,pred_y)\n",
        "print('Sensitivity:{}'.format(sensitivity))\n",
        "specificity=specificity1(test_y,pred_y)\n",
        "print('Specificity:{}'.format(specificity))\n",
        "#不均衡モデルの評価に感度と特異度の相乗平均g_meanを計算\n",
        "g_mean=math.sqrt(sensitivity*specificity)\n",
        "print('G_mean:{}'.format(g_mean))"
      ],
      "metadata": {
        "colab": {
          "base_uri": "https://localhost:8080/"
        },
        "id": "cyNhSASfZPf2",
        "outputId": "6c2ba427-f7f5-494c-ed39-0db1fbbe666c",
        "cellView": "form"
      },
      "execution_count": null,
      "outputs": [
        {
          "output_type": "stream",
          "name": "stdout",
          "text": [
            "Fitting 5 folds for each of 12 candidates, totalling 60 fits\n",
            "Train Accuracy:0.9368497711194341\n",
            "Test Accuracy:0.9\n",
            "Recall:0.8636363636363636\n",
            "Precision:0.9047619047619048\n",
            "F-measure:0.8837209302325582\n",
            "Sensitivity:0.8636363636363636\n",
            "Specificity:0.9285714285714286\n",
            "G_mean:0.8955155230078661\n"
          ]
        }
      ]
    },
    {
      "cell_type": "markdown",
      "source": [
        "ランダムフォレストモデルでの混合行列の可視化"
      ],
      "metadata": {
        "id": "N2mVoUst33IB"
      }
    },
    {
      "cell_type": "code",
      "source": [
        "#@title\n",
        "#plot_confusion_matrixのデフォルト設定でもプロットしてみる\n",
        "#confusion_matrix関数と渡す引数がちがうことに注意\n",
        "from sklearn.metrics import confusion_matrix, plot_confusion_matrix\n",
        "plot_confusion_matrix(model_rf,test_x,test_y)"
      ],
      "metadata": {
        "colab": {
          "base_uri": "https://localhost:8080/",
          "height": 297
        },
        "id": "7QuZjcLrZgFq",
        "outputId": "6bc58317-0ed5-4476-e703-a46c7d35775c",
        "cellView": "form"
      },
      "execution_count": null,
      "outputs": [
        {
          "output_type": "execute_result",
          "data": {
            "text/plain": [
              "<sklearn.metrics._plot.confusion_matrix.ConfusionMatrixDisplay at 0x7f7d5f008d10>"
            ]
          },
          "metadata": {},
          "execution_count": 104
        },
        {
          "output_type": "display_data",
          "data": {
            "text/plain": [
              "<Figure size 432x288 with 2 Axes>"
            ],
            "image/png": "[encoded data removed]"
          },
          "metadata": {
            "needs_background": "light"
          }
        }
      ]
    },
    {
      "cell_type": "markdown",
      "source": [
        "ランダムフォレストモデルでのROC曲線の計算とAUCの算出"
      ],
      "metadata": {
        "id": "AVul3iei4NhK"
      }
    },
    {
      "cell_type": "code",
      "source": [
        "#@title\n",
        "#plot_roc_curve関数によるROC曲線のプロット　引数は　モデル、test_x, test_y\n",
        "from sklearn import metrics\n",
        "rf_disp=metrics.plot_roc_curve(model_rf,test_x,test_y)  # treeのROC曲線\n",
        "plt.show(rf_disp)  "
      ],
      "metadata": {
        "colab": {
          "base_uri": "https://localhost:8080/",
          "height": 279
        },
        "id": "ntlY1W57Zkfk",
        "outputId": "ee769373-bd4f-4b3a-8e9f-5fc48fd8eebc",
        "cellView": "form"
      },
      "execution_count": null,
      "outputs": [
        {
          "output_type": "display_data",
          "data": {
            "text/plain": [
              "<Figure size 432x288 with 1 Axes>"
            ],
            "image/png": "[encoded data removed]"
          },
          "metadata": {
            "needs_background": "light"
          }
        }
      ]
    },
    {
      "cell_type": "markdown",
      "source": [
        "ロジスティック回帰モデルによる予測モデル構築"
      ],
      "metadata": {
        "id": "pQQ1KG6cZng_"
      }
    },
    {
      "cell_type": "code",
      "source": [
        "#@title\n",
        "#ロジスティック回帰による分類\n",
        "from sklearn.model_selection import cross_val_predict #交差検証\n",
        "model_LR=LogisticRegression(solver='liblinear')#ハイパーパラメーターをかっこ内に記述\n",
        "pred_y=cross_val_predict(model_LR,test_x,test_y,cv=5) #cross validation の分割数を指定\n",
        "model_LR.fit(train_x,train_y)\n",
        "\n",
        "acc=accuracy_score(test_y,pred_y)\n",
        "recall=recall_score(test_y,pred_y)\n",
        "precision=precision_score(test_y,pred_y)\n",
        "\n",
        "print('Accuracy:',acc)\n",
        "print('Recall:',recall)\n",
        "print('Precision:',precision)\n",
        "conf_matrix=confusion_matrix(test_y,pred_y)\n",
        "tn_LR,fp_LR,fn_LR,tp_LR=conf_matrix.ravel()\n",
        "print('tn_LR,fp_LR,fn_LR,tp_LR=',tn_LR,fp_LR,fn_LR,tp_LR)\n",
        "f_measure=f1_score(test_y,pred_y)\n",
        "print('F-measure:{}'.format(f_measure))\n",
        "sensitivity=sensitivity1(test_y,pred_y)\n",
        "print('Sensitivity:{}'.format(sensitivity))\n",
        "specificity=specificity1(test_y,pred_y)\n",
        "print('Specificity:{}'.format(specificity))"
      ],
      "metadata": {
        "colab": {
          "base_uri": "https://localhost:8080/"
        },
        "id": "_J6SyawqZnFy",
        "outputId": "2f251873-170a-4172-b635-b01a6be3d4a0",
        "cellView": "form"
      },
      "execution_count": null,
      "outputs": [
        {
          "output_type": "stream",
          "name": "stdout",
          "text": [
            "Accuracy: 0.82\n",
            "Recall: 0.7727272727272727\n",
            "Precision: 0.8095238095238095\n",
            "tn_LR,fp_LR,fn_LR,tp_LR= 24 4 5 17\n",
            "F-measure:0.7906976744186046\n",
            "Sensitivity:0.7727272727272727\n",
            "Specificity:0.8571428571428571\n"
          ]
        }
      ]
    },
    {
      "cell_type": "markdown",
      "source": [
        "ロジステック回帰分析モデルでの混合行列の表示"
      ],
      "metadata": {
        "id": "t3KK8zhd4d1Y"
      }
    },
    {
      "cell_type": "code",
      "source": [
        "#@title\n",
        "#plot_confusion_matrixのデフォルト設定でプロット\n",
        "#confusion_matrix関数と渡す引数がちがうことに注意\n",
        "plot_confusion_matrix(model_LR,test_x,test_y)"
      ],
      "metadata": {
        "colab": {
          "base_uri": "https://localhost:8080/",
          "height": 297
        },
        "id": "YG1KOIVYZ3PG",
        "outputId": "315bd4bf-681e-4e8b-d1fe-319317ebe845",
        "cellView": "form"
      },
      "execution_count": null,
      "outputs": [
        {
          "output_type": "execute_result",
          "data": {
            "text/plain": [
              "<sklearn.metrics._plot.confusion_matrix.ConfusionMatrixDisplay at 0x7f7d4e7e6190>"
            ]
          },
          "metadata": {},
          "execution_count": 107
        },
        {
          "output_type": "display_data",
          "data": {
            "text/plain": [
              "<Figure size 432x288 with 2 Axes>"
            ],
            "image/png": "[encoded data removed]"
          },
          "metadata": {
            "needs_background": "light"
          }
        }
      ]
    },
    {
      "cell_type": "markdown",
      "source": [
        "ロジステック回帰でのROC曲線の計算とAUCの算出"
      ],
      "metadata": {
        "id": "xHEEZ5lM4nIJ"
      }
    },
    {
      "cell_type": "code",
      "source": [
        "#@title\n",
        "#plot_roc_curve関数によるROC曲線のプロット　引数は　モデル、test_x, test_y\n",
        "LR_disp=metrics.plot_roc_curve(model_LR,test_x,test_y)  # treeのROC曲線\n",
        "ax = plt.gca()\n",
        "plt.show()  "
      ],
      "metadata": {
        "colab": {
          "base_uri": "https://localhost:8080/",
          "height": 279
        },
        "id": "s9G8xw5BZ5kl",
        "outputId": "45f808c3-2298-47df-91a0-9189c955ce2f",
        "cellView": "form"
      },
      "execution_count": null,
      "outputs": [
        {
          "output_type": "display_data",
          "data": {
            "text/plain": [
              "<Figure size 432x288 with 1 Axes>"
            ],
            "image/png": "[encoded data removed]"
          },
          "metadata": {
            "needs_background": "light"
          }
        }
      ]
    },
    {
      "cell_type": "markdown",
      "source": [
        "Adaboost(不均衡データに強い）による予測モデル構築"
      ],
      "metadata": {
        "id": "5OXU9y-74t2J"
      }
    },
    {
      "cell_type": "code",
      "source": [
        "#@title\n",
        "#不均衡データに強いとされるAdaBoostでグリッドサーチしてみる\n",
        "from sklearn.model_selection import StratifiedShuffleSplit\n",
        "from sklearn.model_selection import GridSearchCV\n",
        "from sklearn.ensemble import AdaBoostClassifier\n",
        "n_estimators = [100,200,300,400];\n",
        "cv = StratifiedShuffleSplit(n_splits=10, test_size=.30, random_state=15)\n",
        "learning_r = [0.1,1,0.01]\n",
        "\n",
        "parameters = {'n_estimators':n_estimators,\n",
        "              'learning_rate':learning_r\n",
        "              \n",
        "        }\n",
        "Ada_Boost_CV = GridSearchCV(AdaBoostClassifier(base_estimator= None, ## If None, then the base estimator is a decision tree.\n",
        "                                     ),\n",
        "                                 param_grid=parameters,\n",
        "                                 cv=cv,\n",
        "                                 n_jobs = -1)\n",
        "Ada_Boost_CV.fit(train_x,train_y) \n",
        "print(Ada_Boost_CV.best_params_)\n",
        "pred_y=Ada_Boost_CV.predict(test_x)#予測値の算出\n",
        "train_accuracy=Ada_Boost_CV.score(train_x,train_y)#学習データでの精度の算出\n",
        "print('Train Accuracy:{}'.format(train_accuracy))\n",
        "test_accuracy=accuracy_score(test_y,pred_y)#テストデータでの精度の算出\n",
        "print('Test Accuracy:{}'.format(test_accuracy))\n",
        "recall=recall_score(test_y,pred_y)\n",
        "print('Recall:{}'.format(recall))\n",
        "precision=precision_score(test_y,pred_y)\n",
        "print('Precision:{}'.format(precision))\n",
        "f_measure=f1_score(test_y,pred_y)\n",
        "print('F-measure:{}'.format(f_measure))\n",
        "sensitivity=sensitivity1(test_y,pred_y)\n",
        "print('Sensitivity:{}'.format(sensitivity))\n",
        "specificity=specificity1(test_y,pred_y)\n",
        "print('Specificity:{}'.format(specificity))\n",
        "#不均衡モデルの評価に感度と特異度の相乗平均g_meanを計算\n",
        "g_mean=math.sqrt(sensitivity*specificity)\n",
        "print('G_mean:{}'.format(g_mean))"
      ],
      "metadata": {
        "id": "Cc5G1jOKdA6G",
        "outputId": "750abe8d-e916-487a-ea96-b37080d1cb37",
        "colab": {
          "base_uri": "https://localhost:8080/"
        },
        "cellView": "form"
      },
      "execution_count": null,
      "outputs": [
        {
          "output_type": "stream",
          "name": "stdout",
          "text": [
            "{'learning_rate': 0.01, 'n_estimators': 200}\n",
            "Train Accuracy:0.8527918781725888\n",
            "Test Accuracy:0.82\n",
            "Recall:0.7272727272727273\n",
            "Precision:0.8421052631578947\n",
            "F-measure:0.7804878048780488\n",
            "Sensitivity:0.7272727272727273\n",
            "Specificity:0.8928571428571429\n",
            "G_mean:0.8058229640253803\n"
          ]
        }
      ]
    },
    {
      "cell_type": "markdown",
      "source": [
        "Adaboostモデルでの混合行列の可視化"
      ],
      "metadata": {
        "id": "TuGihDz85QLF"
      }
    },
    {
      "cell_type": "code",
      "source": [
        "#@title\n",
        "#Ada_Boostモデルの混合行列\n",
        "#plot_confusion_matrixのデフォルト設定でプロット\n",
        "#confusion_matrix関数と渡す引数がちがうことに注意\n",
        "plot_confusion_matrix(Ada_Boost_CV,test_x,test_y)"
      ],
      "metadata": {
        "id": "nRckP6MMei45",
        "outputId": "5b56e4fa-c87e-4352-b9a8-90938875ef91",
        "colab": {
          "base_uri": "https://localhost:8080/",
          "height": 301
        },
        "cellView": "form"
      },
      "execution_count": null,
      "outputs": [
        {
          "output_type": "execute_result",
          "data": {
            "text/plain": [
              "<sklearn.metrics._plot.confusion_matrix.ConfusionMatrixDisplay at 0x7f7d4e7e1d50>"
            ]
          },
          "metadata": {},
          "execution_count": 110
        },
        {
          "output_type": "display_data",
          "data": {
            "text/plain": [
              "<Figure size 432x288 with 2 Axes>"
            ],
            "image/png": "[encoded data removed]"
          },
          "metadata": {
            "needs_background": "light"
          }
        }
      ]
    },
    {
      "cell_type": "markdown",
      "source": [
        "AdaboostモデルでのROC曲線とAUCの算出"
      ],
      "metadata": {
        "id": "aEIGIbGB5YZy"
      }
    },
    {
      "cell_type": "code",
      "source": [
        "#@title\n",
        "#Ada_BoostのROC曲線\n",
        "Ada_disp=metrics.plot_roc_curve(Ada_Boost_CV,test_x,test_y)  # treeのROC曲線\n",
        "plt.show(Ada_disp)  "
      ],
      "metadata": {
        "id": "bQtkWrALgp6U",
        "outputId": "afd9a748-0668-4055-ba59-e91092d0ed2d",
        "colab": {
          "base_uri": "https://localhost:8080/",
          "height": 279
        },
        "cellView": "form"
      },
      "execution_count": null,
      "outputs": [
        {
          "output_type": "display_data",
          "data": {
            "text/plain": [
              "<Figure size 432x288 with 1 Axes>"
            ],
            "image/png": "[encoded data removed]"
          },
          "metadata": {
            "needs_background": "light"
          }
        }
      ]
    },
    {
      "cell_type": "markdown",
      "source": [
        "LightGBMモデルによる予測モデルの作成"
      ],
      "metadata": {
        "id": "G8qiRz-g5hdZ"
      }
    },
    {
      "cell_type": "code",
      "source": [
        "#@title\n",
        "#LightGBM scikit learn APIによる訓練 confusion matrix関数を使うにはsk-learn APIが必要\n",
        "\n",
        "model_lgb = lgb.LGBMClassifier(objective='binary',\n",
        "                        metric='auc',\n",
        "                        n_estimators=1000,\n",
        "                        early_stopping_rounds=100)\n",
        "model_lgb.fit(train_x,train_y,#scilit learn APIではfitで訓練データを渡す original APIではtrain \n",
        "        eval_set=[(test_x, test_y)],\n",
        "        verbose=50)"
      ],
      "metadata": {
        "id": "l1NzLFp_g_Q6",
        "outputId": "f08b2eae-3107-422b-a031-b73cde5b8de4",
        "colab": {
          "base_uri": "https://localhost:8080/"
        },
        "cellView": "form"
      },
      "execution_count": null,
      "outputs": [
        {
          "output_type": "stream",
          "name": "stdout",
          "text": [
            "Training until validation scores don't improve for 100 rounds.\n",
            "[50]\tvalid_0's auc: 0.962662\n",
            "[100]\tvalid_0's auc: 0.948052\n",
            "Early stopping, best iteration is:\n",
            "[29]\tvalid_0's auc: 0.971591\n"
          ]
        },
        {
          "output_type": "execute_result",
          "data": {
            "text/plain": [
              "LGBMClassifier(early_stopping_rounds=100, metric='auc', n_estimators=1000,\n",
              "               objective='binary')"
            ]
          },
          "metadata": {},
          "execution_count": 112
        }
      ]
    },
    {
      "cell_type": "code",
      "source": [
        "#@title\n",
        "pred_y=model_lgb.predict(test_x)\n",
        "acc=accuracy_score(test_y,pred_y)\n",
        "recall=recall_score(test_y,pred_y)\n",
        "precision=precision_score(test_y,pred_y)\n",
        "f_measure=f1_score(test_y,pred_y)\n",
        "print('Accuracy:',acc)\n",
        "print('Recall:',recall)\n",
        "print('Precision:',precision)\n",
        "print('F-measure:{}'.format(f_measure))\n",
        "sensitivity=sensitivity1(test_y,pred_y)\n",
        "print('Sensitivity:{}'.format(sensitivity))\n",
        "specificity=specificity1(test_y,pred_y)\n",
        "print('Specificity:{}'.format(specificity))\n",
        "conf_matrix=confusion_matrix(test_y,pred_y)\n",
        "tn,fp,fn,tp=conf_matrix.ravel()\n",
        "print('tn,fp,fn,tp=',tn,fp,fn,tp)\n",
        "#不均衡モデルの評価に感度と特異度の相乗平均g_meanを計算\n",
        "g_mean=math.sqrt(sensitivity*specificity)\n",
        "print('G_mean:{}'.format(g_mean))"
      ],
      "metadata": {
        "id": "gFTkeyNsh2iF",
        "outputId": "43d98422-e546-4054-ad07-163244f0ae29",
        "colab": {
          "base_uri": "https://localhost:8080/"
        },
        "cellView": "form"
      },
      "execution_count": null,
      "outputs": [
        {
          "output_type": "stream",
          "name": "stdout",
          "text": [
            "Accuracy: 0.9\n",
            "Recall: 0.9090909090909091\n",
            "Precision: 0.8695652173913043\n",
            "F-measure:0.888888888888889\n",
            "Sensitivity:0.9090909090909091\n",
            "Specificity:0.8928571428571429\n",
            "tn,fp,fn,tp= 25 3 2 20\n",
            "G_mean:0.900937462695559\n"
          ]
        }
      ]
    },
    {
      "cell_type": "markdown",
      "source": [
        "LightGBMモデルによる混合行列の可視化"
      ],
      "metadata": {
        "id": "DGOj1FXl5uzD"
      }
    },
    {
      "cell_type": "code",
      "source": [
        "#@title\n",
        "from sklearn.metrics import confusion_matrix, plot_confusion_matrix\n",
        "plot_confusion_matrix(model_lgb,test_x,test_y)"
      ],
      "metadata": {
        "id": "2ZS42dpDiipo",
        "outputId": "4d5091ae-aa2c-462b-bd7a-f034f350c3a1",
        "colab": {
          "base_uri": "https://localhost:8080/",
          "height": 301
        },
        "cellView": "form"
      },
      "execution_count": null,
      "outputs": [
        {
          "output_type": "execute_result",
          "data": {
            "text/plain": [
              "<sklearn.metrics._plot.confusion_matrix.ConfusionMatrixDisplay at 0x7f7d4e6ffd90>"
            ]
          },
          "metadata": {},
          "execution_count": 114
        },
        {
          "output_type": "display_data",
          "data": {
            "text/plain": [
              "<Figure size 432x288 with 2 Axes>"
            ],
            "image/png": "[encoded data removed]"
          },
          "metadata": {
            "needs_background": "light"
          }
        }
      ]
    },
    {
      "cell_type": "markdown",
      "source": [
        "LightGBMモデルによるROC曲線とAUCの算出"
      ],
      "metadata": {
        "id": "pP9uJ_NX51rb"
      }
    },
    {
      "cell_type": "code",
      "source": [
        "#@title\n",
        "lgb_disp=metrics.plot_roc_curve(model_lgb,test_x,test_y)  # LGBMClassigier modelのROC曲線\n",
        "plt.show()   "
      ],
      "metadata": {
        "id": "7vrS7OsRi5DJ",
        "outputId": "cfae280d-2e74-49ac-c287-35fa79c68a06",
        "colab": {
          "base_uri": "https://localhost:8080/",
          "height": 279
        },
        "cellView": "form"
      },
      "execution_count": null,
      "outputs": [
        {
          "output_type": "display_data",
          "data": {
            "text/plain": [
              "<Figure size 432x288 with 1 Axes>"
            ],
            "image/png": "[encoded data removed]"
          },
          "metadata": {
            "needs_background": "light"
          }
        }
      ]
    },
    {
      "cell_type": "markdown",
      "source": [
        "oversampling（データ数を統計学的手法で水増しして機械学習モデルの精度を高める手法）を行ってデータの不均衡をなくす　ランダムフォレスト/ロジスティック回帰で分析してみる"
      ],
      "metadata": {
        "id": "MbBw02L8Z91X"
      }
    },
    {
      "cell_type": "code",
      "source": [
        "#@title\n",
        "#imbalanced-learnでデータの不均衡に対応\n",
        "import imblearn\n",
        "from imblearn.over_sampling import SMOTE\n",
        "from imblearn.under_sampling import RandomUnderSampler\n",
        "from imblearn.over_sampling import RandomOverSampler\n",
        "print(imblearn.__version__)"
      ],
      "metadata": {
        "colab": {
          "base_uri": "https://localhost:8080/"
        },
        "id": "yoiipBwiaApq",
        "outputId": "6696e880-f83e-4e38-d98b-db9c5ac79790",
        "cellView": "form"
      },
      "execution_count": null,
      "outputs": [
        {
          "output_type": "stream",
          "name": "stdout",
          "text": [
            "0.8.1\n"
          ]
        }
      ]
    },
    {
      "cell_type": "markdown",
      "source": [
        " 公式ドキュメントでは先にtrain_test_splitしており、testデータではSMOTEしていない kaggleのこの記事参照　 https://www.kaggle.com/janiobachmann/credit-fraud-dealing-with-imbalanced-datasets \n",
        " testデータにはoversamplingしたデータは使わない　leakが生じるため\n",
        "ほかに色々試しているkaggleのnotebook https://www.kaggle.com/andreanuzzo/balance-the-imbalanced-rf-and-xgboost-with-smote"
      ],
      "metadata": {
        "id": "6NotTNeraIpm"
      }
    },
    {
      "cell_type": "code",
      "source": [
        "#@title\n",
        "#train_test_splitしてからSMOTEする\n",
        "train_x=df.drop([target],axis='columns') \n",
        "train_y=df[target]\n",
        "#続いてtain_test_splitで訓練データ　テストデータを再定義 テストデータ多めにしておく>>今回は不均衡あまりないので0.3で\n",
        "(train_x,test_x,train_y,test_y)=train_test_split(train_x,train_y,test_size=0.3,random_state=0)\n",
        "#データセットの形確認\n",
        "print(train_x.shape)\n",
        "print(test_x.shape)\n",
        "print(train_y.shape)\n",
        "print(test_y.shape)"
      ],
      "metadata": {
        "colab": {
          "base_uri": "https://localhost:8080/"
        },
        "id": "NCaT3Qz1aKd8",
        "outputId": "11510393-34ed-4dee-aee6-ee1d7bb5b43b",
        "cellView": "form",
        "collapsed": true
      },
      "execution_count": null,
      "outputs": [
        {
          "output_type": "stream",
          "name": "stdout",
          "text": [
            "(172, 3)\n",
            "(75, 3)\n",
            "(172,)\n",
            "(75,)\n"
          ]
        }
      ]
    },
    {
      "cell_type": "code",
      "source": [
        "#@title\n",
        "#テストデータの’１’の数のカウント\n",
        "positive_count_test =test_y.sum()\n",
        "print('positive count test: {}'.format(positive_count_test))"
      ],
      "metadata": {
        "colab": {
          "base_uri": "https://localhost:8080/"
        },
        "id": "20SmSKSlagET",
        "outputId": "e564505b-3347-4d6f-bb07-9a152174b838",
        "cellView": "form",
        "collapsed": true
      },
      "execution_count": null,
      "outputs": [
        {
          "output_type": "stream",
          "name": "stdout",
          "text": [
            "positive count test: 36\n"
          ]
        }
      ]
    },
    {
      "cell_type": "code",
      "source": [
        "#訓練データのみに対してSMOTEによる水増し\n",
        "smote = SMOTE(random_state=42)\n",
        "x_SMOTE, y_SMOTE = smote.fit_resample(train_x,train_y)\n",
        "print('positive count before oversampling(SMOTE)',train_y.sum())\n",
        "print('positive count after oversampling(SMOTE)',y_SMOTE.sum())"
      ],
      "metadata": {
        "colab": {
          "base_uri": "https://localhost:8080/"
        },
        "id": "f2pK27uOap1r",
        "outputId": "4420bc2b-1ed3-4f9a-ac4b-84c9df2d6628"
      },
      "execution_count": null,
      "outputs": [
        {
          "output_type": "stream",
          "name": "stdout",
          "text": [
            "positive count before oversampling(SMOTE) 75\n",
            "positive count after oversampling(SMOTE) 97\n"
          ]
        }
      ]
    },
    {
      "cell_type": "markdown",
      "source": [
        "OverSampling dataにたいしてRandom Forestにてモデル作成"
      ],
      "metadata": {
        "id": "nf54CFWtbhCW"
      }
    },
    {
      "cell_type": "code",
      "source": [
        "#@title\n",
        "#ランダムフォレストモデルの構築\n",
        "gridsearch = {'n_estimators': [100,200,300,400],#決定木の数を辞書で渡す\n",
        "             'max_depth': [4,5,6]}#決定木の数を辞書で渡す\n",
        "score='balanced_accuracy'#モデルの評価関数を指定https://scikit-learn.org/stable/modules/model_evaluation.html#scoring-parameter\n",
        "model_rf=GridSearchCV(RandomForestClassifier(),#分類器の指定\n",
        "                 gridsearch,#グリッドサーチで定義した辞書を渡す\n",
        "                 cv=5,              #交差検定の回数指定\n",
        "                 n_jobs= -1, #-1に設定するとコア数で並列実行\n",
        "                 scoring=score,#モデルの評価関数の指定 今回は異常検知なのでrecall使用\n",
        "                 verbose=True) #verbose=Trueで実行状況の表示\n",
        "model_rf.fit(x_SMOTE,y_SMOTE)#学習の実行 fit関数\n",
        "pred_y=model_rf.predict(test_x)#予測値の算出\n",
        "train_accuracy=model_rf.score(x_SMOTE,y_SMOTE)#学習データでの精度の算出\n",
        "print('Train Accuracy:{}'.format(train_accuracy))\n",
        "test_accuracy=accuracy_score(test_y,pred_y)#テストデータでの精度の算出\n",
        "print('Test Accuracy:{}'.format(test_accuracy))\n",
        "recall=recall_score(test_y,pred_y)\n",
        "print('Recall:{}'.format(recall))\n",
        "precision=precision_score(test_y,pred_y)\n",
        "print('Precision:{}'.format(precision))\n",
        "f_measure=f1_score(test_y,pred_y)\n",
        "print('F-measure:{}'.format(f_measure))\n",
        "sensitivity=sensitivity1(test_y,pred_y)\n",
        "print('Sensitivity:{}'.format(sensitivity))\n",
        "specificity=specificity1(test_y,pred_y)\n",
        "print('Specificity:{}'.format(specificity))\n",
        "#不均衡モデルの評価に感度と特異度の相乗平均g_meanを計算\n",
        "g_mean=math.sqrt(sensitivity*specificity)\n",
        "print('G_mean:{}'.format(g_mean))"
      ],
      "metadata": {
        "colab": {
          "base_uri": "https://localhost:8080/"
        },
        "id": "YTpz3zixbghB",
        "outputId": "f7877324-5c27-437e-8f6d-f0395d4ab112",
        "cellView": "form"
      },
      "execution_count": null,
      "outputs": [
        {
          "output_type": "stream",
          "name": "stdout",
          "text": [
            "Fitting 5 folds for each of 12 candidates, totalling 60 fits\n",
            "Train Accuracy:0.9381443298969072\n",
            "Test Accuracy:0.8266666666666667\n",
            "Recall:0.8611111111111112\n",
            "Precision:0.7948717948717948\n",
            "F-measure:0.8266666666666667\n",
            "Sensitivity:0.8611111111111112\n",
            "Specificity:0.7948717948717948\n",
            "G_mean:0.8273287946596168\n"
          ]
        }
      ]
    },
    {
      "cell_type": "code",
      "source": [
        "#@title\n",
        "model_rf.best_estimator_"
      ],
      "metadata": {
        "colab": {
          "base_uri": "https://localhost:8080/"
        },
        "id": "_BqaTHlKb42_",
        "outputId": "8a3c5d39-42bb-48e6-f73b-7de74968b3ce",
        "cellView": "form",
        "collapsed": true
      },
      "execution_count": null,
      "outputs": [
        {
          "output_type": "execute_result",
          "data": {
            "text/plain": [
              "RandomForestClassifier(max_depth=4, n_estimators=400)"
            ]
          },
          "metadata": {},
          "execution_count": 122
        }
      ]
    },
    {
      "cell_type": "code",
      "source": [
        "#@title\n",
        "#plot_confusion_matrixのデフォルト設定でプロット\n",
        "#confusion_matrix関数と渡す引数がちがうことに注意\n",
        "plot_confusion_matrix(model_rf,test_x,test_y)"
      ],
      "metadata": {
        "colab": {
          "base_uri": "https://localhost:8080/",
          "height": 297
        },
        "id": "rmZEex7Sb8BD",
        "outputId": "e7bdbc92-8bdb-40bf-b8f6-70e2df528a4a",
        "cellView": "form"
      },
      "execution_count": null,
      "outputs": [
        {
          "output_type": "execute_result",
          "data": {
            "text/plain": [
              "<sklearn.metrics._plot.confusion_matrix.ConfusionMatrixDisplay at 0x7f7d4e4e4d90>"
            ]
          },
          "metadata": {},
          "execution_count": 123
        },
        {
          "output_type": "display_data",
          "data": {
            "text/plain": [
              "<Figure size 432x288 with 2 Axes>"
            ],
            "image/png": "[encoded data removed]"
          },
          "metadata": {
            "needs_background": "light"
          }
        }
      ]
    },
    {
      "cell_type": "code",
      "source": [
        "#@title\n",
        "#plot_roc_curve関数によるROC曲線のプロット　引数は　モデル、test_x, test_y\n",
        "from sklearn import metrics\n",
        "rf_disp=metrics.plot_roc_curve(model_rf,test_x,test_y)  # treeのROC曲線\n",
        "plt.show(rf_disp)  "
      ],
      "metadata": {
        "colab": {
          "base_uri": "https://localhost:8080/",
          "height": 279
        },
        "id": "-EHPzYeEb_03",
        "outputId": "23500347-27b0-4998-d7c9-b26d9a6f5e96",
        "cellView": "form"
      },
      "execution_count": null,
      "outputs": [
        {
          "output_type": "display_data",
          "data": {
            "text/plain": [
              "<Figure size 432x288 with 1 Axes>"
            ],
            "image/png": "[encoded data removed]"
          },
          "metadata": {
            "needs_background": "light"
          }
        }
      ]
    },
    {
      "cell_type": "markdown",
      "source": [
        "OverSampling dataにたいしてロジステック回帰にてモデル作成"
      ],
      "metadata": {
        "id": "jYZ_HvuhcMR8"
      }
    },
    {
      "cell_type": "code",
      "source": [
        "#@title\n",
        "#ロジスティック回帰による分類\n",
        "from sklearn.model_selection import cross_val_predict #交差検証\n",
        "model_LR=LogisticRegression(solver='liblinear')#ハイパーパラメーターをかっこ内に記述\n",
        "pred_y=cross_val_predict(model_LR,test_x,test_y,cv=5) #cross validation の分割数を指定\n",
        "model_LR.fit(x_SMOTE,y_SMOTE)\n",
        "\n",
        "acc=accuracy_score(test_y,pred_y)\n",
        "recall=recall_score(test_y,pred_y)\n",
        "precision=precision_score(test_y,pred_y)\n",
        "\n",
        "print('Accuracy:',acc)\n",
        "print('Recall:',recall)\n",
        "print('Precision:',precision)\n",
        "conf_matrix=confusion_matrix(test_y,pred_y)\n",
        "tn_LR,fp_LR,fn_LR,tp_LR=conf_matrix.ravel()\n",
        "print('tn_LR,fp_LR,fn_LR,tp_LR=',tn_LR,fp_LR,fn_LR,tp_LR)\n",
        "f_measure=f1_score(test_y,pred_y)\n",
        "print('F-measure:{}'.format(f_measure))\n",
        "sensitivity=sensitivity1(test_y,pred_y)\n",
        "print('Sensitivity:{}'.format(sensitivity))\n",
        "specificity=specificity1(test_y,pred_y)\n",
        "print('Specificity:{}'.format(specificity))\n",
        "#不均衡モデルの評価に感度と特異度の相乗平均g_meanを計算\n",
        "g_mean=math.sqrt(sensitivity*specificity)\n",
        "print('G_mean:{}'.format(g_mean))"
      ],
      "metadata": {
        "colab": {
          "base_uri": "https://localhost:8080/"
        },
        "id": "NXtGsh3tcS8k",
        "outputId": "7e625539-8da6-42b4-a7cb-bff2f9f91ca6",
        "cellView": "form"
      },
      "execution_count": null,
      "outputs": [
        {
          "output_type": "stream",
          "name": "stdout",
          "text": [
            "Accuracy: 0.7733333333333333\n",
            "Recall: 0.7222222222222222\n",
            "Precision: 0.7878787878787878\n",
            "tn_LR,fp_LR,fn_LR,tp_LR= 32 7 10 26\n",
            "F-measure:0.7536231884057971\n",
            "Sensitivity:0.7222222222222222\n",
            "Specificity:0.8205128205128205\n",
            "G_mean:0.769800358919501\n"
          ]
        }
      ]
    },
    {
      "cell_type": "code",
      "source": [
        "#@title\n",
        "#plot_confusion_matrixのデフォルト設定でプロット\n",
        "#confusion_matrix関数と渡す引数がちがうことに注意\n",
        "plot_confusion_matrix(model_LR,test_x,test_y)"
      ],
      "metadata": {
        "colab": {
          "base_uri": "https://localhost:8080/",
          "height": 297
        },
        "id": "n5HtdCzMcbXc",
        "outputId": "47d1e02f-c28a-4962-eeb5-22298d9b5bff",
        "cellView": "form"
      },
      "execution_count": null,
      "outputs": [
        {
          "output_type": "execute_result",
          "data": {
            "text/plain": [
              "<sklearn.metrics._plot.confusion_matrix.ConfusionMatrixDisplay at 0x7f7d5f14b990>"
            ]
          },
          "metadata": {},
          "execution_count": 126
        },
        {
          "output_type": "display_data",
          "data": {
            "text/plain": [
              "<Figure size 432x288 with 2 Axes>"
            ],
            "image/png": "[encoded data removed]"
          },
          "metadata": {
            "needs_background": "light"
          }
        }
      ]
    },
    {
      "cell_type": "code",
      "source": [
        "#@title\n",
        "#plot_roc_curve関数によるROC曲線のプロット　引数は　モデル、test_x, test_y\n",
        "LR_disp=metrics.plot_roc_curve(model_LR,test_x,test_y)  # treeのROC曲線\n",
        "ax = plt.gca()\n",
        "plt.show()  "
      ],
      "metadata": {
        "colab": {
          "base_uri": "https://localhost:8080/",
          "height": 279
        },
        "id": "dUfwk2gNchIR",
        "outputId": "18973402-ccee-4dae-ce2a-5733d119d57f",
        "cellView": "form"
      },
      "execution_count": null,
      "outputs": [
        {
          "output_type": "display_data",
          "data": {
            "text/plain": [
              "<Figure size 432x288 with 1 Axes>"
            ],
            "image/png": "[encoded data removed]"
          },
          "metadata": {
            "needs_background": "light"
          }
        }
      ]
    },
    {
      "cell_type": "markdown",
      "source": [
        "Adaboostモデルでの構築（oversampling data使用）"
      ],
      "metadata": {
        "id": "uBmlJGy060Oz"
      }
    },
    {
      "cell_type": "code",
      "source": [
        "#@title\n",
        "#AdaBoostによるSMOTEデータに対する訓練と分類\n",
        "#AdaBoostでグリッドサーチしてみる\n",
        "from sklearn.model_selection import StratifiedShuffleSplit\n",
        "from sklearn.model_selection import GridSearchCV\n",
        "from sklearn.ensemble import AdaBoostClassifier\n",
        "n_estimators = [100,200,300,400];\n",
        "cv = StratifiedShuffleSplit(n_splits=10, test_size=.30, random_state=15)\n",
        "learning_r = [0.1,1,0.01]\n",
        "\n",
        "parameters = {'n_estimators':n_estimators,\n",
        "              'learning_rate':learning_r\n",
        "              \n",
        "        }\n",
        "Ada_Boost_CV = GridSearchCV(AdaBoostClassifier(base_estimator= None, ## If None, then the base estimator is a decision tree.\n",
        "                                     ),\n",
        "                                 param_grid=parameters,\n",
        "                                 cv=cv,\n",
        "                                 n_jobs = -1)\n",
        "Ada_Boost_CV.fit(x_SMOTE,y_SMOTE) \n",
        "print(Ada_Boost_CV.best_params_)\n",
        "pred_y=Ada_Boost_CV.predict(test_x)#予測値の算出\n",
        "train_accuracy=Ada_Boost_CV.score(x_SMOTE,y_SMOTE)#学習データでの精度の算出\n",
        "print('Train Accuracy:{}'.format(train_accuracy))\n",
        "test_accuracy=accuracy_score(test_y,pred_y)#テストデータでの精度の算出\n",
        "print('Test Accuracy:{}'.format(test_accuracy))\n",
        "recall=recall_score(test_y,pred_y)\n",
        "print('Recall:{}'.format(recall))\n",
        "precision=precision_score(test_y,pred_y)\n",
        "print('Precision:{}'.format(precision))\n",
        "f_measure=f1_score(test_y,pred_y)\n",
        "print('F-measure:{}'.format(f_measure))\n",
        "sensitivity=sensitivity1(test_y,pred_y)\n",
        "print('Sensitivity:{}'.format(sensitivity))\n",
        "specificity=specificity1(test_y,pred_y)\n",
        "print('Specificity:{}'.format(specificity))\n",
        "#不均衡モデルの評価に感度と特異度の相乗平均g_meanを計算\n",
        "g_mean=math.sqrt(sensitivity*specificity)\n",
        "print('G_mean:{}'.format(g_mean))"
      ],
      "metadata": {
        "id": "kXeob7s5eox4",
        "outputId": "a06b7e02-d8a0-4ebd-91b9-e81b098ab586",
        "colab": {
          "base_uri": "https://localhost:8080/"
        },
        "cellView": "form"
      },
      "execution_count": null,
      "outputs": [
        {
          "output_type": "stream",
          "name": "stdout",
          "text": [
            "{'learning_rate': 0.01, 'n_estimators': 400}\n",
            "Train Accuracy:0.9175257731958762\n",
            "Test Accuracy:0.8266666666666667\n",
            "Recall:0.8611111111111112\n",
            "Precision:0.7948717948717948\n",
            "F-measure:0.8266666666666667\n",
            "Sensitivity:0.8611111111111112\n",
            "Specificity:0.7948717948717948\n",
            "G_mean:0.8273287946596168\n"
          ]
        }
      ]
    },
    {
      "cell_type": "code",
      "source": [
        "#@title\n",
        "#Ada_Boostモデルの混合行列\n",
        "#plot_confusion_matrixのデフォルト設定でプロット\n",
        "#confusion_matrix関数と渡す引数がちがうことに注意\n",
        "plot_confusion_matrix(Ada_Boost_CV,test_x,test_y)"
      ],
      "metadata": {
        "id": "ROo-rqGQlOkh",
        "outputId": "2b76feb5-09ff-401c-ccbd-8d754519dc4e",
        "colab": {
          "base_uri": "https://localhost:8080/",
          "height": 297
        },
        "cellView": "form"
      },
      "execution_count": null,
      "outputs": [
        {
          "output_type": "execute_result",
          "data": {
            "text/plain": [
              "<sklearn.metrics._plot.confusion_matrix.ConfusionMatrixDisplay at 0x7f7d4e3ab110>"
            ]
          },
          "metadata": {},
          "execution_count": 129
        },
        {
          "output_type": "display_data",
          "data": {
            "text/plain": [
              "<Figure size 432x288 with 2 Axes>"
            ],
            "image/png": "[encoded data removed]"
          },
          "metadata": {
            "needs_background": "light"
          }
        }
      ]
    },
    {
      "cell_type": "code",
      "source": [
        "#@title\n",
        "#Ada_BoostのROC曲線\n",
        "Ada_disp=metrics.plot_roc_curve(Ada_Boost_CV,test_x,test_y)  # treeのROC曲線\n",
        "plt.show(Ada_disp)  "
      ],
      "metadata": {
        "id": "0_N-bkxtlaaf",
        "outputId": "53e8c380-a2a5-43f0-9acb-eb322dfc8532",
        "colab": {
          "base_uri": "https://localhost:8080/",
          "height": 279
        },
        "cellView": "form"
      },
      "execution_count": null,
      "outputs": [
        {
          "output_type": "display_data",
          "data": {
            "text/plain": [
              "<Figure size 432x288 with 1 Axes>"
            ],
            "image/png": "[encoded data removed]"
          },
          "metadata": {
            "needs_background": "light"
          }
        }
      ]
    },
    {
      "cell_type": "markdown",
      "source": [
        "LightGBM のscilit learn　APIによるモデル構築"
      ],
      "metadata": {
        "id": "YhIjLtjCetxx"
      }
    },
    {
      "cell_type": "code",
      "source": [
        "#@title\n",
        "#LightGBM scikit learn APIによる訓練 confusion matrix関数を使うにはsk-learn APIが必要\n",
        "\n",
        "model_lgb = lgb.LGBMClassifier(objective='binary',\n",
        "                        metric='auc',\n",
        "                        n_estimators=1000,\n",
        "                        early_stopping_rounds=100)\n",
        "model_lgb.fit(x_SMOTE,y_SMOTE,#scilit learn APIではfitで訓練データを渡す original APIではtrain \n",
        "        eval_set=[(test_x, test_y)],\n",
        "        verbose=50)"
      ],
      "metadata": {
        "colab": {
          "base_uri": "https://localhost:8080/"
        },
        "id": "J4bfA-U7e7mL",
        "outputId": "d3a398b1-cb0b-40be-dc03-08b3ac569b9b",
        "cellView": "form"
      },
      "execution_count": null,
      "outputs": [
        {
          "output_type": "stream",
          "name": "stdout",
          "text": [
            "Training until validation scores don't improve for 100 rounds.\n",
            "[50]\tvalid_0's auc: 0.877849\n",
            "[100]\tvalid_0's auc: 0.863604\n",
            "Early stopping, best iteration is:\n",
            "[42]\tvalid_0's auc: 0.88141\n"
          ]
        },
        {
          "output_type": "execute_result",
          "data": {
            "text/plain": [
              "LGBMClassifier(early_stopping_rounds=100, metric='auc', n_estimators=1000,\n",
              "               objective='binary')"
            ]
          },
          "metadata": {},
          "execution_count": 131
        }
      ]
    },
    {
      "cell_type": "code",
      "source": [
        "#@title\n",
        "from sklearn.metrics import confusion_matrix, plot_confusion_matrix\n",
        "plot_confusion_matrix(model_lgb,test_x,test_y)"
      ],
      "metadata": {
        "colab": {
          "base_uri": "https://localhost:8080/",
          "height": 297
        },
        "id": "kzVnv5Fde9zu",
        "outputId": "498e1206-59e7-4860-c667-66bc14ac15c5",
        "cellView": "form"
      },
      "execution_count": null,
      "outputs": [
        {
          "output_type": "execute_result",
          "data": {
            "text/plain": [
              "<sklearn.metrics._plot.confusion_matrix.ConfusionMatrixDisplay at 0x7f7d4f539ed0>"
            ]
          },
          "metadata": {},
          "execution_count": 132
        },
        {
          "output_type": "display_data",
          "data": {
            "text/plain": [
              "<Figure size 432x288 with 2 Axes>"
            ],
            "image/png": "[encoded data removed]"
          },
          "metadata": {
            "needs_background": "light"
          }
        }
      ]
    },
    {
      "cell_type": "code",
      "source": [
        "#@title\n",
        "pred_y=model_lgb.predict(test_x)\n",
        "acc=accuracy_score(test_y,pred_y)\n",
        "recall=recall_score(test_y,pred_y)\n",
        "precision=precision_score(test_y,pred_y)\n",
        "f_measure=f1_score(test_y,pred_y)\n",
        "print('Accuracy:',acc)\n",
        "print('Recall:',recall)\n",
        "print('Precision:',precision)\n",
        "print('F-measure:{}'.format(f_measure))\n",
        "sensitivity=sensitivity1(test_y,pred_y)\n",
        "print('Sensitivity:{}'.format(sensitivity))\n",
        "specificity=specificity1(test_y,pred_y)\n",
        "print('Specificity:{}'.format(specificity))\n",
        "conf_matrix=confusion_matrix(test_y,pred_y)\n",
        "tn,fp,fn,tp=conf_matrix.ravel()\n",
        "print('tn,fp,fn,tp=',tn,fp,fn,tp)\n",
        "#不均衡モデルの評価に感度と特異度の相乗平均g_meanを計算\n",
        "g_mean=math.sqrt(sensitivity*specificity)\n",
        "print('G_mean:{}'.format(g_mean))"
      ],
      "metadata": {
        "colab": {
          "base_uri": "https://localhost:8080/"
        },
        "id": "Nih61QL9fDH9",
        "outputId": "84228861-3b03-4926-bde8-8ce32d4c07fc",
        "cellView": "form"
      },
      "execution_count": null,
      "outputs": [
        {
          "output_type": "stream",
          "name": "stdout",
          "text": [
            "Accuracy: 0.8266666666666667\n",
            "Recall: 0.8888888888888888\n",
            "Precision: 0.7804878048780488\n",
            "F-measure:0.8311688311688312\n",
            "Sensitivity:0.8888888888888888\n",
            "Specificity:0.7692307692307693\n",
            "tn,fp,fn,tp= 30 9 4 32\n",
            "G_mean:0.826898230594723\n"
          ]
        }
      ]
    },
    {
      "cell_type": "code",
      "source": [
        "#@title\n",
        "lgb_disp=metrics.plot_roc_curve(model_lgb,test_x,test_y)  # LGBMClassigier model2のROC曲線\n",
        "plt.show()   "
      ],
      "metadata": {
        "colab": {
          "base_uri": "https://localhost:8080/",
          "height": 279
        },
        "id": "6Z0eu1HTfIj8",
        "outputId": "117e06d0-ad99-49d5-85f0-54825a3ca35e",
        "cellView": "form"
      },
      "execution_count": null,
      "outputs": [
        {
          "output_type": "display_data",
          "data": {
            "text/plain": [
              "<Figure size 432x288 with 1 Axes>"
            ],
            "image/png": "[encoded data removed]"
          },
          "metadata": {
            "needs_background": "light"
          }
        }
      ]
    },
    {
      "cell_type": "code",
      "source": [
        "#@title\n",
        "#いままでのROC曲線をまとめて表示\n",
        "ax = plt.gca()\n",
        "lgb_disp.plot(ax=ax, alpha=0.8)\n",
        "rf_disp.plot(ax=ax,alpha=0.8,label='Random Forest')\n",
        "LR_disp.plot(ax=ax,alpha=0.8,label='Logistic Regression')\n",
        "plt.show()"
      ],
      "metadata": {
        "colab": {
          "base_uri": "https://localhost:8080/",
          "height": 279
        },
        "id": "Py-OlWX1fKDn",
        "outputId": "a57cb745-6b61-456d-a5e9-e727d86a11c9",
        "cellView": "form"
      },
      "execution_count": null,
      "outputs": [
        {
          "output_type": "display_data",
          "data": {
            "text/plain": [
              "<Figure size 432x288 with 1 Axes>"
            ],
            "image/png": "[encoded data removed]"
          },
          "metadata": {
            "needs_background": "light"
          }
        }
      ]
    },
    {
      "cell_type": "markdown",
      "source": [
        "LightGBMのscilitlearnAPIは微調整がしにくいので、精度を出すためにoriginal APIを使用する\n",
        "https://qiita.com/hara_tatsu/items/5d1334a76b6645e3a1b4"
      ],
      "metadata": {
        "id": "Jf-vgBTPfSXV"
      }
    },
    {
      "cell_type": "code",
      "source": [
        "#@title\n",
        "import lightgbm as lgb\n",
        "#originalAPIが認識する形に直す\n",
        "# 訓練データ\n",
        "lgb_train = lgb.Dataset(x_SMOTE,y_SMOTE)\n",
        "# 評価データ\n",
        "lgb_eval = lgb.Dataset(test_x, test_y, reference=lgb_train)"
      ],
      "metadata": {
        "id": "mzrPCU8wfXKB",
        "cellView": "form"
      },
      "execution_count": null,
      "outputs": []
    },
    {
      "cell_type": "code",
      "source": [
        "#@title\n",
        "# パラメータの設定\n",
        "#※２値分類の場合 'objective': 'binary', 'metric': 'binary_error' #評価指標：正答率\n",
        "parms = {\n",
        "    'task': 'train', #トレーニング用\n",
        "    'boosting': 'gbdt', #勾配ブースティング決定木\n",
        "    'objective': 'binary', #目的：多値分類\n",
        "    'metric': 'binary_error', #評価指標：正答率\n",
        "    'num_iterations': 1000, #1000回学習\n",
        "    'verbose': -1 #学習情報を非表示\n",
        "}\n",
        "\n",
        "# モデルの学習\n",
        "lgb_model = lgb.train(parms,\n",
        "                 #訓練データ\n",
        "                 train_set=lgb_train,\n",
        "                 # 評価データ\n",
        "                 valid_sets=lgb_eval,\n",
        "                 early_stopping_rounds=100)"
      ],
      "metadata": {
        "colab": {
          "base_uri": "https://localhost:8080/"
        },
        "id": "mzMBWC4sfby2",
        "outputId": "815bc26a-9055-4691-e211-baa59a4707a2",
        "cellView": "form",
        "collapsed": true
      },
      "execution_count": null,
      "outputs": [
        {
          "output_type": "stream",
          "name": "stdout",
          "text": [
            "[1]\tvalid_0's binary_error: 0.293333\n",
            "Training until validation scores don't improve for 100 rounds.\n",
            "[2]\tvalid_0's binary_error: 0.293333\n",
            "[3]\tvalid_0's binary_error: 0.293333\n",
            "[4]\tvalid_0's binary_error: 0.293333\n",
            "[5]\tvalid_0's binary_error: 0.293333\n",
            "[6]\tvalid_0's binary_error: 0.293333\n",
            "[7]\tvalid_0's binary_error: 0.293333\n",
            "[8]\tvalid_0's binary_error: 0.293333\n",
            "[9]\tvalid_0's binary_error: 0.293333\n",
            "[10]\tvalid_0's binary_error: 0.293333\n",
            "[11]\tvalid_0's binary_error: 0.293333\n",
            "[12]\tvalid_0's binary_error: 0.2\n",
            "[13]\tvalid_0's binary_error: 0.2\n",
            "[14]\tvalid_0's binary_error: 0.2\n",
            "[15]\tvalid_0's binary_error: 0.2\n",
            "[16]\tvalid_0's binary_error: 0.2\n",
            "[17]\tvalid_0's binary_error: 0.2\n",
            "[18]\tvalid_0's binary_error: 0.2\n",
            "[19]\tvalid_0's binary_error: 0.2\n",
            "[20]\tvalid_0's binary_error: 0.2\n",
            "[21]\tvalid_0's binary_error: 0.2\n",
            "[22]\tvalid_0's binary_error: 0.2\n",
            "[23]\tvalid_0's binary_error: 0.2\n",
            "[24]\tvalid_0's binary_error: 0.2\n",
            "[25]\tvalid_0's binary_error: 0.186667\n",
            "[26]\tvalid_0's binary_error: 0.186667\n",
            "[27]\tvalid_0's binary_error: 0.173333\n",
            "[28]\tvalid_0's binary_error: 0.173333\n",
            "[29]\tvalid_0's binary_error: 0.173333\n",
            "[30]\tvalid_0's binary_error: 0.173333\n",
            "[31]\tvalid_0's binary_error: 0.173333\n",
            "[32]\tvalid_0's binary_error: 0.173333\n",
            "[33]\tvalid_0's binary_error: 0.173333\n",
            "[34]\tvalid_0's binary_error: 0.173333\n",
            "[35]\tvalid_0's binary_error: 0.173333\n",
            "[36]\tvalid_0's binary_error: 0.173333\n",
            "[37]\tvalid_0's binary_error: 0.173333\n",
            "[38]\tvalid_0's binary_error: 0.173333\n",
            "[39]\tvalid_0's binary_error: 0.173333\n",
            "[40]\tvalid_0's binary_error: 0.173333\n",
            "[41]\tvalid_0's binary_error: 0.173333\n",
            "[42]\tvalid_0's binary_error: 0.173333\n",
            "[43]\tvalid_0's binary_error: 0.173333\n",
            "[44]\tvalid_0's binary_error: 0.173333\n",
            "[45]\tvalid_0's binary_error: 0.173333\n",
            "[46]\tvalid_0's binary_error: 0.173333\n",
            "[47]\tvalid_0's binary_error: 0.173333\n",
            "[48]\tvalid_0's binary_error: 0.186667\n",
            "[49]\tvalid_0's binary_error: 0.186667\n",
            "[50]\tvalid_0's binary_error: 0.186667\n",
            "[51]\tvalid_0's binary_error: 0.186667\n",
            "[52]\tvalid_0's binary_error: 0.186667\n",
            "[53]\tvalid_0's binary_error: 0.186667\n",
            "[54]\tvalid_0's binary_error: 0.186667\n",
            "[55]\tvalid_0's binary_error: 0.186667\n",
            "[56]\tvalid_0's binary_error: 0.186667\n",
            "[57]\tvalid_0's binary_error: 0.186667\n",
            "[58]\tvalid_0's binary_error: 0.186667\n",
            "[59]\tvalid_0's binary_error: 0.186667\n",
            "[60]\tvalid_0's binary_error: 0.173333\n",
            "[61]\tvalid_0's binary_error: 0.173333\n",
            "[62]\tvalid_0's binary_error: 0.16\n",
            "[63]\tvalid_0's binary_error: 0.173333\n",
            "[64]\tvalid_0's binary_error: 0.173333\n",
            "[65]\tvalid_0's binary_error: 0.173333\n",
            "[66]\tvalid_0's binary_error: 0.173333\n",
            "[67]\tvalid_0's binary_error: 0.173333\n",
            "[68]\tvalid_0's binary_error: 0.173333\n",
            "[69]\tvalid_0's binary_error: 0.173333\n",
            "[70]\tvalid_0's binary_error: 0.173333\n",
            "[71]\tvalid_0's binary_error: 0.173333\n",
            "[72]\tvalid_0's binary_error: 0.173333\n",
            "[73]\tvalid_0's binary_error: 0.173333\n",
            "[74]\tvalid_0's binary_error: 0.173333\n",
            "[75]\tvalid_0's binary_error: 0.173333\n",
            "[76]\tvalid_0's binary_error: 0.173333\n",
            "[77]\tvalid_0's binary_error: 0.173333\n",
            "[78]\tvalid_0's binary_error: 0.173333\n",
            "[79]\tvalid_0's binary_error: 0.173333\n",
            "[80]\tvalid_0's binary_error: 0.173333\n",
            "[81]\tvalid_0's binary_error: 0.173333\n",
            "[82]\tvalid_0's binary_error: 0.173333\n",
            "[83]\tvalid_0's binary_error: 0.173333\n",
            "[84]\tvalid_0's binary_error: 0.173333\n",
            "[85]\tvalid_0's binary_error: 0.173333\n",
            "[86]\tvalid_0's binary_error: 0.173333\n",
            "[87]\tvalid_0's binary_error: 0.173333\n",
            "[88]\tvalid_0's binary_error: 0.173333\n",
            "[89]\tvalid_0's binary_error: 0.173333\n",
            "[90]\tvalid_0's binary_error: 0.173333\n",
            "[91]\tvalid_0's binary_error: 0.173333\n",
            "[92]\tvalid_0's binary_error: 0.173333\n",
            "[93]\tvalid_0's binary_error: 0.173333\n",
            "[94]\tvalid_0's binary_error: 0.173333\n",
            "[95]\tvalid_0's binary_error: 0.173333\n",
            "[96]\tvalid_0's binary_error: 0.173333\n",
            "[97]\tvalid_0's binary_error: 0.173333\n",
            "[98]\tvalid_0's binary_error: 0.173333\n",
            "[99]\tvalid_0's binary_error: 0.173333\n",
            "[100]\tvalid_0's binary_error: 0.173333\n",
            "[101]\tvalid_0's binary_error: 0.173333\n",
            "[102]\tvalid_0's binary_error: 0.173333\n",
            "[103]\tvalid_0's binary_error: 0.173333\n",
            "[104]\tvalid_0's binary_error: 0.173333\n",
            "[105]\tvalid_0's binary_error: 0.173333\n",
            "[106]\tvalid_0's binary_error: 0.173333\n",
            "[107]\tvalid_0's binary_error: 0.173333\n",
            "[108]\tvalid_0's binary_error: 0.173333\n",
            "[109]\tvalid_0's binary_error: 0.173333\n",
            "[110]\tvalid_0's binary_error: 0.173333\n",
            "[111]\tvalid_0's binary_error: 0.173333\n",
            "[112]\tvalid_0's binary_error: 0.173333\n",
            "[113]\tvalid_0's binary_error: 0.173333\n",
            "[114]\tvalid_0's binary_error: 0.173333\n",
            "[115]\tvalid_0's binary_error: 0.173333\n",
            "[116]\tvalid_0's binary_error: 0.173333\n",
            "[117]\tvalid_0's binary_error: 0.173333\n",
            "[118]\tvalid_0's binary_error: 0.16\n",
            "[119]\tvalid_0's binary_error: 0.173333\n",
            "[120]\tvalid_0's binary_error: 0.173333\n",
            "[121]\tvalid_0's binary_error: 0.16\n",
            "[122]\tvalid_0's binary_error: 0.16\n",
            "[123]\tvalid_0's binary_error: 0.16\n",
            "[124]\tvalid_0's binary_error: 0.16\n",
            "[125]\tvalid_0's binary_error: 0.173333\n",
            "[126]\tvalid_0's binary_error: 0.173333\n",
            "[127]\tvalid_0's binary_error: 0.173333\n",
            "[128]\tvalid_0's binary_error: 0.173333\n",
            "[129]\tvalid_0's binary_error: 0.173333\n",
            "[130]\tvalid_0's binary_error: 0.173333\n",
            "[131]\tvalid_0's binary_error: 0.173333\n",
            "[132]\tvalid_0's binary_error: 0.173333\n",
            "[133]\tvalid_0's binary_error: 0.173333\n",
            "[134]\tvalid_0's binary_error: 0.173333\n",
            "[135]\tvalid_0's binary_error: 0.173333\n",
            "[136]\tvalid_0's binary_error: 0.173333\n",
            "[137]\tvalid_0's binary_error: 0.173333\n",
            "[138]\tvalid_0's binary_error: 0.173333\n",
            "[139]\tvalid_0's binary_error: 0.173333\n",
            "[140]\tvalid_0's binary_error: 0.173333\n",
            "[141]\tvalid_0's binary_error: 0.173333\n",
            "[142]\tvalid_0's binary_error: 0.173333\n",
            "[143]\tvalid_0's binary_error: 0.173333\n",
            "[144]\tvalid_0's binary_error: 0.173333\n",
            "[145]\tvalid_0's binary_error: 0.173333\n",
            "[146]\tvalid_0's binary_error: 0.173333\n",
            "[147]\tvalid_0's binary_error: 0.173333\n",
            "[148]\tvalid_0's binary_error: 0.173333\n",
            "[149]\tvalid_0's binary_error: 0.173333\n",
            "[150]\tvalid_0's binary_error: 0.173333\n",
            "[151]\tvalid_0's binary_error: 0.173333\n",
            "[152]\tvalid_0's binary_error: 0.173333\n",
            "[153]\tvalid_0's binary_error: 0.173333\n",
            "[154]\tvalid_0's binary_error: 0.173333\n",
            "[155]\tvalid_0's binary_error: 0.173333\n",
            "[156]\tvalid_0's binary_error: 0.173333\n",
            "[157]\tvalid_0's binary_error: 0.173333\n",
            "[158]\tvalid_0's binary_error: 0.173333\n",
            "[159]\tvalid_0's binary_error: 0.173333\n",
            "[160]\tvalid_0's binary_error: 0.173333\n",
            "[161]\tvalid_0's binary_error: 0.173333\n",
            "[162]\tvalid_0's binary_error: 0.173333\n",
            "Early stopping, best iteration is:\n",
            "[62]\tvalid_0's binary_error: 0.16\n"
          ]
        }
      ]
    },
    {
      "cell_type": "code",
      "source": [
        "#@title\n",
        "from sklearn.metrics import roc_auc_score, roc_curve, auc\n",
        "from sklearn.metrics import classification_report\n",
        "# テストデータによる推論\n",
        "y_pred = lgb_model.predict(test_x, num_iteration=lgb_model.best_iteration)\n",
        "\n",
        "# 評価指標の計算\n",
        "fpr, tpr, thresholds = roc_curve(test_y, y_pred)\n",
        "roc_auc = auc(fpr, tpr)\n",
        "\n",
        "# 重要変数とROC-Curveの可視化\n",
        "fig, axes = plt.subplots(nrows=1, ncols=2, figsize=(13,6))\n",
        "feat_imp = pd.Series(lgb_model.feature_importance(), index=test_x.columns).sort_values(ascending=False)\n",
        "feat_imp = feat_imp.head(30)\n",
        "feat_imp = feat_imp.sort_values(ascending=True)\n",
        "feat_imp.plot(kind='barh', title='Feature Importance', ax=axes[0], color=sns.color_palette()[0])\n",
        "axes[0].set_xlabel('Feature Importance Score')\n",
        "axes[1].plot(fpr, tpr, label='ROC curve (area = %0.3f)' % roc_auc)\n",
        "axes[1].plot([0,1], [0,1], 'k--')\n",
        "plt.xlabel('False Positive Rate')\n",
        "plt.ylabel('True Positive Rate')\n",
        "plt.title('ROC Curve')\n",
        "legend = axes[1].legend(frameon=True, loc='lower right', fontsize = 'medium') # 凡例\n",
        "frame = legend.get_frame()\n",
        "frame.set_facecolor('white')\n",
        "frame.set_edgecolor('gray')\n",
        "acc=accuracy_score(test_y,pred_y)\n",
        "recall=recall_score(test_y,pred_y)\n",
        "precision=precision_score(test_y,pred_y)\n",
        "f_measure=f1_score(test_y,pred_y)\n",
        "print('Accuracy:',acc)\n",
        "print('Recall:',recall)\n",
        "print('Precision:',precision)\n",
        "print('F-measure:{}'.format(f_measure))\n",
        "sensitivity=sensitivity1(test_y,pred_y)\n",
        "print('Sensitivity:{}'.format(sensitivity))\n",
        "specificity=specificity1(test_y,pred_y)\n",
        "print('Specificity:{}'.format(specificity))\n",
        "conf_matrix=confusion_matrix(test_y,pred_y)\n",
        "tn,fp,fn,tp=conf_matrix.ravel()\n",
        "print('tn,fp,fn,tp=',tn,fp,fn,tp)"
      ],
      "metadata": {
        "colab": {
          "base_uri": "https://localhost:8080/",
          "height": 531
        },
        "id": "YncqYvIhfgaX",
        "outputId": "5bab7d90-c642-437d-e1aa-15e032305c81",
        "cellView": "form"
      },
      "execution_count": null,
      "outputs": [
        {
          "output_type": "stream",
          "name": "stdout",
          "text": [
            "Accuracy: 0.8266666666666667\n",
            "Recall: 0.8888888888888888\n",
            "Precision: 0.7804878048780488\n",
            "F-measure:0.8311688311688312\n",
            "Sensitivity:0.8888888888888888\n",
            "Specificity:0.7692307692307693\n",
            "tn,fp,fn,tp= 30 9 4 32\n"
          ]
        },
        {
          "output_type": "display_data",
          "data": {
            "text/plain": [
              "<Figure size 936x432 with 2 Axes>"
            ],
            "image/png": "[encoded data removed]"
          },
          "metadata": {
            "needs_background": "light"
          }
        }
      ]
    }
  ]
}