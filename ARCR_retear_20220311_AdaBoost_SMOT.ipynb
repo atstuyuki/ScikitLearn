{
  "nbformat": 4,
  "nbformat_minor": 0,
  "metadata": {
    "colab": {
      "name": "ARCR_retear_20220303_AdaBoost_SMOT",
      "provenance": [],
      "collapsed_sections": [],
      "authorship_tag": "ABX9TyPAO0XnVnFaC3FdU1zmdIA5",
      "include_colab_link": true
    },
    "kernelspec": {
      "name": "python3",
      "display_name": "Python 3"
    },
    "language_info": {
      "name": "python"
    }
  },
  "cells": [
    {
      "cell_type": "markdown",
      "metadata": {
        "id": "view-in-github",
        "colab_type": "text"
      },
      "source": [
        "<a href=\"https://colab.research.google.com/github/atstuyuki/ScikitLearn/blob/main/ARCR_retear_20220311_AdaBoost_SMOT.ipynb\" target=\"_parent\"><img src=\"https://colab.research.google.com/assets/colab-badge.svg\" alt=\"Open In Colab\"/></a>"
      ]
    },
    {
      "cell_type": "code",
      "source": [
        "#cat_boost をインストール\n",
        "!pip install catboost"
      ],
      "metadata": {
        "colab": {
          "base_uri": "https://localhost:8080/"
        },
        "id": "tGfhIu1xblNF",
        "outputId": "c9ded66f-d0d6-4ea6-8f01-2eccb68b3304"
      },
      "execution_count": 1,
      "outputs": [
        {
          "output_type": "stream",
          "name": "stdout",
          "text": [
            "Collecting catboost\n",
            "  Downloading catboost-1.0.4-cp37-none-manylinux1_x86_64.whl (76.1 MB)\n",
            "\u001b[K     |████████████████████████████████| 76.1 MB 11.1 MB/s \n",
            "\u001b[?25hRequirement already satisfied: plotly in /usr/local/lib/python3.7/dist-packages (from catboost) (5.5.0)\n",
            "Requirement already satisfied: pandas>=0.24.0 in /usr/local/lib/python3.7/dist-packages (from catboost) (1.3.5)\n",
            "Requirement already satisfied: matplotlib in /usr/local/lib/python3.7/dist-packages (from catboost) (3.2.2)\n",
            "Requirement already satisfied: graphviz in /usr/local/lib/python3.7/dist-packages (from catboost) (0.10.1)\n",
            "Requirement already satisfied: scipy in /usr/local/lib/python3.7/dist-packages (from catboost) (1.4.1)\n",
            "Requirement already satisfied: six in /usr/local/lib/python3.7/dist-packages (from catboost) (1.15.0)\n",
            "Requirement already satisfied: numpy>=1.16.0 in /usr/local/lib/python3.7/dist-packages (from catboost) (1.21.5)\n",
            "Requirement already satisfied: python-dateutil>=2.7.3 in /usr/local/lib/python3.7/dist-packages (from pandas>=0.24.0->catboost) (2.8.2)\n",
            "Requirement already satisfied: pytz>=2017.3 in /usr/local/lib/python3.7/dist-packages (from pandas>=0.24.0->catboost) (2018.9)\n",
            "Requirement already satisfied: pyparsing!=2.0.4,!=2.1.2,!=2.1.6,>=2.0.1 in /usr/local/lib/python3.7/dist-packages (from matplotlib->catboost) (3.0.7)\n",
            "Requirement already satisfied: cycler>=0.10 in /usr/local/lib/python3.7/dist-packages (from matplotlib->catboost) (0.11.0)\n",
            "Requirement already satisfied: kiwisolver>=1.0.1 in /usr/local/lib/python3.7/dist-packages (from matplotlib->catboost) (1.3.2)\n",
            "Requirement already satisfied: tenacity>=6.2.0 in /usr/local/lib/python3.7/dist-packages (from plotly->catboost) (8.0.1)\n",
            "Installing collected packages: catboost\n",
            "Successfully installed catboost-1.0.4\n"
          ]
        }
      ]
    },
    {
      "cell_type": "code",
      "execution_count": 2,
      "metadata": {
        "id": "rqpSDXb3LqRl"
      },
      "outputs": [],
      "source": [
        "#ライブラリのインポート\n",
        "\n",
        "# data analysis and wranglinimport seaborn as sns\n",
        "\n",
        "import math\n",
        "import pandas as pd\n",
        "import numpy as np\n",
        "import random as rnd\n",
        "from scipy import stats\n",
        "from scipy.stats import norm\n",
        "from sklearn.preprocessing import MinMaxScaler #正規化（最小0,最大1となるように変換）\n",
        "from sklearn.preprocessing import StandardScaler #標準化（平均0,分散1となるように変換）\n",
        "from sklearn.preprocessing import RobustScaler #中央値0,四分位範囲1となるように変換(外れ値の影響を抑える)\n",
        "from sklearn.preprocessing import LabelEncoder #カテゴリ変数の置換\n",
        "from sklearn.pipeline import Pipeline #パイプライン（変換器と推定器を結合）\n",
        "from sklearn.model_selection import train_test_split\n",
        "#splitting data : train_data 80%,test_data 20%\n",
        "#X_train, X_test, y_train, y_test = \\\n",
        "#    train_test_split(X, y, test_size=0.20, random_state=1)\n",
        "\n",
        "# Added version check for recent scikit-learn 0.18 checks\n",
        "from distutils.version import LooseVersion as Version\n",
        "from sklearn import __version__ as sklearn_version\n",
        "\n",
        "# visualization\n",
        "import seaborn as sns\n",
        "import matplotlib.pyplot as plt\n",
        "%matplotlib inline\n",
        "\n",
        "# machine learning\n",
        "from sklearn.linear_model import LinearRegression #線形回帰\n",
        "from sklearn.linear_model import Lasso, LassoCV #Lasso ,LassoCV(内部チューニング)\n",
        "from sklearn.linear_model import Ridge, RidgeCV #Ridge ,RidgeCV(内部チューニング) \n",
        "from sklearn.linear_model import ElasticNet ,ElasticNetCV #RElasticNet , ElasticNetCV(内部チューニング) \n",
        "from sklearn.linear_model import LogisticRegression #ロジスティック回帰\n",
        "from sklearn.kernel_ridge import KernelRidge #カーネルリッジ回帰\n",
        "from sklearn.svm import SVC, LinearSVC #SVM\n",
        "from sklearn.decomposition import PCA #PCA(主成分分析）\n",
        "from sklearn.discriminant_analysis import LinearDiscriminantAnalysis as LDA #LDA(線形判別分析)\n",
        "from sklearn.ensemble import RandomForestClassifier #ランダムフォレスト\n",
        "from sklearn.ensemble import RandomForestRegressor #ランダムフォレスト回帰\n",
        "from sklearn.ensemble import GradientBoostingRegressor #勾配ブースティング回帰\n",
        "from sklearn.neighbors import KNeighborsClassifier #k近傍法\n",
        "from sklearn.cluster import KMeans #k-means法 (非階層的クラスタリング(クラスター分析))\n",
        "from sklearn.cluster import AgglomerativeClustering #階層的クラスタリング(クラスター分析)\n",
        "from sklearn.cluster import DBSCAN #DBSCAN(クラスター分析)\n",
        "from sklearn.naive_bayes import GaussianNB #ナイーブベイズ（正規分布ver)\n",
        "from sklearn.linear_model import Perceptron #パーセプトロン\n",
        "from sklearn.linear_model import SGDClassifier #確率的勾配降下\n",
        "from sklearn.tree import DecisionTreeClassifier #決定木\n",
        "from sklearn.tree import DecisionTreeRegressor #決定木回帰\n",
        "import xgboost as xgb #XGBoost\n",
        "import lightgbm as lgb #LightGBM\n",
        "import catboost as cb #catvoost\n",
        "\n",
        "#model_evaluation & tuning\n",
        "from sklearn.metrics import r2_score #決定係数R^2\n",
        "from sklearn.metrics import mean_squared_error #平均二乗誤差MSE \n",
        "from sklearn.metrics import confusion_matrix #混同行列\n",
        "from sklearn.metrics import accuracy_score #正解率\n",
        "from sklearn.model_selection import KFold #k分割交差検証\n",
        "from sklearn.model_selection import StratifiedKFold #層化k分割交差検証\n",
        "from sklearn.model_selection import cross_val_score #交差検証のスコア\n",
        "from sklearn.model_selection import learning_curve #学習曲線\n",
        "from sklearn.model_selection import validation_curve #検証曲線\n",
        "from sklearn.model_selection import GridSearchCV #グリッドサーチ\n",
        "\n",
        "#ignore warnings which are not unrelated to work\n",
        "#実行に影響がない警告の非表示\n",
        "import warnings\n",
        "warnings.filterwarnings('ignore')"
      ]
    },
    {
      "cell_type": "code",
      "source": [
        "#手元のデータをgoogle colabにupload\n",
        "\n",
        "from google.colab import files\n",
        "import os\n",
        "uploaded = files.upload()\n",
        "#uploadedは辞書型なのでファイル名を取り出し、絶対パスを取得してfullpathという変数を当てる\n",
        "for k in uploaded.keys():\n",
        "  print('file name:',k)\n",
        "fullpath=os.path.abspath(k)\n",
        "print('fullpath:',fullpath)"
      ],
      "metadata": {
        "colab": {
          "resources": {
            "http://localhost:8080/nbextensions/google.colab/files.js": {
              "data": "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",
              "ok": true,
              "headers": [
                [
                  "content-type",
                  "application/javascript"
                ]
              ],
              "status": 200,
              "status_text": ""
            }
          },
          "base_uri": "https://localhost:8080/",
          "height": 115
        },
        "id": "cinl3A6PL2tY",
        "outputId": "c8d95672-0a17-4490-a7cc-6fc6a12f1bca"
      },
      "execution_count": 3,
      "outputs": [
        {
          "output_type": "display_data",
          "data": {
            "text/html": [
              "\n",
              "     <input type=\"file\" id=\"files-4fdc3e26-95e0-4f9c-b29a-283d431872aa\" name=\"files[]\" multiple disabled\n",
              "        style=\"border:none\" />\n",
              "     <output id=\"result-4fdc3e26-95e0-4f9c-b29a-283d431872aa\">\n",
              "      Upload widget is only available when the cell has been executed in the\n",
              "      current browser session. Please rerun this cell to enable.\n",
              "      </output>\n",
              "      <script src=\"/nbextensions/google.colab/files.js\"></script> "
            ],
            "text/plain": [
              "<IPython.core.display.HTML object>"
            ]
          },
          "metadata": {}
        },
        {
          "output_type": "stream",
          "name": "stdout",
          "text": [
            "Saving ARCR_retear_20220304.csv to ARCR_retear_20220304.csv\n",
            "file name: ARCR_retear_20220304.csv\n",
            "fullpath: /content/ARCR_retear_20220304.csv\n"
          ]
        }
      ]
    },
    {
      "cell_type": "code",
      "source": [
        "#dataのインポート  \\を　/に置き換えfullpathを代入　csvを’,'で区切る \n",
        "#文字認識異常が出た時は　encoding='UTF-8'や’shift_jis'にする　もともとのCSVファイルの文字形式を確認する\n",
        "#もともとのCSVで数値がintやfloatではなくstring等の事があるので、良くチェックしておく\n",
        "#https://insilico-notebook.com/python-unicodedecodeerror/\n",
        "df=pd.read_csv(fullpath,sep=',',encoding='UTF-8')"
      ],
      "metadata": {
        "id": "SFeAF48mMOuy"
      },
      "execution_count": 4,
      "outputs": []
    },
    {
      "cell_type": "code",
      "source": [
        "df.head()#データの最初の5行の表示"
      ],
      "metadata": {
        "colab": {
          "base_uri": "https://localhost:8080/",
          "height": 206
        },
        "id": "6NO-cSL7Mj25",
        "outputId": "e496979f-2ac6-4460-e8c0-5461c30e45dc"
      },
      "execution_count": 5,
      "outputs": [
        {
          "output_type": "execute_result",
          "data": {
            "text/html": [
              "\n",
              "  <div id=\"df-2955e5f8-0cdc-4894-8213-e618e00b8355\">\n",
              "    <div class=\"colab-df-container\">\n",
              "      <div>\n",
              "<style scoped>\n",
              "    .dataframe tbody tr th:only-of-type {\n",
              "        vertical-align: middle;\n",
              "    }\n",
              "\n",
              "    .dataframe tbody tr th {\n",
              "        vertical-align: top;\n",
              "    }\n",
              "\n",
              "    .dataframe thead th {\n",
              "        text-align: right;\n",
              "    }\n",
              "</style>\n",
              "<table border=\"1\" class=\"dataframe\">\n",
              "  <thead>\n",
              "    <tr style=\"text-align: right;\">\n",
              "      <th></th>\n",
              "      <th>stump type</th>\n",
              "      <th>Gender</th>\n",
              "      <th>Age</th>\n",
              "      <th>DM</th>\n",
              "      <th>Hyperlipidemia</th>\n",
              "      <th>Tear_size</th>\n",
              "      <th>Goutallier</th>\n",
              "      <th>Retear</th>\n",
              "    </tr>\n",
              "  </thead>\n",
              "  <tbody>\n",
              "    <tr>\n",
              "      <th>0</th>\n",
              "      <td>1</td>\n",
              "      <td>F</td>\n",
              "      <td>68</td>\n",
              "      <td>0</td>\n",
              "      <td>0</td>\n",
              "      <td>1</td>\n",
              "      <td>1</td>\n",
              "      <td>0</td>\n",
              "    </tr>\n",
              "    <tr>\n",
              "      <th>1</th>\n",
              "      <td>1</td>\n",
              "      <td>F</td>\n",
              "      <td>71</td>\n",
              "      <td>0</td>\n",
              "      <td>0</td>\n",
              "      <td>1</td>\n",
              "      <td>1</td>\n",
              "      <td>0</td>\n",
              "    </tr>\n",
              "    <tr>\n",
              "      <th>2</th>\n",
              "      <td>1</td>\n",
              "      <td>F</td>\n",
              "      <td>59</td>\n",
              "      <td>0</td>\n",
              "      <td>0</td>\n",
              "      <td>1</td>\n",
              "      <td>1</td>\n",
              "      <td>0</td>\n",
              "    </tr>\n",
              "    <tr>\n",
              "      <th>3</th>\n",
              "      <td>1</td>\n",
              "      <td>F</td>\n",
              "      <td>59</td>\n",
              "      <td>0</td>\n",
              "      <td>0</td>\n",
              "      <td>1</td>\n",
              "      <td>1</td>\n",
              "      <td>0</td>\n",
              "    </tr>\n",
              "    <tr>\n",
              "      <th>4</th>\n",
              "      <td>1</td>\n",
              "      <td>M</td>\n",
              "      <td>72</td>\n",
              "      <td>0</td>\n",
              "      <td>0</td>\n",
              "      <td>1</td>\n",
              "      <td>1</td>\n",
              "      <td>0</td>\n",
              "    </tr>\n",
              "  </tbody>\n",
              "</table>\n",
              "</div>\n",
              "      <button class=\"colab-df-convert\" onclick=\"convertToInteractive('df-2955e5f8-0cdc-4894-8213-e618e00b8355')\"\n",
              "              title=\"Convert this dataframe to an interactive table.\"\n",
              "              style=\"display:none;\">\n",
              "        \n",
              "  <svg xmlns=\"http://www.w3.org/2000/svg\" height=\"24px\"viewBox=\"0 0 24 24\"\n",
              "       width=\"24px\">\n",
              "    <path d=\"M0 0h24v24H0V0z\" fill=\"none\"/>\n",
              "    <path d=\"M18.56 5.44l.94 2.06.94-2.06 2.06-.94-2.06-.94-.94-2.06-.94 2.06-2.06.94zm-11 1L8.5 8.5l.94-2.06 2.06-.94-2.06-.94L8.5 2.5l-.94 2.06-2.06.94zm10 10l.94 2.06.94-2.06 2.06-.94-2.06-.94-.94-2.06-.94 2.06-2.06.94z\"/><path d=\"M17.41 7.96l-1.37-1.37c-.4-.4-.92-.59-1.43-.59-.52 0-1.04.2-1.43.59L10.3 9.45l-7.72 7.72c-.78.78-.78 2.05 0 2.83L4 21.41c.39.39.9.59 1.41.59.51 0 1.02-.2 1.41-.59l7.78-7.78 2.81-2.81c.8-.78.8-2.07 0-2.86zM5.41 20L4 18.59l7.72-7.72 1.47 1.35L5.41 20z\"/>\n",
              "  </svg>\n",
              "      </button>\n",
              "      \n",
              "  <style>\n",
              "    .colab-df-container {\n",
              "      display:flex;\n",
              "      flex-wrap:wrap;\n",
              "      gap: 12px;\n",
              "    }\n",
              "\n",
              "    .colab-df-convert {\n",
              "      background-color: #E8F0FE;\n",
              "      border: none;\n",
              "      border-radius: 50%;\n",
              "      cursor: pointer;\n",
              "      display: none;\n",
              "      fill: #1967D2;\n",
              "      height: 32px;\n",
              "      padding: 0 0 0 0;\n",
              "      width: 32px;\n",
              "    }\n",
              "\n",
              "    .colab-df-convert:hover {\n",
              "      background-color: #E2EBFA;\n",
              "      box-shadow: 0px 1px 2px rgba(60, 64, 67, 0.3), 0px 1px 3px 1px rgba(60, 64, 67, 0.15);\n",
              "      fill: #174EA6;\n",
              "    }\n",
              "\n",
              "    [theme=dark] .colab-df-convert {\n",
              "      background-color: #3B4455;\n",
              "      fill: #D2E3FC;\n",
              "    }\n",
              "\n",
              "    [theme=dark] .colab-df-convert:hover {\n",
              "      background-color: #434B5C;\n",
              "      box-shadow: 0px 1px 3px 1px rgba(0, 0, 0, 0.15);\n",
              "      filter: drop-shadow(0px 1px 2px rgba(0, 0, 0, 0.3));\n",
              "      fill: #FFFFFF;\n",
              "    }\n",
              "  </style>\n",
              "\n",
              "      <script>\n",
              "        const buttonEl =\n",
              "          document.querySelector('#df-2955e5f8-0cdc-4894-8213-e618e00b8355 button.colab-df-convert');\n",
              "        buttonEl.style.display =\n",
              "          google.colab.kernel.accessAllowed ? 'block' : 'none';\n",
              "\n",
              "        async function convertToInteractive(key) {\n",
              "          const element = document.querySelector('#df-2955e5f8-0cdc-4894-8213-e618e00b8355');\n",
              "          const dataTable =\n",
              "            await google.colab.kernel.invokeFunction('convertToInteractive',\n",
              "                                                     [key], {});\n",
              "          if (!dataTable) return;\n",
              "\n",
              "          const docLinkHtml = 'Like what you see? Visit the ' +\n",
              "            '<a target=\"_blank\" href=https://colab.research.google.com/notebooks/data_table.ipynb>data table notebook</a>'\n",
              "            + ' to learn more about interactive tables.';\n",
              "          element.innerHTML = '';\n",
              "          dataTable['output_type'] = 'display_data';\n",
              "          await google.colab.output.renderOutput(dataTable, element);\n",
              "          const docLink = document.createElement('div');\n",
              "          docLink.innerHTML = docLinkHtml;\n",
              "          element.appendChild(docLink);\n",
              "        }\n",
              "      </script>\n",
              "    </div>\n",
              "  </div>\n",
              "  "
            ],
            "text/plain": [
              "   stump type Gender  Age  DM  Hyperlipidemia  Tear_size  Goutallier  Retear\n",
              "0           1      F   68   0               0          1           1       0\n",
              "1           1      F   71   0               0          1           1       0\n",
              "2           1      F   59   0               0          1           1       0\n",
              "3           1      F   59   0               0          1           1       0\n",
              "4           1      M   72   0               0          1           1       0"
            ]
          },
          "metadata": {},
          "execution_count": 5
        }
      ]
    },
    {
      "cell_type": "code",
      "source": [
        "#dfの型の確認　object型等は変更する必要がある\n",
        "df.dtypes"
      ],
      "metadata": {
        "colab": {
          "base_uri": "https://localhost:8080/"
        },
        "id": "sbLwYZRRN467",
        "outputId": "c11c9ba6-ce76-4e74-f51d-2f75fafc50f3"
      },
      "execution_count": 6,
      "outputs": [
        {
          "output_type": "execute_result",
          "data": {
            "text/plain": [
              "stump type         int64\n",
              "Gender            object\n",
              "Age                int64\n",
              "DM                 int64\n",
              "Hyperlipidemia     int64\n",
              "Tear_size          int64\n",
              "Goutallier         int64\n",
              "Retear             int64\n",
              "dtype: object"
            ]
          },
          "metadata": {},
          "execution_count": 6
        }
      ]
    },
    {
      "cell_type": "code",
      "source": [
        "#今回の解析に不要な列をdrop\n",
        "#df=df.drop(['Unnamed: 8','Unnamed: 9','Unnamed: 10','Unnamed: 11','Unnamed: 12','Unnamed: 13'],axis='columns') "
      ],
      "metadata": {
        "id": "wfuBLN23OIVy"
      },
      "execution_count": null,
      "outputs": []
    },
    {
      "cell_type": "code",
      "source": [
        "#カテゴリ変数をone hot enchoding (drop_first=Trueならダミーエンコーディングなので1次元削減)\n",
        "#今回はSEX_Mがone hot enchodingされる\n",
        "df= pd.get_dummies(df,drop_first=True) \n",
        "df.dtypes"
      ],
      "metadata": {
        "colab": {
          "base_uri": "https://localhost:8080/"
        },
        "id": "V4svhQdFOhus",
        "outputId": "efb6d186-101f-46b2-ba9d-a443e74827b1"
      },
      "execution_count": 7,
      "outputs": [
        {
          "output_type": "execute_result",
          "data": {
            "text/plain": [
              "stump type        int64\n",
              "Age               int64\n",
              "DM                int64\n",
              "Hyperlipidemia    int64\n",
              "Tear_size         int64\n",
              "Goutallier        int64\n",
              "Retear            int64\n",
              "Gender_M          uint8\n",
              "dtype: object"
            ]
          },
          "metadata": {},
          "execution_count": 7
        }
      ]
    },
    {
      "cell_type": "code",
      "source": [
        "#dfの欠損値の確認\n",
        "df.isnull().sum()"
      ],
      "metadata": {
        "colab": {
          "base_uri": "https://localhost:8080/"
        },
        "id": "nXhpwSjxO2iG",
        "outputId": "9752454c-5416-47f2-88cd-c9470206dd7a"
      },
      "execution_count": 8,
      "outputs": [
        {
          "output_type": "execute_result",
          "data": {
            "text/plain": [
              "stump type        0\n",
              "Age               0\n",
              "DM                0\n",
              "Hyperlipidemia    0\n",
              "Tear_size         0\n",
              "Goutallier        0\n",
              "Retear            0\n",
              "Gender_M          0\n",
              "dtype: int64"
            ]
          },
          "metadata": {},
          "execution_count": 8
        }
      ]
    },
    {
      "cell_type": "code",
      "source": [
        "# データフレームの統計量記述\n",
        "df.describe()"
      ],
      "metadata": {
        "colab": {
          "base_uri": "https://localhost:8080/",
          "height": 300
        },
        "id": "GvJlI7XMQyaq",
        "outputId": "16685b37-b173-41df-f779-e2e7d887a4dd"
      },
      "execution_count": 9,
      "outputs": [
        {
          "output_type": "execute_result",
          "data": {
            "text/html": [
              "\n",
              "  <div id=\"df-62f8c6cd-a4ba-4118-b7d8-71098587a261\">\n",
              "    <div class=\"colab-df-container\">\n",
              "      <div>\n",
              "<style scoped>\n",
              "    .dataframe tbody tr th:only-of-type {\n",
              "        vertical-align: middle;\n",
              "    }\n",
              "\n",
              "    .dataframe tbody tr th {\n",
              "        vertical-align: top;\n",
              "    }\n",
              "\n",
              "    .dataframe thead th {\n",
              "        text-align: right;\n",
              "    }\n",
              "</style>\n",
              "<table border=\"1\" class=\"dataframe\">\n",
              "  <thead>\n",
              "    <tr style=\"text-align: right;\">\n",
              "      <th></th>\n",
              "      <th>stump type</th>\n",
              "      <th>Age</th>\n",
              "      <th>DM</th>\n",
              "      <th>Hyperlipidemia</th>\n",
              "      <th>Tear_size</th>\n",
              "      <th>Goutallier</th>\n",
              "      <th>Retear</th>\n",
              "      <th>Gender_M</th>\n",
              "    </tr>\n",
              "  </thead>\n",
              "  <tbody>\n",
              "    <tr>\n",
              "      <th>count</th>\n",
              "      <td>351.000000</td>\n",
              "      <td>351.000000</td>\n",
              "      <td>351.000000</td>\n",
              "      <td>351.000000</td>\n",
              "      <td>351.000000</td>\n",
              "      <td>351.000000</td>\n",
              "      <td>351.000000</td>\n",
              "      <td>351.000000</td>\n",
              "    </tr>\n",
              "    <tr>\n",
              "      <th>mean</th>\n",
              "      <td>1.834758</td>\n",
              "      <td>63.603989</td>\n",
              "      <td>0.213675</td>\n",
              "      <td>0.236467</td>\n",
              "      <td>1.908832</td>\n",
              "      <td>1.754986</td>\n",
              "      <td>0.131054</td>\n",
              "      <td>0.618234</td>\n",
              "    </tr>\n",
              "    <tr>\n",
              "      <th>std</th>\n",
              "      <td>0.804303</td>\n",
              "      <td>9.028519</td>\n",
              "      <td>0.410485</td>\n",
              "      <td>0.425519</td>\n",
              "      <td>0.805486</td>\n",
              "      <td>0.895909</td>\n",
              "      <td>0.337941</td>\n",
              "      <td>0.486513</td>\n",
              "    </tr>\n",
              "    <tr>\n",
              "      <th>min</th>\n",
              "      <td>1.000000</td>\n",
              "      <td>38.000000</td>\n",
              "      <td>0.000000</td>\n",
              "      <td>0.000000</td>\n",
              "      <td>1.000000</td>\n",
              "      <td>0.000000</td>\n",
              "      <td>0.000000</td>\n",
              "      <td>0.000000</td>\n",
              "    </tr>\n",
              "    <tr>\n",
              "      <th>25%</th>\n",
              "      <td>1.000000</td>\n",
              "      <td>58.000000</td>\n",
              "      <td>0.000000</td>\n",
              "      <td>0.000000</td>\n",
              "      <td>1.000000</td>\n",
              "      <td>1.000000</td>\n",
              "      <td>0.000000</td>\n",
              "      <td>0.000000</td>\n",
              "    </tr>\n",
              "    <tr>\n",
              "      <th>50%</th>\n",
              "      <td>2.000000</td>\n",
              "      <td>65.000000</td>\n",
              "      <td>0.000000</td>\n",
              "      <td>0.000000</td>\n",
              "      <td>2.000000</td>\n",
              "      <td>2.000000</td>\n",
              "      <td>0.000000</td>\n",
              "      <td>1.000000</td>\n",
              "    </tr>\n",
              "    <tr>\n",
              "      <th>75%</th>\n",
              "      <td>3.000000</td>\n",
              "      <td>70.000000</td>\n",
              "      <td>0.000000</td>\n",
              "      <td>0.000000</td>\n",
              "      <td>2.000000</td>\n",
              "      <td>2.000000</td>\n",
              "      <td>0.000000</td>\n",
              "      <td>1.000000</td>\n",
              "    </tr>\n",
              "    <tr>\n",
              "      <th>max</th>\n",
              "      <td>3.000000</td>\n",
              "      <td>83.000000</td>\n",
              "      <td>1.000000</td>\n",
              "      <td>1.000000</td>\n",
              "      <td>4.000000</td>\n",
              "      <td>4.000000</td>\n",
              "      <td>1.000000</td>\n",
              "      <td>1.000000</td>\n",
              "    </tr>\n",
              "  </tbody>\n",
              "</table>\n",
              "</div>\n",
              "      <button class=\"colab-df-convert\" onclick=\"convertToInteractive('df-62f8c6cd-a4ba-4118-b7d8-71098587a261')\"\n",
              "              title=\"Convert this dataframe to an interactive table.\"\n",
              "              style=\"display:none;\">\n",
              "        \n",
              "  <svg xmlns=\"http://www.w3.org/2000/svg\" height=\"24px\"viewBox=\"0 0 24 24\"\n",
              "       width=\"24px\">\n",
              "    <path d=\"M0 0h24v24H0V0z\" fill=\"none\"/>\n",
              "    <path d=\"M18.56 5.44l.94 2.06.94-2.06 2.06-.94-2.06-.94-.94-2.06-.94 2.06-2.06.94zm-11 1L8.5 8.5l.94-2.06 2.06-.94-2.06-.94L8.5 2.5l-.94 2.06-2.06.94zm10 10l.94 2.06.94-2.06 2.06-.94-2.06-.94-.94-2.06-.94 2.06-2.06.94z\"/><path d=\"M17.41 7.96l-1.37-1.37c-.4-.4-.92-.59-1.43-.59-.52 0-1.04.2-1.43.59L10.3 9.45l-7.72 7.72c-.78.78-.78 2.05 0 2.83L4 21.41c.39.39.9.59 1.41.59.51 0 1.02-.2 1.41-.59l7.78-7.78 2.81-2.81c.8-.78.8-2.07 0-2.86zM5.41 20L4 18.59l7.72-7.72 1.47 1.35L5.41 20z\"/>\n",
              "  </svg>\n",
              "      </button>\n",
              "      \n",
              "  <style>\n",
              "    .colab-df-container {\n",
              "      display:flex;\n",
              "      flex-wrap:wrap;\n",
              "      gap: 12px;\n",
              "    }\n",
              "\n",
              "    .colab-df-convert {\n",
              "      background-color: #E8F0FE;\n",
              "      border: none;\n",
              "      border-radius: 50%;\n",
              "      cursor: pointer;\n",
              "      display: none;\n",
              "      fill: #1967D2;\n",
              "      height: 32px;\n",
              "      padding: 0 0 0 0;\n",
              "      width: 32px;\n",
              "    }\n",
              "\n",
              "    .colab-df-convert:hover {\n",
              "      background-color: #E2EBFA;\n",
              "      box-shadow: 0px 1px 2px rgba(60, 64, 67, 0.3), 0px 1px 3px 1px rgba(60, 64, 67, 0.15);\n",
              "      fill: #174EA6;\n",
              "    }\n",
              "\n",
              "    [theme=dark] .colab-df-convert {\n",
              "      background-color: #3B4455;\n",
              "      fill: #D2E3FC;\n",
              "    }\n",
              "\n",
              "    [theme=dark] .colab-df-convert:hover {\n",
              "      background-color: #434B5C;\n",
              "      box-shadow: 0px 1px 3px 1px rgba(0, 0, 0, 0.15);\n",
              "      filter: drop-shadow(0px 1px 2px rgba(0, 0, 0, 0.3));\n",
              "      fill: #FFFFFF;\n",
              "    }\n",
              "  </style>\n",
              "\n",
              "      <script>\n",
              "        const buttonEl =\n",
              "          document.querySelector('#df-62f8c6cd-a4ba-4118-b7d8-71098587a261 button.colab-df-convert');\n",
              "        buttonEl.style.display =\n",
              "          google.colab.kernel.accessAllowed ? 'block' : 'none';\n",
              "\n",
              "        async function convertToInteractive(key) {\n",
              "          const element = document.querySelector('#df-62f8c6cd-a4ba-4118-b7d8-71098587a261');\n",
              "          const dataTable =\n",
              "            await google.colab.kernel.invokeFunction('convertToInteractive',\n",
              "                                                     [key], {});\n",
              "          if (!dataTable) return;\n",
              "\n",
              "          const docLinkHtml = 'Like what you see? Visit the ' +\n",
              "            '<a target=\"_blank\" href=https://colab.research.google.com/notebooks/data_table.ipynb>data table notebook</a>'\n",
              "            + ' to learn more about interactive tables.';\n",
              "          element.innerHTML = '';\n",
              "          dataTable['output_type'] = 'display_data';\n",
              "          await google.colab.output.renderOutput(dataTable, element);\n",
              "          const docLink = document.createElement('div');\n",
              "          docLink.innerHTML = docLinkHtml;\n",
              "          element.appendChild(docLink);\n",
              "        }\n",
              "      </script>\n",
              "    </div>\n",
              "  </div>\n",
              "  "
            ],
            "text/plain": [
              "       stump type         Age          DM  Hyperlipidemia   Tear_size  \\\n",
              "count  351.000000  351.000000  351.000000      351.000000  351.000000   \n",
              "mean     1.834758   63.603989    0.213675        0.236467    1.908832   \n",
              "std      0.804303    9.028519    0.410485        0.425519    0.805486   \n",
              "min      1.000000   38.000000    0.000000        0.000000    1.000000   \n",
              "25%      1.000000   58.000000    0.000000        0.000000    1.000000   \n",
              "50%      2.000000   65.000000    0.000000        0.000000    2.000000   \n",
              "75%      3.000000   70.000000    0.000000        0.000000    2.000000   \n",
              "max      3.000000   83.000000    1.000000        1.000000    4.000000   \n",
              "\n",
              "       Goutallier      Retear    Gender_M  \n",
              "count  351.000000  351.000000  351.000000  \n",
              "mean     1.754986    0.131054    0.618234  \n",
              "std      0.895909    0.337941    0.486513  \n",
              "min      0.000000    0.000000    0.000000  \n",
              "25%      1.000000    0.000000    0.000000  \n",
              "50%      2.000000    0.000000    1.000000  \n",
              "75%      2.000000    0.000000    1.000000  \n",
              "max      4.000000    1.000000    1.000000  "
            ]
          },
          "metadata": {},
          "execution_count": 9
        }
      ]
    },
    {
      "cell_type": "code",
      "source": [
        "#dataframeの全体的な情報\n",
        "df.info()"
      ],
      "metadata": {
        "colab": {
          "base_uri": "https://localhost:8080/"
        },
        "id": "XBrddagMWSg4",
        "outputId": "b45a347e-f207-47c2-a1d7-1e220f3e7b3d"
      },
      "execution_count": 10,
      "outputs": [
        {
          "output_type": "stream",
          "name": "stdout",
          "text": [
            "<class 'pandas.core.frame.DataFrame'>\n",
            "RangeIndex: 351 entries, 0 to 350\n",
            "Data columns (total 8 columns):\n",
            " #   Column          Non-Null Count  Dtype\n",
            "---  ------          --------------  -----\n",
            " 0   stump type      351 non-null    int64\n",
            " 1   Age             351 non-null    int64\n",
            " 2   DM              351 non-null    int64\n",
            " 3   Hyperlipidemia  351 non-null    int64\n",
            " 4   Tear_size       351 non-null    int64\n",
            " 5   Goutallier      351 non-null    int64\n",
            " 6   Retear          351 non-null    int64\n",
            " 7   Gender_M        351 non-null    uint8\n",
            "dtypes: int64(7), uint8(1)\n",
            "memory usage: 19.7 KB\n"
          ]
        }
      ]
    },
    {
      "cell_type": "code",
      "source": [
        "df.columns"
      ],
      "metadata": {
        "colab": {
          "base_uri": "https://localhost:8080/"
        },
        "id": "xDRGtGp9Cx3-",
        "outputId": "1da456b5-e164-4af1-f2f6-f2d85e5ba4fe"
      },
      "execution_count": 11,
      "outputs": [
        {
          "output_type": "execute_result",
          "data": {
            "text/plain": [
              "Index(['stump type', 'Age', 'DM', 'Hyperlipidemia', 'Tear_size', 'Goutallier',\n",
              "       'Retear', 'Gender_M'],\n",
              "      dtype='object')"
            ]
          },
          "metadata": {},
          "execution_count": 11
        }
      ]
    },
    {
      "cell_type": "code",
      "source": [
        "#dataframeの列の並べ替え 目的変数であるRetearを最後の列に入れ替える\n",
        "new_columns=['stump type', 'Age', 'DM', 'Hyperlipidemia', 'Tear_size', 'Goutallier',\n",
        "       'Gender_M','Retear']\n",
        "df=df[new_columns]"
      ],
      "metadata": {
        "id": "AoNTZreLCx6a"
      },
      "execution_count": 12,
      "outputs": []
    },
    {
      "cell_type": "code",
      "source": [
        "#dfでの相関係数のheatmap 白黒表示であればcmap='binary'とする\n",
        "#赤色が正の相関を示す\n",
        "plt.figure(figsize=(10,10))\n",
        "cmap=sns.color_palette('coolwarm',200)\n",
        "sns.heatmap(df.corr(),square=True,annot=False,cmap=cmap,center=0)"
      ],
      "metadata": {
        "colab": {
          "base_uri": "https://localhost:8080/",
          "height": 631
        },
        "id": "90wLOhAxQ4sB",
        "outputId": "0b61706d-b628-4289-809e-dc23eb52e542"
      },
      "execution_count": 13,
      "outputs": [
        {
          "output_type": "execute_result",
          "data": {
            "text/plain": [
              "<matplotlib.axes._subplots.AxesSubplot at 0x7f0b08b84110>"
            ]
          },
          "metadata": {},
          "execution_count": 13
        },
        {
          "output_type": "display_data",
          "data": {
            "image/png": "[encoded data removed]",
            "text/plain": [
              "<Figure size 720x720 with 2 Axes>"
            ]
          },
          "metadata": {
            "needs_background": "light"
          }
        }
      ]
    },
    {
      "cell_type": "code",
      "source": [
        "#Pandasで目的変数別に色分けしたヒストグラムを作成する\n",
        "#関数の指定\n",
        "#http://own-search-and-study.xyz/2018/02/27/pandas%e3%81%a7%e7%9b%ae%e7%9a%84%e5%a4%89%e6%95%b0%e5%88%a5%e3%81%ab%e8%89%b2%e5%88%86%e3%81%91%e3%81%97%e3%81%9f%e3%83%92%e3%82%b9%e3%83%88%e3%82%b0%e3%83%a9%e3%83%a0%e3%82%92%e4%bd%9c%e6%88%90/\n",
        "import pandas as pd\n",
        " \n",
        "def targethist(df, target, save=False, kind='hist', **kwards):\n",
        "     \n",
        "    columns = df.columns[df.columns != target]\n",
        "    pdf = df.pivot_table(index=df.index, columns=target)\n",
        "     \n",
        "    for column in columns:\n",
        "         \n",
        "        ax = pdf.loc[:, column].plot(kind=kind, title=column, **kwards)\n",
        "         \n",
        "        if save==True:\n",
        "            ax.get_figure().savefig(column+\".png\") "
      ],
      "metadata": {
        "id": "EYQXJTLNRAmx"
      },
      "execution_count": 14,
      "outputs": []
    },
    {
      "cell_type": "code",
      "source": [
        "#関数targethistに引数を渡す　\n",
        "#pandasのplotをラップしている点を活用してパラメータを指定します。\n",
        "targethist(df,target='Retear', bins=20, alpha=0.8)"
      ],
      "metadata": {
        "colab": {
          "base_uri": "https://localhost:8080/",
          "height": 1000
        },
        "id": "YPkLALdFRN7z",
        "outputId": "214fe67a-b2c0-4627-f2cc-5812ffc3008c"
      },
      "execution_count": 15,
      "outputs": [
        {
          "output_type": "display_data",
          "data": {
            "image/png": "[encoded data removed]",
            "text/plain": [
              "<Figure size 432x288 with 1 Axes>"
            ]
          },
          "metadata": {
            "needs_background": "light"
          }
        },
        {
          "output_type": "display_data",
          "data": {
            "image/png": "[encoded data removed]",
            "text/plain": [
              "<Figure size 432x288 with 1 Axes>"
            ]
          },
          "metadata": {
            "needs_background": "light"
          }
        },
        {
          "output_type": "display_data",
          "data": {
            "image/png": "[encoded data removed]",
            "text/plain": [
              "<Figure size 432x288 with 1 Axes>"
            ]
          },
          "metadata": {
            "needs_background": "light"
          }
        },
        {
          "output_type": "display_data",
          "data": {
            "image/png": "[encoded data removed]",
            "text/plain": [
              "<Figure size 432x288 with 1 Axes>"
            ]
          },
          "metadata": {
            "needs_background": "light"
          }
        },
        {
          "output_type": "display_data",
          "data": {
            "image/png": "[encoded data removed]",
            "text/plain": [
              "<Figure size 432x288 with 1 Axes>"
            ]
          },
          "metadata": {
            "needs_background": "light"
          }
        },
        {
          "output_type": "display_data",
          "data": {
            "image/png": "[encoded data removed]",
            "text/plain": [
              "<Figure size 432x288 with 1 Axes>"
            ]
          },
          "metadata": {
            "needs_background": "light"
          }
        },
        {
          "output_type": "display_data",
          "data": {
            "image/png": "[encoded data removed]",
            "text/plain": [
              "<Figure size 432x288 with 1 Axes>"
            ]
          },
          "metadata": {
            "needs_background": "light"
          }
        }
      ]
    },
    {
      "cell_type": "code",
      "source": [
        "#Retearの有無でのBoxplot\n",
        "targethist(df, target=\"Retear\", kind='box')"
      ],
      "metadata": {
        "colab": {
          "base_uri": "https://localhost:8080/",
          "height": 1000
        },
        "id": "ahWDAd5LRSNv",
        "outputId": "e3fc814c-be74-454b-b9de-bffeafb07398"
      },
      "execution_count": null,
      "outputs": [
        {
          "output_type": "display_data",
          "data": {
            "image/png": "[encoded data removed]",
            "text/plain": [
              "<Figure size 432x288 with 1 Axes>"
            ]
          },
          "metadata": {
            "needs_background": "light"
          }
        },
        {
          "output_type": "display_data",
          "data": {
            "image/png": "[encoded data removed]",
            "text/plain": [
              "<Figure size 432x288 with 1 Axes>"
            ]
          },
          "metadata": {
            "needs_background": "light"
          }
        },
        {
          "output_type": "display_data",
          "data": {
            "image/png": "[encoded data removed]",
            "text/plain": [
              "<Figure size 432x288 with 1 Axes>"
            ]
          },
          "metadata": {
            "needs_background": "light"
          }
        },
        {
          "output_type": "display_data",
          "data": {
            "image/png": "[encoded data removed]",
            "text/plain": [
              "<Figure size 432x288 with 1 Axes>"
            ]
          },
          "metadata": {
            "needs_background": "light"
          }
        },
        {
          "output_type": "display_data",
          "data": {
            "image/png": "[encoded data removed]",
            "text/plain": [
              "<Figure size 432x288 with 1 Axes>"
            ]
          },
          "metadata": {
            "needs_background": "light"
          }
        },
        {
          "output_type": "display_data",
          "data": {
            "image/png": "[encoded data removed]",
            "text/plain": [
              "<Figure size 432x288 with 1 Axes>"
            ]
          },
          "metadata": {
            "needs_background": "light"
          }
        },
        {
          "output_type": "display_data",
          "data": {
            "image/png": "[encoded data removed]",
            "text/plain": [
              "<Figure size 432x288 with 1 Axes>"
            ]
          },
          "metadata": {
            "needs_background": "light"
          }
        }
      ]
    },
    {
      "cell_type": "code",
      "source": [
        "#カーネル密度推定\n",
        "targethist(df, target=\"Retear\", kind='kde')"
      ],
      "metadata": {
        "colab": {
          "base_uri": "https://localhost:8080/",
          "height": 1000
        },
        "id": "wuf7I0PFRmj_",
        "outputId": "f3fb814f-bef1-4732-874f-4ed3247bb69e"
      },
      "execution_count": null,
      "outputs": [
        {
          "output_type": "display_data",
          "data": {
            "image/png": "[encoded data removed]",
            "text/plain": [
              "<Figure size 432x288 with 1 Axes>"
            ]
          },
          "metadata": {
            "needs_background": "light"
          }
        },
        {
          "output_type": "display_data",
          "data": {
            "image/png": "[encoded data removed]",
            "text/plain": [
              "<Figure size 432x288 with 1 Axes>"
            ]
          },
          "metadata": {
            "needs_background": "light"
          }
        },
        {
          "output_type": "display_data",
          "data": {
            "image/png": "[encoded data removed]",
            "text/plain": [
              "<Figure size 432x288 with 1 Axes>"
            ]
          },
          "metadata": {
            "needs_background": "light"
          }
        },
        {
          "output_type": "display_data",
          "data": {
            "image/png": "[encoded data removed]",
            "text/plain": [
              "<Figure size 432x288 with 1 Axes>"
            ]
          },
          "metadata": {
            "needs_background": "light"
          }
        },
        {
          "output_type": "display_data",
          "data": {
            "image/png": "[encoded data removed]",
            "text/plain": [
              "<Figure size 432x288 with 1 Axes>"
            ]
          },
          "metadata": {
            "needs_background": "light"
          }
        },
        {
          "output_type": "display_data",
          "data": {
            "image/png": "[encoded data removed]",
            "text/plain": [
              "<Figure size 432x288 with 1 Axes>"
            ]
          },
          "metadata": {
            "needs_background": "light"
          }
        },
        {
          "output_type": "display_data",
          "data": {
            "image/png": "[encoded data removed]",
            "text/plain": [
              "<Figure size 432x288 with 1 Axes>"
            ]
          },
          "metadata": {
            "needs_background": "light"
          }
        }
      ]
    },
    {
      "cell_type": "code",
      "source": [
        "#retear (0=No　１＝YES)の有無でグループ分け\n",
        "grouped=df.groupby('Retear')\n",
        "#各グループの平均値を表示 省略されないように5データフレームの50列まで表示するように設定\n",
        "pd.set_option('display.max_columns', 50)\n",
        "print(grouped.mean())"
      ],
      "metadata": {
        "colab": {
          "base_uri": "https://localhost:8080/"
        },
        "id": "zwnf3ocyRtNY",
        "outputId": "1516d29c-1d12-4005-b503-5ac7be7ddd34"
      },
      "execution_count": 16,
      "outputs": [
        {
          "output_type": "stream",
          "name": "stdout",
          "text": [
            "        stump type        Age        DM  Hyperlipidemia  Tear_size  \\\n",
            "Retear                                                               \n",
            "0         1.740984  63.016393  0.177049        0.226230   1.819672   \n",
            "1         2.456522  67.500000  0.456522        0.304348   2.500000   \n",
            "\n",
            "        Goutallier  Gender_M  \n",
            "Retear                        \n",
            "0         1.659016  0.619672  \n",
            "1         2.391304  0.608696  \n"
          ]
        }
      ]
    },
    {
      "cell_type": "code",
      "source": [
        "#各グル―プの標準偏差を表示\n",
        "print(grouped.std())"
      ],
      "metadata": {
        "colab": {
          "base_uri": "https://localhost:8080/"
        },
        "id": "NefsxjW8SebW",
        "outputId": "01bf2f4c-844a-49a8-d819-649049f041f5"
      },
      "execution_count": 17,
      "outputs": [
        {
          "output_type": "stream",
          "name": "stdout",
          "text": [
            "        stump type       Age        DM  Hyperlipidemia  Tear_size  Goutallier  \\\n",
            "Retear                                                                          \n",
            "0         0.783333  8.860935  0.382338        0.419077   0.771793    0.832201   \n",
            "1         0.656811  9.258630  0.503610        0.465215   0.781736    1.043035   \n",
            "\n",
            "        Gender_M  \n",
            "Retear            \n",
            "0       0.486265  \n",
            "1       0.493435  \n"
          ]
        }
      ]
    },
    {
      "cell_type": "code",
      "source": [
        "#statsmodelsによる重回帰分析 結果の解釈は　https://tanuhack.com/statsmodels-multiple-lra/#StatsModels\n",
        "import pandas as pd\n",
        "import statsmodels.api as sm\n",
        "import statsmodels.formula.api as smf\n",
        "\n",
        "# get_dummies()カテゴリ変数をone-hot-enchodingで質的データも対応可能\n",
        "x = pd.get_dummies(df.drop(['Retear',],axis='columns') ) # ←もちろん増減可能 今回は目的変数以外すべて採用\n",
        "y = df['Retear']#目的変数の列\n",
        "\n",
        "# 定数項(y切片)を必要とする線形回帰のモデル式ならば必須\n",
        "X = sm.add_constant(x)\n",
        "\n",
        "# 最小二乗法によるモデリング\n",
        "model = sm.OLS(y,X)\n",
        "result = model.fit()\n",
        "\n",
        "# 重回帰分析の結果を表示 \n",
        "result.summary()"
      ],
      "metadata": {
        "colab": {
          "base_uri": "https://localhost:8080/",
          "height": 579
        },
        "id": "bHaZxmRBSvHc",
        "outputId": "1425f120-2034-460d-bde7-d226a9ee3596"
      },
      "execution_count": 18,
      "outputs": [
        {
          "output_type": "execute_result",
          "data": {
            "text/html": [
              "<table class=\"simpletable\">\n",
              "<caption>OLS Regression Results</caption>\n",
              "<tr>\n",
              "  <th>Dep. Variable:</th>         <td>Retear</td>      <th>  R-squared:         </th> <td>   0.194</td>\n",
              "</tr>\n",
              "<tr>\n",
              "  <th>Model:</th>                   <td>OLS</td>       <th>  Adj. R-squared:    </th> <td>   0.178</td>\n",
              "</tr>\n",
              "<tr>\n",
              "  <th>Method:</th>             <td>Least Squares</td>  <th>  F-statistic:       </th> <td>   11.80</td>\n",
              "</tr>\n",
              "<tr>\n",
              "  <th>Date:</th>             <td>Fri, 11 Mar 2022</td> <th>  Prob (F-statistic):</th> <td>1.76e-13</td>\n",
              "</tr>\n",
              "<tr>\n",
              "  <th>Time:</th>                 <td>10:07:02</td>     <th>  Log-Likelihood:    </th> <td> -78.875</td>\n",
              "</tr>\n",
              "<tr>\n",
              "  <th>No. Observations:</th>      <td>   351</td>      <th>  AIC:               </th> <td>   173.7</td>\n",
              "</tr>\n",
              "<tr>\n",
              "  <th>Df Residuals:</th>          <td>   343</td>      <th>  BIC:               </th> <td>   204.6</td>\n",
              "</tr>\n",
              "<tr>\n",
              "  <th>Df Model:</th>              <td>     7</td>      <th>                     </th>     <td> </td>   \n",
              "</tr>\n",
              "<tr>\n",
              "  <th>Covariance Type:</th>      <td>nonrobust</td>    <th>                     </th>     <td> </td>   \n",
              "</tr>\n",
              "</table>\n",
              "<table class=\"simpletable\">\n",
              "<tr>\n",
              "         <td></td>           <th>coef</th>     <th>std err</th>      <th>t</th>      <th>P>|t|</th>  <th>[0.025</th>    <th>0.975]</th>  \n",
              "</tr>\n",
              "<tr>\n",
              "  <th>const</th>          <td>   -0.4401</td> <td>    0.128</td> <td>   -3.429</td> <td> 0.001</td> <td>   -0.693</td> <td>   -0.188</td>\n",
              "</tr>\n",
              "<tr>\n",
              "  <th>stump type</th>     <td>    0.0960</td> <td>    0.022</td> <td>    4.336</td> <td> 0.000</td> <td>    0.052</td> <td>    0.140</td>\n",
              "</tr>\n",
              "<tr>\n",
              "  <th>Age</th>            <td>    0.0024</td> <td>    0.002</td> <td>    1.207</td> <td> 0.228</td> <td>   -0.001</td> <td>    0.006</td>\n",
              "</tr>\n",
              "<tr>\n",
              "  <th>DM</th>             <td>    0.1069</td> <td>    0.045</td> <td>    2.391</td> <td> 0.017</td> <td>    0.019</td> <td>    0.195</td>\n",
              "</tr>\n",
              "<tr>\n",
              "  <th>Hyperlipidemia</th> <td>   -0.0175</td> <td>    0.041</td> <td>   -0.433</td> <td> 0.665</td> <td>   -0.097</td> <td>    0.062</td>\n",
              "</tr>\n",
              "<tr>\n",
              "  <th>Tear_size</th>      <td>    0.0874</td> <td>    0.025</td> <td>    3.524</td> <td> 0.000</td> <td>    0.039</td> <td>    0.136</td>\n",
              "</tr>\n",
              "<tr>\n",
              "  <th>Goutallier</th>     <td>    0.0365</td> <td>    0.023</td> <td>    1.593</td> <td> 0.112</td> <td>   -0.009</td> <td>    0.082</td>\n",
              "</tr>\n",
              "<tr>\n",
              "  <th>Gender_M</th>       <td>   -0.0093</td> <td>    0.036</td> <td>   -0.261</td> <td> 0.794</td> <td>   -0.079</td> <td>    0.061</td>\n",
              "</tr>\n",
              "</table>\n",
              "<table class=\"simpletable\">\n",
              "<tr>\n",
              "  <th>Omnibus:</th>       <td>102.832</td> <th>  Durbin-Watson:     </th> <td>   1.735</td>\n",
              "</tr>\n",
              "<tr>\n",
              "  <th>Prob(Omnibus):</th> <td> 0.000</td>  <th>  Jarque-Bera (JB):  </th> <td> 202.779</td>\n",
              "</tr>\n",
              "<tr>\n",
              "  <th>Skew:</th>          <td> 1.591</td>  <th>  Prob(JB):          </th> <td>9.27e-45</td>\n",
              "</tr>\n",
              "<tr>\n",
              "  <th>Kurtosis:</th>      <td> 4.935</td>  <th>  Cond. No.          </th> <td>    508.</td>\n",
              "</tr>\n",
              "</table><br/><br/>Warnings:<br/>[1] Standard Errors assume that the covariance matrix of the errors is correctly specified."
            ],
            "text/plain": [
              "<class 'statsmodels.iolib.summary.Summary'>\n",
              "\"\"\"\n",
              "                            OLS Regression Results                            \n",
              "==============================================================================\n",
              "Dep. Variable:                 Retear   R-squared:                       0.194\n",
              "Model:                            OLS   Adj. R-squared:                  0.178\n",
              "Method:                 Least Squares   F-statistic:                     11.80\n",
              "Date:                Fri, 11 Mar 2022   Prob (F-statistic):           1.76e-13\n",
              "Time:                        10:07:02   Log-Likelihood:                -78.875\n",
              "No. Observations:                 351   AIC:                             173.7\n",
              "Df Residuals:                     343   BIC:                             204.6\n",
              "Df Model:                           7                                         \n",
              "Covariance Type:            nonrobust                                         \n",
              "==================================================================================\n",
              "                     coef    std err          t      P>|t|      [0.025      0.975]\n",
              "----------------------------------------------------------------------------------\n",
              "const             -0.4401      0.128     -3.429      0.001      -0.693      -0.188\n",
              "stump type         0.0960      0.022      4.336      0.000       0.052       0.140\n",
              "Age                0.0024      0.002      1.207      0.228      -0.001       0.006\n",
              "DM                 0.1069      0.045      2.391      0.017       0.019       0.195\n",
              "Hyperlipidemia    -0.0175      0.041     -0.433      0.665      -0.097       0.062\n",
              "Tear_size          0.0874      0.025      3.524      0.000       0.039       0.136\n",
              "Goutallier         0.0365      0.023      1.593      0.112      -0.009       0.082\n",
              "Gender_M          -0.0093      0.036     -0.261      0.794      -0.079       0.061\n",
              "==============================================================================\n",
              "Omnibus:                      102.832   Durbin-Watson:                   1.735\n",
              "Prob(Omnibus):                  0.000   Jarque-Bera (JB):              202.779\n",
              "Skew:                           1.591   Prob(JB):                     9.27e-45\n",
              "Kurtosis:                       4.935   Cond. No.                         508.\n",
              "==============================================================================\n",
              "\n",
              "Warnings:\n",
              "[1] Standard Errors assume that the covariance matrix of the errors is correctly specified.\n",
              "\"\"\""
            ]
          },
          "metadata": {},
          "execution_count": 18
        }
      ]
    },
    {
      "cell_type": "markdown",
      "source": [
        "# **最初に不均等データの分布を変更せずに、ランダムフォレスト・ロジステック回帰・Adaboost・lightGBMを試す**"
      ],
      "metadata": {
        "id": "YMc7I_NIE59_"
      }
    },
    {
      "cell_type": "code",
      "source": [
        "#分類するクラスを確認  'Retear'=0が再断裂なし　１が再断裂あり\n",
        "df['Retear'].value_counts()"
      ],
      "metadata": {
        "colab": {
          "base_uri": "https://localhost:8080/"
        },
        "id": "Vl77ZyPcTcfz",
        "outputId": "4a1e3bed-f392-4a3c-aa77-69223589a9a9"
      },
      "execution_count": 19,
      "outputs": [
        {
          "output_type": "execute_result",
          "data": {
            "text/plain": [
              "0    305\n",
              "1     46\n",
              "Name: Retear, dtype: int64"
            ]
          },
          "metadata": {},
          "execution_count": 19
        }
      ]
    },
    {
      "cell_type": "markdown",
      "source": [
        ""
      ],
      "metadata": {
        "id": "SEJTp6UPFYyU"
      }
    },
    {
      "cell_type": "markdown",
      "source": [
        "# **データを訓練データと検証データに分割**"
      ],
      "metadata": {
        "id": "7IURU8wnFUgM"
      }
    },
    {
      "cell_type": "code",
      "source": [
        "target='Retear'"
      ],
      "metadata": {
        "id": "toyiYsToX8tJ"
      },
      "execution_count": 20,
      "outputs": []
    },
    {
      "cell_type": "code",
      "source": [
        "#データセットの分割　正解クラス　説明変数の指定\n",
        "#訓練データの不要な列を df.drop([],axis='columns')で指定\n",
        "#テストデータ数が少ないのでtestデータを30%に指定\n",
        "#stratifyでtrain と　testでの分布を統一\n",
        "train_x=df.drop([target],axis='columns') \n",
        "train_y=df[target]\n",
        "(train_x,test_x,train_y,test_y)=train_test_split(train_x,train_y,test_size=0.3,random_state=0,stratify=df[target].values)"
      ],
      "metadata": {
        "id": "aYHt_KLPT0cC"
      },
      "execution_count": 21,
      "outputs": []
    },
    {
      "cell_type": "code",
      "source": [
        "#データセットの形確認\n",
        "print(train_x.shape)\n",
        "print(test_x.shape)\n",
        "print(train_y.shape)\n",
        "print(test_y.shape)"
      ],
      "metadata": {
        "colab": {
          "base_uri": "https://localhost:8080/"
        },
        "id": "AFNV5pF9T7np",
        "outputId": "2254116c-b6d7-4b82-9da5-3559ff1c22bc"
      },
      "execution_count": 22,
      "outputs": [
        {
          "output_type": "stream",
          "name": "stdout",
          "text": [
            "(245, 7)\n",
            "(106, 7)\n",
            "(245,)\n",
            "(106,)\n"
          ]
        }
      ]
    },
    {
      "cell_type": "code",
      "source": [
        "# 訓練データ中のRetear=1のサンプル数をカウント(train_yの'1'の数値の合計)\n",
        "#テストデータ中もカウント\n",
        "positive_count_train =train_y.sum()\n",
        "positive_count_test=test_y.sum()\n",
        "print('positive target numbers in train: {}'.format(positive_count_train))\n",
        "print('positive target numbers in test:{}'.format(positive_count_test))"
      ],
      "metadata": {
        "colab": {
          "base_uri": "https://localhost:8080/"
        },
        "id": "nedCVxdxYfBg",
        "outputId": "c1d94abd-b593-438f-d261-82decc2ff050"
      },
      "execution_count": 23,
      "outputs": [
        {
          "output_type": "stream",
          "name": "stdout",
          "text": [
            "positive target numbers in train: 32\n",
            "positive target numbers in test:14\n"
          ]
        }
      ]
    },
    {
      "cell_type": "code",
      "source": [
        "#評価用関数のインポートおよび定義\n",
        "from sklearn.metrics import recall_score#recall score用の関数インポート\n",
        "from sklearn.metrics import precision_score\n",
        "from sklearn.metrics import f1_score"
      ],
      "metadata": {
        "id": "VMQT7D_MYzPG"
      },
      "execution_count": 24,
      "outputs": []
    },
    {
      "cell_type": "code",
      "source": [
        "#感度　特異度の関数定義\n",
        "\n",
        "#感度\n",
        "def sensitivity1(test_y, pred_y):\n",
        "    cm = confusion_matrix(test_y,pred_y, labels=[1, 0])\n",
        "    return cm[0, 0]/ (cm[0,0]+cm[0,1])\n",
        "\n",
        "#特異度\n",
        "def specificity1(test_y, pred_y):\n",
        "    cm = confusion_matrix(test_y, pred_y, labels=[1, 0])\n",
        "    return cm[1, 1]/ (cm[1,0]+cm[1,1])"
      ],
      "metadata": {
        "id": "TnYICF0kY_Cx"
      },
      "execution_count": 25,
      "outputs": []
    },
    {
      "cell_type": "markdown",
      "source": [
        "# 不均衡データ　ランダムフォレストモデル＋gridSearchによる予測モデル構築"
      ],
      "metadata": {
        "id": "59m2SllkZIUU"
      }
    },
    {
      "cell_type": "code",
      "source": [
        "#ランダムフォレストモデルの構築\n",
        "gridsearch = {'n_estimators': [100,200,300,400],#決定木の数を辞書で渡す\n",
        "             'max_depth': [4,5,6]}#決定木の数を辞書で渡す\n",
        "score='roc_auc'#モデルの評価関数を指定\n",
        "                 #https://scikit-learn.org/stable/modules/model_evaluation.html#scoring-parameter\n",
        "                 #　今回は検診で偽陰性をへらしたいのでpercisionを使用\n",
        "model_rf=GridSearchCV(RandomForestClassifier(),#分類器の指定\n",
        "                 gridsearch,#グリッドサーチで定義した辞書を渡す\n",
        "                 cv=5,              #交差検定の回数指定\n",
        "                 n_jobs= -1, #-1に設定するとコア数で並列実行\n",
        "                 scoring=score,#モデルの評価関数の指定 今回は異常検知なのでrecall使用\n",
        "                 verbose=True) #verbose=Trueで実行状況の表示\n",
        "model_rf.fit(train_x,train_y)#学習の実行 fit関数\n",
        "pred_y=model_rf.predict(test_x)#予測値の算出\n",
        "print('不均衡データ　ランダムフォレストモデルの精度')\n",
        "train_accuracy=model_rf.score(train_x,train_y)#学習データでの精度の算出\n",
        "print('Train Accuracy:{}'.format(train_accuracy))\n",
        "test_accuracy=accuracy_score(test_y,pred_y)#テストデータでの精度の算出\n",
        "print('Test Accuracy:{}'.format(test_accuracy))\n",
        "recall=recall_score(test_y,pred_y)\n",
        "print('Recall:{}'.format(recall))\n",
        "precision=precision_score(test_y,pred_y)\n",
        "print('Precision:{}'.format(precision))\n",
        "f_measure=f1_score(test_y,pred_y)\n",
        "print('F-measure:{}'.format(f_measure))\n",
        "sensitivity=sensitivity1(test_y,pred_y)\n",
        "print('Sensitivity:{}'.format(sensitivity))\n",
        "specificity=specificity1(test_y,pred_y)\n",
        "print('Specificity:{}'.format(specificity))\n",
        "#不均衡モデルの評価に感度と特異度の相乗平均g_meanを計算\n",
        "g_mean=math.sqrt(sensitivity*specificity)\n",
        "print('G_mean:{}'.format(g_mean))"
      ],
      "metadata": {
        "colab": {
          "base_uri": "https://localhost:8080/"
        },
        "id": "cyNhSASfZPf2",
        "outputId": "3c87aabb-2b16-4d42-de87-bf411ed10725"
      },
      "execution_count": 26,
      "outputs": [
        {
          "output_type": "stream",
          "name": "stdout",
          "text": [
            "Fitting 5 folds for each of 12 candidates, totalling 60 fits\n",
            "不均衡データ　ランダムフォレストモデルの精度\n",
            "Train Accuracy:0.9321449530516432\n",
            "Test Accuracy:0.9056603773584906\n",
            "Recall:0.2857142857142857\n",
            "Precision:1.0\n",
            "F-measure:0.4444444444444445\n",
            "Sensitivity:0.2857142857142857\n",
            "Specificity:1.0\n",
            "G_mean:0.5345224838248488\n"
          ]
        }
      ]
    },
    {
      "cell_type": "code",
      "source": [
        "#plot_confusion_matrixのデフォルト設定でもプロットしてみる\n",
        "#confusion_matrix関数と渡す引数がちがうことに注意\n",
        "print('不均衡データ　ランダムフォレストモデルの混合行列')\n",
        "from sklearn.metrics import confusion_matrix, plot_confusion_matrix\n",
        "plot_confusion_matrix(model_rf,test_x,test_y)"
      ],
      "metadata": {
        "colab": {
          "base_uri": "https://localhost:8080/",
          "height": 315
        },
        "id": "7QuZjcLrZgFq",
        "outputId": "952a860f-eaa7-4a03-f755-0f39db6f9421"
      },
      "execution_count": 27,
      "outputs": [
        {
          "output_type": "stream",
          "name": "stdout",
          "text": [
            "不均衡データ　ランダムフォレストモデルの混合行列\n"
          ]
        },
        {
          "output_type": "execute_result",
          "data": {
            "text/plain": [
              "<sklearn.metrics._plot.confusion_matrix.ConfusionMatrixDisplay at 0x7f0af0f26bd0>"
            ]
          },
          "metadata": {},
          "execution_count": 27
        },
        {
          "output_type": "display_data",
          "data": {
            "image/png": "[encoded data removed]",
            "text/plain": [
              "<Figure size 432x288 with 2 Axes>"
            ]
          },
          "metadata": {
            "needs_background": "light"
          }
        }
      ]
    },
    {
      "cell_type": "code",
      "source": [
        "#plot_roc_curve関数によるROC曲線のプロット　引数は　モデル、test_x, test_y\n",
        "print('不均衡データ　ランダムフォレストモデルのROC曲線')\n",
        "from sklearn import metrics\n",
        "rf_disp=metrics.plot_roc_curve(model_rf,test_x,test_y)  # treeのROC曲線\n",
        "plt.show(rf_disp)  "
      ],
      "metadata": {
        "colab": {
          "base_uri": "https://localhost:8080/",
          "height": 297
        },
        "id": "ntlY1W57Zkfk",
        "outputId": "6ca3b58b-23ab-479a-89cc-4746375e6311"
      },
      "execution_count": 28,
      "outputs": [
        {
          "output_type": "stream",
          "name": "stdout",
          "text": [
            "不均衡データ　ランダムフォレストモデルのROC曲線\n"
          ]
        },
        {
          "output_type": "display_data",
          "data": {
            "image/png": "[encoded data removed]",
            "text/plain": [
              "<Figure size 432x288 with 1 Axes>"
            ]
          },
          "metadata": {
            "needs_background": "light"
          }
        }
      ]
    },
    {
      "cell_type": "markdown",
      "source": [
        "# **不均衡データロジスティック回帰モデルによる予測モデル構築**"
      ],
      "metadata": {
        "id": "pQQ1KG6cZng_"
      }
    },
    {
      "cell_type": "code",
      "source": [
        "#ロジスティック回帰による分類\n",
        "from sklearn.model_selection import cross_val_predict #交差検証\n",
        "model_LR=LogisticRegression(solver='liblinear')#ハイパーパラメーターをかっこ内に記述\n",
        "pred_y=cross_val_predict(model_LR,test_x,test_y,cv=5) #cross validation の分割数を指定\n",
        "model_LR.fit(train_x,train_y)\n",
        "\n",
        "acc=accuracy_score(test_y,pred_y)\n",
        "recall=recall_score(test_y,pred_y)\n",
        "precision=precision_score(test_y,pred_y)\n",
        "print('不均衡データ　ロジスティック回帰モデルの精度')\n",
        "print('Accuracy:',acc)\n",
        "print('Recall:',recall)\n",
        "print('Precision:',precision)\n",
        "conf_matrix=confusion_matrix(test_y,pred_y)\n",
        "tn_R,fp_LR,fn_LR,tp_LR=conf_matrix.ravel()\n",
        "print('tn_LR,fp_LR,fn_LR,tp_LR=',tn_LR,fp_LR,fn_LR,tp_LR)\n",
        "f_measure=f1_score(test_y,pred_y)\n",
        "print('F-measure:{}'.format(f_measure))\n",
        "sensitivity=sensitivity1(test_y,pred_y)\n",
        "print('Sensitivity:{}'.format(sensitivity))\n",
        "specificity=specificity1(test_y,pred_y)\n",
        "print('Specificity:{}'.format(specificity))\n",
        "g_mean=math.sqrt(sensitivity*specificity)\n",
        "print('G_mean:{}'.format(g_mean))"
      ],
      "metadata": {
        "colab": {
          "base_uri": "https://localhost:8080/"
        },
        "id": "_J6SyawqZnFy",
        "outputId": "6f8a8e3d-e3e0-4409-c74a-30e03cc53422"
      },
      "execution_count": 29,
      "outputs": [
        {
          "output_type": "stream",
          "name": "stdout",
          "text": [
            "不均衡データ　ロジスティック回帰モデルの精度\n",
            "Accuracy: 0.8962264150943396\n",
            "Recall: 0.21428571428571427\n",
            "Precision: 1.0\n",
            "tn_LR,fp_LR,fn_LR,tp_LR= 92 0 11 3\n",
            "F-measure:0.35294117647058826\n",
            "Sensitivity:0.21428571428571427\n",
            "Specificity:1.0\n",
            "G_mean:0.4629100498862757\n"
          ]
        }
      ]
    },
    {
      "cell_type": "code",
      "source": [
        "#plot_confusion_matrixのデフォルト設定でプロット\n",
        "#confusion_matrix関数と渡す引数がちがうことに注意\n",
        "print('不均衡データ　ロジスティック回帰モデルの精度')\n",
        "plot_confusion_matrix(model_LR,test_x,test_y)"
      ],
      "metadata": {
        "colab": {
          "base_uri": "https://localhost:8080/",
          "height": 315
        },
        "id": "YG1KOIVYZ3PG",
        "outputId": "673b659f-d92f-4140-9270-90337b736bed"
      },
      "execution_count": 30,
      "outputs": [
        {
          "output_type": "stream",
          "name": "stdout",
          "text": [
            "不均衡データ　ロジスティック回帰モデルの精度\n"
          ]
        },
        {
          "output_type": "execute_result",
          "data": {
            "text/plain": [
              "<sklearn.metrics._plot.confusion_matrix.ConfusionMatrixDisplay at 0x7f0af0b30c90>"
            ]
          },
          "metadata": {},
          "execution_count": 30
        },
        {
          "output_type": "display_data",
          "data": {
            "image/png": "[encoded data removed]",
            "text/plain": [
              "<Figure size 432x288 with 2 Axes>"
            ]
          },
          "metadata": {
            "needs_background": "light"
          }
        }
      ]
    },
    {
      "cell_type": "code",
      "source": [
        "#plot_roc_curve関数によるROC曲線のプロット　引数は　モデル、test_x, \n",
        "print('不均衡pデータ　ロジスティック回帰モデルの精度')\n",
        "LR_disp=metrics.plot_roc_curve(model_LR,test_x,test_y) \n",
        "ax = plt.gca()\n",
        "plt.show()  "
      ],
      "metadata": {
        "colab": {
          "base_uri": "https://localhost:8080/",
          "height": 297
        },
        "id": "s9G8xw5BZ5kl",
        "outputId": "aec2935c-ea3d-4217-f8ba-0b670944a403"
      },
      "execution_count": 31,
      "outputs": [
        {
          "output_type": "stream",
          "name": "stdout",
          "text": [
            "不均衡pデータ　ロジスティック回帰モデルの精度\n"
          ]
        },
        {
          "output_type": "display_data",
          "data": {
            "image/png": "[encoded data removed]",
            "text/plain": [
              "<Figure size 432x288 with 1 Axes>"
            ]
          },
          "metadata": {
            "needs_background": "light"
          }
        }
      ]
    },
    {
      "cell_type": "code",
      "source": [
        "#あとでcategoricalデータはcatboostのデータセットを作成するときに別に指定します。\n",
        "categorical_data=['Gender_M',\"DM\",'Hyperlipidemia']\n",
        "numerical_data=['stump type',  'Age', 'Tear_size','Goutallier']\n",
        "\n",
        "feat_cols=categorical_data+numerical_data\n",
        "print(feat_cols)"
      ],
      "metadata": {
        "colab": {
          "base_uri": "https://localhost:8080/"
        },
        "id": "pD8R9mOjdPJk",
        "outputId": "20f66107-5ed5-43f8-eb67-1c1fff559baa"
      },
      "execution_count": 32,
      "outputs": [
        {
          "output_type": "stream",
          "name": "stdout",
          "text": [
            "['Gender_M', 'DM', 'Hyperlipidemia', 'stump type', 'Age', 'Tear_size', 'Goutallier']\n"
          ]
        }
      ]
    },
    {
      "cell_type": "code",
      "source": [
        "params = {\n",
        "    \"random_state\": 0,\n",
        "    \"eval_metric\":\"AUC\",\n",
        "    \"num_boost_round\": 50000,\n",
        "    \"early_stopping_rounds\": 150,\n",
        "    \"task_type\": \"CPU\",\n",
        "    \"use_best_model\": True,\n",
        "    \"custom_metric\": ['AUC',\"Accuracy\",\"Recall\"]\n",
        "\n",
        "}\n",
        "\n",
        "model = cb.CatBoostClassifier(**params)\n",
        "\n",
        "train_data = cb.Pool(train_x, train_y, cat_features=categorical_data)\n",
        "val_data = cb.Pool(test_x, test_y, cat_features=categorical_data)\n",
        "model_cb = model.fit(\n",
        "    train_data,\n",
        "    eval_set=val_data,\n",
        "    early_stopping_rounds=150,\n",
        "    verbose=20\n",
        ")\n",
        "\n",
        "pred_y = model_cb.predict(test_x)\n",
        "\n",
        "acc=accuracy_score(test_y,pred_y)\n",
        "recall=recall_score(test_y,pred_y)\n",
        "precision=precision_score(test_y,pred_y)\n",
        "print('不均衡データ　catboostモデルの精度')\n",
        "print('Accuracy:',acc)\n",
        "print('Recall:',recall)\n",
        "print('Precision:',precision)\n",
        "conf_matrix=confusion_matrix(test_y,pred_y)\n",
        "tn_CB,fp_CB,fn_CB,tp_CB=conf_matrix.ravel()\n",
        "print('tn_CB,fp_CB,fn_CB,tp_CB=',tn_CB,fp_CB,fn_CB,tp_CB)\n",
        "f_measure=f1_score(test_y,pred_y)\n",
        "print('F-measure:{}'.format(f_measure))\n",
        "sensitivity=sensitivity1(test_y,pred_y)\n",
        "print('Sensitivity:{}'.format(sensitivity))\n",
        "specificity=specificity1(test_y,pred_y)\n",
        "print('Specificity:{}'.format(specificity))\n",
        "g_mean=math.sqrt(sensitivity*specificity)\n",
        "print('G_mean:{}'.format(g_mean))"
      ],
      "metadata": {
        "colab": {
          "base_uri": "https://localhost:8080/"
        },
        "id": "UIo_j8tPduhu",
        "outputId": "84dcd77d-81d5-49f6-9e34-5a3cf3969d5e"
      },
      "execution_count": 38,
      "outputs": [
        {
          "output_type": "stream",
          "name": "stdout",
          "text": [
            "Learning rate set to 0.004083\n",
            "0:\ttest: 0.7069099\tbest: 0.7069099 (0)\ttotal: 646us\tremaining: 32.3s\n",
            "20:\ttest: 0.8059006\tbest: 0.8171584 (4)\ttotal: 31ms\tremaining: 1m 13s\n",
            "40:\ttest: 0.8245342\tbest: 0.8253106 (38)\ttotal: 80.4ms\tremaining: 1m 37s\n",
            "60:\ttest: 0.8214286\tbest: 0.8253106 (38)\ttotal: 101ms\tremaining: 1m 23s\n",
            "80:\ttest: 0.8190994\tbest: 0.8253106 (38)\ttotal: 124ms\tremaining: 1m 16s\n",
            "100:\ttest: 0.8222050\tbest: 0.8253106 (38)\ttotal: 147ms\tremaining: 1m 12s\n",
            "120:\ttest: 0.8206522\tbest: 0.8253106 (38)\ttotal: 173ms\tremaining: 1m 11s\n",
            "140:\ttest: 0.8175466\tbest: 0.8253106 (38)\ttotal: 201ms\tremaining: 1m 11s\n",
            "160:\ttest: 0.8159938\tbest: 0.8253106 (38)\ttotal: 226ms\tremaining: 1m 10s\n",
            "180:\ttest: 0.8144410\tbest: 0.8253106 (38)\ttotal: 251ms\tremaining: 1m 9s\n",
            "Stopped by overfitting detector  (150 iterations wait)\n",
            "\n",
            "bestTest = 0.825310559\n",
            "bestIteration = 38\n",
            "\n",
            "Shrink model to first 39 iterations.\n",
            "不均衡データ　catboostモデルの精度\n",
            "Accuracy: 0.8679245283018868\n",
            "Recall: 0.0\n",
            "Precision: 0.0\n",
            "tn_CB,fp_CB,fn_CB,tp_CB= 92 0 14 0\n",
            "F-measure:0.0\n",
            "Sensitivity:0.0\n",
            "Specificity:1.0\n",
            "G_mean:0.0\n"
          ]
        }
      ]
    },
    {
      "cell_type": "code",
      "source": [
        "#Cat_Boostモデルの混合行列\n",
        "#plot_confusion_matrixのデフォルト設定でプロット\n",
        "#confusion_matrix関数と渡す引数がちがうことに注意\n",
        "print('不均衡pデータ　CatBoost モデルの精度')\n",
        "plot_confusion_matrix(model_cb,test_x,test_y)"
      ],
      "metadata": {
        "colab": {
          "base_uri": "https://localhost:8080/",
          "height": 315
        },
        "id": "TBu5q8HcfhnL",
        "outputId": "7c1e9f62-162e-4462-9ad8-743fd61ff802"
      },
      "execution_count": 40,
      "outputs": [
        {
          "output_type": "stream",
          "name": "stdout",
          "text": [
            "不均衡pデータ　CatBoost モデルの精度\n"
          ]
        },
        {
          "output_type": "execute_result",
          "data": {
            "text/plain": [
              "<sklearn.metrics._plot.confusion_matrix.ConfusionMatrixDisplay at 0x7f0adeb50f90>"
            ]
          },
          "metadata": {},
          "execution_count": 40
        },
        {
          "output_type": "display_data",
          "data": {
            "image/png": "[encoded data removed]",
            "text/plain": [
              "<Figure size 432x288 with 2 Axes>"
            ]
          },
          "metadata": {
            "needs_background": "light"
          }
        }
      ]
    },
    {
      "cell_type": "code",
      "source": [
        "#Cat_BoostのROC曲線\n",
        "print('不均衡データ　CatBoost モデルの精度')\n",
        "Cat_disp=metrics.plot_roc_curve(model_cb,test_x,test_y)  # treeのROC曲線\n",
        "plt.show(Cat_disp)  "
      ],
      "metadata": {
        "colab": {
          "base_uri": "https://localhost:8080/",
          "height": 297
        },
        "id": "bjJyZDszfzIb",
        "outputId": "f6b2c51d-fcdc-4adb-abe9-8b6772e66b0e"
      },
      "execution_count": 41,
      "outputs": [
        {
          "output_type": "stream",
          "name": "stdout",
          "text": [
            "不均衡データ　CatBoost モデルの精度\n"
          ]
        },
        {
          "output_type": "display_data",
          "data": {
            "image/png": "[encoded data removed]",
            "text/plain": [
              "<Figure size 432x288 with 1 Axes>"
            ]
          },
          "metadata": {
            "needs_background": "light"
          }
        }
      ]
    },
    {
      "cell_type": "markdown",
      "source": [
        "# **不均衡データ AdaBoost モデルによる予測モデル構築**"
      ],
      "metadata": {
        "id": "9O2b0yyzLQST"
      }
    },
    {
      "cell_type": "code",
      "source": [
        "#不均衡データに強いとされるAdaBoostでグリッドサーチしてみる\n",
        "from sklearn.model_selection import StratifiedShuffleSplit\n",
        "from sklearn.model_selection import GridSearchCV\n",
        "from sklearn.ensemble import AdaBoostClassifier\n",
        "n_estimators = [100,200,300,400];\n",
        "cv = StratifiedShuffleSplit(n_splits=10, test_size=.30, random_state=15)\n",
        "learning_r = [0.1,1,0.01]\n",
        "\n",
        "parameters = {'n_estimators':n_estimators,\n",
        "              'learning_rate':learning_r\n",
        "              \n",
        "        }\n",
        "Ada_Boost_CV = GridSearchCV(AdaBoostClassifier(base_estimator= None, ## If None, then the base estimator is a decision tree.\n",
        "                                     ),\n",
        "                                 param_grid=parameters,\n",
        "                                 cv=cv,\n",
        "                                 n_jobs = -1)\n",
        "Ada_Boost_CV.fit(train_x,train_y) \n",
        "print('不均衡データ　AdaBoostモデルの精度')\n",
        "print(Ada_Boost_CV.best_params_)\n",
        "pred_y=Ada_Boost_CV.predict(test_x)#予測値の算出\n",
        "train_accuracy=Ada_Boost_CV.score(train_x,train_y)#学習データでの精度の算出\n",
        "print('Train Accuracy:{}'.format(train_accuracy))\n",
        "test_accuracy=accuracy_score(test_y,pred_y)#テストデータでの精度の算出\n",
        "print('Test Accuracy:{}'.format(test_accuracy))\n",
        "recall=recall_score(test_y,pred_y)\n",
        "print('Recall:{}'.format(recall))\n",
        "precision=precision_score(test_y,pred_y)\n",
        "print('Precision:{}'.format(precision))\n",
        "f_measure=f1_score(test_y,pred_y)\n",
        "print('F-measure:{}'.format(f_measure))\n",
        "sensitivity=sensitivity1(test_y,pred_y)\n",
        "print('Sensitivity:{}'.format(sensitivity))\n",
        "specificity=specificity1(test_y,pred_y)\n",
        "print('Specificity:{}'.format(specificity))\n",
        "#不均衡モデルの評価に感度と特異度の相乗平均g_meanを計算\n",
        "g_mean=math.sqrt(sensitivity*specificity)\n",
        "print('G_mean:{}'.format(g_mean))"
      ],
      "metadata": {
        "colab": {
          "base_uri": "https://localhost:8080/"
        },
        "id": "Cc5G1jOKdA6G",
        "outputId": "74443d09-6f8b-4ade-d3af-6e15563015e9"
      },
      "execution_count": 42,
      "outputs": [
        {
          "output_type": "stream",
          "name": "stdout",
          "text": [
            "不均衡データ　AdaBoostモデルの精度\n",
            "{'learning_rate': 0.01, 'n_estimators': 100}\n",
            "Train Accuracy:0.8693877551020408\n",
            "Test Accuracy:0.8679245283018868\n",
            "Recall:0.0\n",
            "Precision:0.0\n",
            "F-measure:0.0\n",
            "Sensitivity:0.0\n",
            "Specificity:1.0\n",
            "G_mean:0.0\n"
          ]
        }
      ]
    },
    {
      "cell_type": "code",
      "source": [
        "#Ada_Boostモデルの混合行列\n",
        "#plot_confusion_matrixのデフォルト設定でプロット\n",
        "#confusion_matrix関数と渡す引数がちがうことに注意\n",
        "print('不均衡pデータ　AdaBoost モデルの精度')\n",
        "plot_confusion_matrix(Ada_Boost_CV,test_x,test_y)"
      ],
      "metadata": {
        "colab": {
          "base_uri": "https://localhost:8080/",
          "height": 315
        },
        "id": "nRckP6MMei45",
        "outputId": "37ddc1d9-46e8-4ff5-c067-3ae4af9f65e9"
      },
      "execution_count": 43,
      "outputs": [
        {
          "output_type": "stream",
          "name": "stdout",
          "text": [
            "不均衡pデータ　AdaBoost モデルの精度\n"
          ]
        },
        {
          "output_type": "execute_result",
          "data": {
            "text/plain": [
              "<sklearn.metrics._plot.confusion_matrix.ConfusionMatrixDisplay at 0x7f0ade979650>"
            ]
          },
          "metadata": {},
          "execution_count": 43
        },
        {
          "output_type": "display_data",
          "data": {
            "image/png": "[encoded data removed]",
            "text/plain": [
              "<Figure size 432x288 with 2 Axes>"
            ]
          },
          "metadata": {
            "needs_background": "light"
          }
        }
      ]
    },
    {
      "cell_type": "code",
      "source": [
        "#Ada_BoostのROC曲線\n",
        "print('不均衡データ　AdaBoost モデルの精度')\n",
        "Ada_disp=metrics.plot_roc_curve(Ada_Boost_CV,test_x,test_y)  # treeのROC曲線\n",
        "plt.show(Ada_disp)  "
      ],
      "metadata": {
        "colab": {
          "base_uri": "https://localhost:8080/",
          "height": 297
        },
        "id": "bQtkWrALgp6U",
        "outputId": "4cba266e-c6f7-4c5e-fe4c-5b4e9a5f3324"
      },
      "execution_count": 44,
      "outputs": [
        {
          "output_type": "stream",
          "name": "stdout",
          "text": [
            "不均衡データ　AdaBoost モデルの精度\n"
          ]
        },
        {
          "output_type": "display_data",
          "data": {
            "image/png": "[encoded data removed]",
            "text/plain": [
              "<Figure size 432x288 with 1 Axes>"
            ]
          },
          "metadata": {
            "needs_background": "light"
          }
        }
      ]
    },
    {
      "cell_type": "markdown",
      "source": [
        "# **不均衡データlight GBM モデルによる予測モデル構築**"
      ],
      "metadata": {
        "id": "W377DGNjK-zn"
      }
    },
    {
      "cell_type": "code",
      "source": [
        "#LightGBM scikit learn APIによる訓練 confusion matrix関数を使うにはsk-learn APIが必要\n",
        "\n",
        "model_lgb = lgb.LGBMClassifier(objective='binary',\n",
        "                        metric='auc',\n",
        "                        n_estimators=1000,\n",
        "                        early_stopping_rounds=100)\n",
        "model_lgb.fit(train_x,train_y,#scilit learn APIではfitで訓練データを渡す original APIではtrain \n",
        "        eval_set=[(test_x, test_y)],\n",
        "        verbose=50)"
      ],
      "metadata": {
        "colab": {
          "base_uri": "https://localhost:8080/"
        },
        "id": "l1NzLFp_g_Q6",
        "outputId": "c1f0644b-e4f6-4db1-abf7-4acc331f2130"
      },
      "execution_count": 45,
      "outputs": [
        {
          "output_type": "stream",
          "name": "stdout",
          "text": [
            "Training until validation scores don't improve for 100 rounds.\n",
            "[50]\tvalid_0's auc: 0.86413\n",
            "[100]\tvalid_0's auc: 0.853261\n",
            "Early stopping, best iteration is:\n",
            "[33]\tvalid_0's auc: 0.872671\n"
          ]
        },
        {
          "output_type": "execute_result",
          "data": {
            "text/plain": [
              "LGBMClassifier(early_stopping_rounds=100, metric='auc', n_estimators=1000,\n",
              "               objective='binary')"
            ]
          },
          "metadata": {},
          "execution_count": 45
        }
      ]
    },
    {
      "cell_type": "code",
      "source": [
        "pred_y=model_lgb.predict(test_x)\n",
        "acc=accuracy_score(test_y,pred_y)\n",
        "recall=recall_score(test_y,pred_y)\n",
        "precision=precision_score(test_y,pred_y)\n",
        "f_measure=f1_score(test_y,pred_y)\n",
        "print('Accuracy:',acc)\n",
        "print('Recall:',recall)\n",
        "print('Precision:',precision)\n",
        "print('F-measure:{}'.format(f_measure))\n",
        "sensitivity=sensitivity1(test_y,pred_y)\n",
        "print('Sensitivity:{}'.format(sensitivity))\n",
        "specificity=specificity1(test_y,pred_y)\n",
        "print('Specificity:{}'.format(specificity))\n",
        "conf_matrix=confusion_matrix(test_y,pred_y)\n",
        "tn,fp,fn,tp=conf_matrix.ravel()\n",
        "print('tn,fp,fn,tp=',tn,fp,fn,tp)\n",
        "#不均衡モデルの評価に感度と特異度の相乗平均g_meanを計算\n",
        "g_mean=math.sqrt(sensitivity*specificity)\n",
        "print('G_mean:{}'.format(g_mean))"
      ],
      "metadata": {
        "colab": {
          "base_uri": "https://localhost:8080/"
        },
        "id": "gFTkeyNsh2iF",
        "outputId": "b81aa2d7-003d-4d6a-eab4-19889e501d16"
      },
      "execution_count": 46,
      "outputs": [
        {
          "output_type": "stream",
          "name": "stdout",
          "text": [
            "Accuracy: 0.8867924528301887\n",
            "Recall: 0.2857142857142857\n",
            "Precision: 0.6666666666666666\n",
            "F-measure:0.4\n",
            "Sensitivity:0.2857142857142857\n",
            "Specificity:0.9782608695652174\n",
            "tn,fp,fn,tp= 90 2 10 4\n",
            "G_mean:0.528680532637681\n"
          ]
        }
      ]
    },
    {
      "cell_type": "code",
      "source": [
        "from sklearn.metrics import confusion_matrix, plot_confusion_matrix\n",
        "print('不均衡データ　light GBM モデルの精度')\n",
        "plot_confusion_matrix(model_lgb,test_x,test_y)"
      ],
      "metadata": {
        "colab": {
          "base_uri": "https://localhost:8080/",
          "height": 319
        },
        "id": "2ZS42dpDiipo",
        "outputId": "bb57a12e-9d5d-4469-88a2-89af4d6f3975"
      },
      "execution_count": 47,
      "outputs": [
        {
          "output_type": "stream",
          "name": "stdout",
          "text": [
            "不均衡データ　light GBM モデルの精度\n"
          ]
        },
        {
          "output_type": "execute_result",
          "data": {
            "text/plain": [
              "<sklearn.metrics._plot.confusion_matrix.ConfusionMatrixDisplay at 0x7f0ade81dd90>"
            ]
          },
          "metadata": {},
          "execution_count": 47
        },
        {
          "output_type": "display_data",
          "data": {
            "image/png": "[encoded data removed]",
            "text/plain": [
              "<Figure size 432x288 with 2 Axes>"
            ]
          },
          "metadata": {
            "needs_background": "light"
          }
        }
      ]
    },
    {
      "cell_type": "code",
      "source": [
        "print('不均衡データ　lightGBM モデルの精度')\n",
        "lgb_disp=metrics.plot_roc_curve(model_lgb,test_x,test_y)  # LGBMClassigier modelのROC曲線\n",
        "plt.show()   "
      ],
      "metadata": {
        "colab": {
          "base_uri": "https://localhost:8080/",
          "height": 297
        },
        "id": "7vrS7OsRi5DJ",
        "outputId": "91ad706e-51a1-4c76-9068-d0a33b71d56d"
      },
      "execution_count": 48,
      "outputs": [
        {
          "output_type": "stream",
          "name": "stdout",
          "text": [
            "不均衡データ　lightGBM モデルの精度\n"
          ]
        },
        {
          "output_type": "display_data",
          "data": {
            "image/png": "[encoded data removed]",
            "text/plain": [
              "<Figure size 432x288 with 1 Axes>"
            ]
          },
          "metadata": {
            "needs_background": "light"
          }
        }
      ]
    },
    {
      "cell_type": "code",
      "source": [
        "lgb.plot_importance(model_lgb,height=0.5,figsize=(8,16), importance_type='split')"
      ],
      "metadata": {
        "colab": {
          "base_uri": "https://localhost:8080/",
          "height": 966
        },
        "id": "eiYfiCH6nj9K",
        "outputId": "8f2c8dc0-65b2-4b0a-e497-00255ef2c71a"
      },
      "execution_count": 70,
      "outputs": [
        {
          "output_type": "execute_result",
          "data": {
            "text/plain": [
              "<matplotlib.axes._subplots.AxesSubplot at 0x7f0adda12c90>"
            ]
          },
          "metadata": {},
          "execution_count": 70
        },
        {
          "output_type": "display_data",
          "data": {
            "image/png": "[encoded data removed]",
            "text/plain": [
              "<Figure size 576x1152 with 1 Axes>"
            ]
          },
          "metadata": {
            "needs_background": "light"
          }
        }
      ]
    },
    {
      "cell_type": "markdown",
      "source": [
        "# **oversamplingを行ってデータの不均衡をなくす\n"
      ],
      "metadata": {
        "id": "MbBw02L8Z91X"
      }
    },
    {
      "cell_type": "code",
      "source": [
        "#imbalanced-learnでデータの不均衡に対応\n",
        "import imblearn\n",
        "from imblearn.over_sampling import SMOTE\n",
        "from imblearn.under_sampling import RandomUnderSampler\n",
        "from imblearn.over_sampling import RandomOverSampler\n",
        "print(imblearn.__version__)"
      ],
      "metadata": {
        "colab": {
          "base_uri": "https://localhost:8080/"
        },
        "id": "yoiipBwiaApq",
        "outputId": "ea751b30-b9bf-4b78-a663-13be72201c10"
      },
      "execution_count": 49,
      "outputs": [
        {
          "output_type": "stream",
          "name": "stdout",
          "text": [
            "0.8.1\n"
          ]
        }
      ]
    },
    {
      "cell_type": "markdown",
      "source": [
        " 公式ドキュメントでは先にtrain_test_splitしており、testデータではSMOTEしていない kaggleのこの記事参照　 https://www.kaggle.com/janiobachmann/credit-fraud-dealing-with-imbalanced-datasets \n",
        " testデータにはoversamplingしたデータは使わない　leakが生じるため\n",
        "ほかに色々試しているkaggleのnotebook https://www.kaggle.com/andreanuzzo/balance-the-imbalanced-rf-and-xgboost-with-smote"
      ],
      "metadata": {
        "id": "6NotTNeraIpm"
      }
    },
    {
      "cell_type": "code",
      "source": [
        "#テストデータの’１’の数のカウント\n",
        "positive_count_test =test_y.sum()\n",
        "print('positive count test: {}'.format(positive_count_test))"
      ],
      "metadata": {
        "colab": {
          "base_uri": "https://localhost:8080/"
        },
        "id": "20SmSKSlagET",
        "outputId": "abb4698a-caf3-4721-e7f5-da860a843fe6"
      },
      "execution_count": 51,
      "outputs": [
        {
          "output_type": "stream",
          "name": "stdout",
          "text": [
            "positive count test: 14\n"
          ]
        }
      ]
    },
    {
      "cell_type": "code",
      "source": [
        "#訓練データのみに対してSMOTEによる水増し\n",
        "smote = SMOTE(random_state=42)\n",
        "x_SMOTE, y_SMOTE = smote.fit_resample(train_x,train_y)\n",
        "print('positive count before oversampling(SMOTE)',train_y.sum())\n",
        "print('positive count after oversampling(SMOTE)',y_SMOTE.sum())"
      ],
      "metadata": {
        "colab": {
          "base_uri": "https://localhost:8080/"
        },
        "id": "f2pK27uOap1r",
        "outputId": "c5b08dd2-a908-4952-fd21-30710142862f"
      },
      "execution_count": 50,
      "outputs": [
        {
          "output_type": "stream",
          "name": "stdout",
          "text": [
            "positive count before oversampling(SMOTE) 32\n",
            "positive count after oversampling(SMOTE) 213\n"
          ]
        }
      ]
    },
    {
      "cell_type": "markdown",
      "source": [
        "# **OverSampling dataにたいしてRandom Forestにてモデル作成**"
      ],
      "metadata": {
        "id": "nf54CFWtbhCW"
      }
    },
    {
      "cell_type": "code",
      "source": [
        "#ランダムフォレストモデルの構築\n",
        "gridsearch = {'n_estimators': [100,200,300,400],#決定木の数を辞書で渡す\n",
        "             'max_depth': [4,5,6]}#決定木の数を辞書で渡す\n",
        "score='balanced_accuracy'#モデルの評価関数を指定https://scikit-learn.org/stable/modules/model_evaluation.html#scoring-parameter\n",
        "smote_model_rf=GridSearchCV(RandomForestClassifier(),#分類器の指定\n",
        "                 gridsearch,#グリッドサーチで定義した辞書を渡す\n",
        "                 cv=5,              #交差検定の回数指定\n",
        "                 n_jobs= -1, #-1に設定するとコア数で並列実行\n",
        "                 scoring=score,#モデルの評価関数の指定 今回は異常検知なのでrecall使用\n",
        "                 verbose=True) #verbose=Trueで実行状況の表示\n",
        "smote_model_rf.fit(x_SMOTE,y_SMOTE)#学習の実行 fit関数\n",
        "pred_y=smote_model_rf.predict(test_x)#予測値の算出\n",
        "train_accuracysmote_=model_rf.score(x_SMOTE,y_SMOTE)#学習データでの精度の算出\n",
        "print('Oversamplingデータ　ランダムフォレスト モデルの精度')\n",
        "print('Train Accuracy:{}'.format(train_accuracy))\n",
        "test_accuracy=accuracy_score(test_y,pred_y)#テストデータでの精度の算出\n",
        "print('Test Accuracy:{}'.format(test_accuracy))\n",
        "recall=recall_score(test_y,pred_y)\n",
        "print('Recall:{}'.format(recall))\n",
        "precision=precision_score(test_y,pred_y)\n",
        "print('Precision:{}'.format(precision))\n",
        "f_measure=f1_score(test_y,pred_y)\n",
        "print('F-measure:{}'.format(f_measure))\n",
        "sensitivity=sensitivity1(test_y,pred_y)\n",
        "print('Sensitivity:{}'.format(sensitivity))\n",
        "specificity=specificity1(test_y,pred_y)\n",
        "print('Specificity:{}'.format(specificity))\n",
        "#不均衡モデルの評価に感度と特異度の相乗平均g_meanを計算\n",
        "g_mean=math.sqrt(sensitivity*specificity)\n",
        "print('G_mean:{}'.format(g_mean))"
      ],
      "metadata": {
        "colab": {
          "base_uri": "https://localhost:8080/"
        },
        "id": "YTpz3zixbghB",
        "outputId": "0788a4cc-d363-4021-b69d-46e7300b3a34"
      },
      "execution_count": 52,
      "outputs": [
        {
          "output_type": "stream",
          "name": "stdout",
          "text": [
            "Fitting 5 folds for each of 12 candidates, totalling 60 fits\n",
            "Oversamplingデータ　ランダムフォレスト モデルの精度\n",
            "Train Accuracy:0.8693877551020408\n",
            "Test Accuracy:0.839622641509434\n",
            "Recall:0.7142857142857143\n",
            "Precision:0.43478260869565216\n",
            "F-measure:0.5405405405405405\n",
            "Sensitivity:0.7142857142857143\n",
            "Specificity:0.8586956521739131\n",
            "G_mean:0.7831692264556115\n"
          ]
        }
      ]
    },
    {
      "cell_type": "code",
      "source": [
        "smote_model_rf.best_estimator_"
      ],
      "metadata": {
        "colab": {
          "base_uri": "https://localhost:8080/"
        },
        "id": "_BqaTHlKb42_",
        "outputId": "ad00c0da-586a-41a4-83aa-11a02c95d8b9"
      },
      "execution_count": 53,
      "outputs": [
        {
          "output_type": "execute_result",
          "data": {
            "text/plain": [
              "RandomForestClassifier(max_depth=6, n_estimators=400)"
            ]
          },
          "metadata": {},
          "execution_count": 53
        }
      ]
    },
    {
      "cell_type": "code",
      "source": [
        "#plot_confusion_matrixのデフォルト設定でプロット\n",
        "#confusion_matrix関数と渡す引数がちがうことに注意\n",
        "print('Oversamplingデータ　ランダムフォレスト モデルの精度')\n",
        "plot_confusion_matrix(smote_model_rf,test_x,test_y)"
      ],
      "metadata": {
        "colab": {
          "base_uri": "https://localhost:8080/",
          "height": 315
        },
        "id": "rmZEex7Sb8BD",
        "outputId": "21b35aa8-36b4-437b-c4d3-21a1ef776854"
      },
      "execution_count": 54,
      "outputs": [
        {
          "output_type": "stream",
          "name": "stdout",
          "text": [
            "Oversamplingデータ　ランダムフォレスト モデルの精度\n"
          ]
        },
        {
          "output_type": "execute_result",
          "data": {
            "text/plain": [
              "<sklearn.metrics._plot.confusion_matrix.ConfusionMatrixDisplay at 0x7f0af0898510>"
            ]
          },
          "metadata": {},
          "execution_count": 54
        },
        {
          "output_type": "display_data",
          "data": {
            "image/png": "[encoded data removed]",
            "text/plain": [
              "<Figure size 432x288 with 2 Axes>"
            ]
          },
          "metadata": {
            "needs_background": "light"
          }
        }
      ]
    },
    {
      "cell_type": "code",
      "source": [
        "#plot_roc_curve関数によるROC曲線のプロット　引数は　モデル、test_x, test_y\n",
        "print('Oversamplingデータ　ランダムフォレスト モデルの精度')\n",
        "from sklearn import metrics\n",
        "smote_rf_disp=metrics.plot_roc_curve(smote_model_rf,test_x,test_y)  # treeのROC曲線\n",
        "plt.show(smote_rf_disp)  "
      ],
      "metadata": {
        "colab": {
          "base_uri": "https://localhost:8080/",
          "height": 297
        },
        "id": "-EHPzYeEb_03",
        "outputId": "6e08ccbb-d51c-4be8-8554-a4445b47e97f"
      },
      "execution_count": 55,
      "outputs": [
        {
          "output_type": "stream",
          "name": "stdout",
          "text": [
            "Oversamplingデータ　ランダムフォレスト モデルの精度\n"
          ]
        },
        {
          "output_type": "display_data",
          "data": {
            "image/png": "[encoded data removed]",
            "text/plain": [
              "<Figure size 432x288 with 1 Axes>"
            ]
          },
          "metadata": {
            "needs_background": "light"
          }
        }
      ]
    },
    {
      "cell_type": "markdown",
      "source": [
        "# **OverSampling dataにたいしてロジステック回帰にてモデル作成**"
      ],
      "metadata": {
        "id": "jYZ_HvuhcMR8"
      }
    },
    {
      "cell_type": "code",
      "source": [
        "#ロジスティック回帰による分類\n",
        "from sklearn.model_selection import cross_val_predict #交差検証\n",
        "smote_model_LR=LogisticRegression(solver='liblinear')#ハイパーパラメーターをかっこ内に記述\n",
        "pred_y=cross_val_predict(smote_model_LR,test_x,test_y,cv=5) #cross validation の分割数を指定\n",
        "smote_model_LR.fit(x_SMOTE,y_SMOTE)\n",
        "\n",
        "acc=accuracy_score(test_y,pred_y)\n",
        "recall=recall_score(test_y,pred_y)\n",
        "precision=precision_score(test_y,pred_y)\n",
        "print('Oversamplingデータ　ロジステック回帰 モデルの精度')\n",
        "print('Accuracy:',acc)\n",
        "print('Recall:',recall)\n",
        "print('Precision:',precision)\n",
        "conf_matrix=confusion_matrix(test_y,pred_y)\n",
        "tn_LR,fp_LR,fn_LR,tp_LR=conf_matrix.ravel()\n",
        "print('tn_LR,fp_LR,fn_LR,tp_LR=',tn_LR,fp_LR,fn_LR,tp_LR)\n",
        "f_measure=f1_score(test_y,pred_y)\n",
        "print('F-measure:{}'.format(f_measure))\n",
        "sensitivity=sensitivity1(test_y,pred_y)\n",
        "print('Sensitivity:{}'.format(sensitivity))\n",
        "specificity=specificity1(test_y,pred_y)\n",
        "print('Specificity:{}'.format(specificity))\n",
        "#不均衡モデルの評価に感度と特異度の相乗平均g_meanを計算\n",
        "g_mean=math.sqrt(sensitivity*specificity)\n",
        "print('G_mean:{}'.format(g_mean))"
      ],
      "metadata": {
        "colab": {
          "base_uri": "https://localhost:8080/"
        },
        "id": "NXtGsh3tcS8k",
        "outputId": "e6c1d258-568a-4cab-d77c-672bfcf6f96b"
      },
      "execution_count": 56,
      "outputs": [
        {
          "output_type": "stream",
          "name": "stdout",
          "text": [
            "Oversamplingデータ　ロジステック回帰 モデルの精度\n",
            "Accuracy: 0.8962264150943396\n",
            "Recall: 0.21428571428571427\n",
            "Precision: 1.0\n",
            "tn_LR,fp_LR,fn_LR,tp_LR= 92 0 11 3\n",
            "F-measure:0.35294117647058826\n",
            "Sensitivity:0.21428571428571427\n",
            "Specificity:1.0\n",
            "G_mean:0.4629100498862757\n"
          ]
        }
      ]
    },
    {
      "cell_type": "code",
      "source": [
        "#plot_confusion_matrixのデフォルト設定でプロット\n",
        "#confusion_matrix関数と渡す引数がちがうことに注意\n",
        "print('Oversamplingデータ　ロジステック回帰 モデルの精度')\n",
        "plot_confusion_matrix(smote_model_LR,test_x,test_y)"
      ],
      "metadata": {
        "colab": {
          "base_uri": "https://localhost:8080/",
          "height": 315
        },
        "id": "n5HtdCzMcbXc",
        "outputId": "b8ea33dc-51dd-4dcb-fa80-74cec8895816"
      },
      "execution_count": 57,
      "outputs": [
        {
          "output_type": "stream",
          "name": "stdout",
          "text": [
            "Oversamplingデータ　ロジステック回帰 モデルの精度\n"
          ]
        },
        {
          "output_type": "execute_result",
          "data": {
            "text/plain": [
              "<sklearn.metrics._plot.confusion_matrix.ConfusionMatrixDisplay at 0x7f0ade609750>"
            ]
          },
          "metadata": {},
          "execution_count": 57
        },
        {
          "output_type": "display_data",
          "data": {
            "image/png": "[encoded data removed]",
            "text/plain": [
              "<Figure size 432x288 with 2 Axes>"
            ]
          },
          "metadata": {
            "needs_background": "light"
          }
        }
      ]
    },
    {
      "cell_type": "code",
      "source": [
        "#plot_roc_curve関数によるROC曲線のプロット　引数は　モデル、test_x, test_y\n",
        "print('Oversamplingデータ　ロジステック回帰 モデルの精度')\n",
        "smote_LR_disp=metrics.plot_roc_curve(smote_model_LR,test_x,test_y)  \n",
        "ax = plt.gca()\n",
        "plt.show()  "
      ],
      "metadata": {
        "colab": {
          "base_uri": "https://localhost:8080/",
          "height": 297
        },
        "id": "dUfwk2gNchIR",
        "outputId": "77b751e5-7860-4686-9ca7-430bbe3cd4eb"
      },
      "execution_count": 58,
      "outputs": [
        {
          "output_type": "stream",
          "name": "stdout",
          "text": [
            "Oversamplingデータ　ロジステック回帰 モデルの精度\n"
          ]
        },
        {
          "output_type": "display_data",
          "data": {
            "image/png": "[encoded data removed]",
            "text/plain": [
              "<Figure size 432x288 with 1 Axes>"
            ]
          },
          "metadata": {
            "needs_background": "light"
          }
        }
      ]
    },
    {
      "cell_type": "markdown",
      "source": [
        "# **Oversampling（SMOTE）にたいしてCatboostでのモデル構築**"
      ],
      "metadata": {
        "id": "FvwIw_hihB0d"
      }
    },
    {
      "cell_type": "code",
      "source": [
        "params = {\n",
        "    \"random_state\": 0,\n",
        "    \"eval_metric\":\"AUC\",\n",
        "    \"num_boost_round\": 50000,\n",
        "    \"early_stopping_rounds\": 150,\n",
        "    \"task_type\": \"CPU\",\n",
        "    \"use_best_model\": True,\n",
        "    \"custom_metric\": ['AUC',\"Accuracy\",\"Recall\"]\n",
        "\n",
        "}\n",
        "\n",
        "model = cb.CatBoostClassifier(**params)\n",
        "\n",
        "train_data = cb.Pool(x_SMOTE, y_SMOTE, cat_features=categorical_data)\n",
        "val_data = cb.Pool(test_x, test_y, cat_features=categorical_data)\n",
        "model_cb = model.fit(\n",
        "    train_data,\n",
        "    eval_set=val_data,\n",
        "    early_stopping_rounds=150,\n",
        "    verbose=20\n",
        ")\n",
        "\n",
        "pred_y = model_cb.predict(test_x)\n",
        "\n",
        "acc=accuracy_score(test_y,pred_y)\n",
        "recall=recall_score(test_y,pred_y)\n",
        "precision=precision_score(test_y,pred_y)\n",
        "print('不均衡データ　catboostモデルの精度')\n",
        "print('Accuracy:',acc)\n",
        "print('Recall:',recall)\n",
        "print('Precision:',precision)\n",
        "conf_matrix=confusion_matrix(test_y,pred_y)\n",
        "tn_CB,fp_CB,fn_CB,tp_CB=conf_matrix.ravel()\n",
        "print('tn_CB,fp_CB,fn_CB,tp_CB=',tn_CB,fp_CB,fn_CB,tp_CB)\n",
        "f_measure=f1_score(test_y,pred_y)\n",
        "print('F-measure:{}'.format(f_measure))\n",
        "sensitivity=sensitivity1(test_y,pred_y)\n",
        "print('Sensitivity:{}'.format(sensitivity))\n",
        "specificity=specificity1(test_y,pred_y)\n",
        "print('Specificity:{}'.format(specificity))\n",
        "g_mean=math.sqrt(sensitivity*specificity)\n",
        "print('G_mean:{}'.format(g_mean))"
      ],
      "metadata": {
        "colab": {
          "base_uri": "https://localhost:8080/"
        },
        "id": "aA2ymygqhBjb",
        "outputId": "2f931f8d-e6b0-4a51-cbe4-c73670119245"
      },
      "execution_count": 60,
      "outputs": [
        {
          "output_type": "stream",
          "name": "stdout",
          "text": [
            "Learning rate set to 0.004681\n",
            "0:\ttest: 0.7884317\tbest: 0.7884317 (0)\ttotal: 916us\tremaining: 45.8s\n",
            "20:\ttest: 0.8408385\tbest: 0.8408385 (10)\ttotal: 30.4ms\tremaining: 1m 12s\n",
            "40:\ttest: 0.8346273\tbest: 0.8470497 (26)\ttotal: 58.3ms\tremaining: 1m 11s\n",
            "60:\ttest: 0.8315217\tbest: 0.8470497 (26)\ttotal: 85.5ms\tremaining: 1m 10s\n",
            "80:\ttest: 0.8346273\tbest: 0.8470497 (26)\ttotal: 117ms\tremaining: 1m 12s\n",
            "100:\ttest: 0.8346273\tbest: 0.8470497 (26)\ttotal: 144ms\tremaining: 1m 11s\n",
            "120:\ttest: 0.8354037\tbest: 0.8470497 (26)\ttotal: 172ms\tremaining: 1m 10s\n",
            "140:\ttest: 0.8307453\tbest: 0.8470497 (26)\ttotal: 185ms\tremaining: 1m 5s\n",
            "160:\ttest: 0.8299689\tbest: 0.8470497 (26)\ttotal: 197ms\tremaining: 1m\n",
            "Stopped by overfitting detector  (150 iterations wait)\n",
            "\n",
            "bestTest = 0.8470496894\n",
            "bestIteration = 26\n",
            "\n",
            "Shrink model to first 27 iterations.\n",
            "不均衡データ　catboostモデルの精度\n",
            "Accuracy: 0.7358490566037735\n",
            "Recall: 0.8571428571428571\n",
            "Precision: 0.3157894736842105\n",
            "tn_CB,fp_CB,fn_CB,tp_CB= 66 26 2 12\n",
            "F-measure:0.46153846153846156\n",
            "Sensitivity:0.8571428571428571\n",
            "Specificity:0.717391304347826\n",
            "G_mean:0.7841599532608998\n"
          ]
        }
      ]
    },
    {
      "cell_type": "code",
      "source": [
        "#Cat_Boostモデルの混合行列\n",
        "#plot_confusion_matrixのデフォルト設定でプロット\n",
        "#confusion_matrix関数と渡す引数がちがうことに注意\n",
        "print('不均衡pデータ　CatBoost モデルの精度')\n",
        "plot_confusion_matrix(model_cb,test_x,test_y)"
      ],
      "metadata": {
        "colab": {
          "base_uri": "https://localhost:8080/",
          "height": 315
        },
        "id": "J3Xq6Z80hyHs",
        "outputId": "a75002eb-60ba-4dbf-a3de-4eb34ac5e392"
      },
      "execution_count": 61,
      "outputs": [
        {
          "output_type": "stream",
          "name": "stdout",
          "text": [
            "不均衡pデータ　CatBoost モデルの精度\n"
          ]
        },
        {
          "output_type": "execute_result",
          "data": {
            "text/plain": [
              "<sklearn.metrics._plot.confusion_matrix.ConfusionMatrixDisplay at 0x7f0ade50d4d0>"
            ]
          },
          "metadata": {},
          "execution_count": 61
        },
        {
          "output_type": "display_data",
          "data": {
            "image/png": "[encoded data removed]",
            "text/plain": [
              "<Figure size 432x288 with 2 Axes>"
            ]
          },
          "metadata": {
            "needs_background": "light"
          }
        }
      ]
    },
    {
      "cell_type": "code",
      "source": [
        "#Cat_BoostのROC曲線\n",
        "print('SMOTデータ　CatBoost モデルの精度')\n",
        "Cat_disp=metrics.plot_roc_curve(model_cb,test_x,test_y)  # treeのROC曲線\n",
        "plt.show(Cat_disp)  "
      ],
      "metadata": {
        "colab": {
          "base_uri": "https://localhost:8080/",
          "height": 297
        },
        "id": "7ArS9k3uiC0I",
        "outputId": "dac74ab6-27da-4724-aadb-833a0fa539bc"
      },
      "execution_count": 62,
      "outputs": [
        {
          "output_type": "stream",
          "name": "stdout",
          "text": [
            "SMOTデータ　CatBoost モデルの精度\n"
          ]
        },
        {
          "output_type": "display_data",
          "data": {
            "image/png": "[encoded data removed]",
            "text/plain": [
              "<Figure size 432x288 with 1 Axes>"
            ]
          },
          "metadata": {
            "needs_background": "light"
          }
        }
      ]
    },
    {
      "cell_type": "markdown",
      "source": [
        "# **Oversampling（SMOTE）にたいしてAdaboostでのモデル構築**"
      ],
      "metadata": {
        "id": "8XJn-FCkXdeu"
      }
    },
    {
      "cell_type": "code",
      "source": [
        "#AdaBoostによるSMOTEデータに対する訓練と分類\n",
        "#AdaBoostでグリッドサーチしてみる\n",
        "from sklearn.model_selection import StratifiedShuffleSplit\n",
        "from sklearn.model_selection import GridSearchCV\n",
        "from sklearn.ensemble import AdaBoostClassifier\n",
        "n_estimators = [100,200,300,400];\n",
        "cv = StratifiedShuffleSplit(n_splits=10, test_size=.30, random_state=15)\n",
        "learning_r = [0.1,1,0.01]\n",
        "\n",
        "parameters = {'n_estimators':n_estimators,\n",
        "              'learning_rate':learning_r\n",
        "              \n",
        "        }\n",
        "smote_Ada_Boost_CV = GridSearchCV(AdaBoostClassifier(base_estimator= None, ## If None, then the base estimator is a decision tree.\n",
        "                                     ),\n",
        "                                 param_grid=parameters,\n",
        "                                 cv=cv,\n",
        "                                 n_jobs = -1)\n",
        "smote_Ada_Boost_CV.fit(x_SMOTE,y_SMOTE) \n",
        "print(smote_Ada_Boost_CV.best_params_)\n",
        "pred_y=smote_Ada_Boost_CV.predict(test_x)#予測値の算出\n",
        "train_accuracy=smote_Ada_Boost_CV.score(x_SMOTE,y_SMOTE)#学習データでの精度の算出\n",
        "\n",
        "print('Oversamplingデータ　AdaBoost モデルの精度')\n",
        "print('Train Accuracy:{}'.format(train_accuracy))\n",
        "test_accuracy=accuracy_score(test_y,pred_y)#テストデータでの精度の算出\n",
        "print('Test Accuracy:{}'.format(test_accuracy))\n",
        "recall=recall_score(test_y,pred_y)\n",
        "print('Recall:{}'.format(recall))\n",
        "precision=precision_score(test_y,pred_y)\n",
        "print('Precision:{}'.format(precision))\n",
        "f_measure=f1_score(test_y,pred_y)\n",
        "print('F-measure:{}'.format(f_measure))\n",
        "sensitivity=sensitivity1(test_y,pred_y)\n",
        "print('Sensitivity:{}'.format(sensitivity))\n",
        "specificity=specificity1(test_y,pred_y)\n",
        "print('Specificity:{}'.format(specificity))\n",
        "#不均衡モデルの評価に感度と特異度の相乗平均g_meanを計算\n",
        "g_mean=math.sqrt(sensitivity*specificity)\n",
        "print('G_mean:{}'.format(g_mean))"
      ],
      "metadata": {
        "id": "kXeob7s5eox4",
        "colab": {
          "base_uri": "https://localhost:8080/"
        },
        "outputId": "ac8ae497-c11b-4790-95a8-26e56a69b252"
      },
      "execution_count": 63,
      "outputs": [
        {
          "output_type": "stream",
          "name": "stdout",
          "text": [
            "{'learning_rate': 1, 'n_estimators': 200}\n",
            "Oversamplingデータ　AdaBoost モデルの精度\n",
            "Train Accuracy:0.8403755868544601\n",
            "Test Accuracy:0.7452830188679245\n",
            "Recall:0.42857142857142855\n",
            "Precision:0.24\n",
            "F-measure:0.30769230769230765\n",
            "Sensitivity:0.42857142857142855\n",
            "Specificity:0.7934782608695652\n",
            "G_mean:0.5831484474824933\n"
          ]
        }
      ]
    },
    {
      "cell_type": "code",
      "source": [
        "#Ada_Boostモデルの混合行列\n",
        "#plot_confusion_matrixのデフォルト設定でプロット\n",
        "#confusion_matrix関数と渡す引数がちがうことに注意\n",
        "print('Oversamplingデータ　AdaBoost モデルの精度')\n",
        "plot_confusion_matrix(smote_Ada_Boost_CV,test_x,test_y)"
      ],
      "metadata": {
        "colab": {
          "base_uri": "https://localhost:8080/",
          "height": 315
        },
        "id": "ROo-rqGQlOkh",
        "outputId": "b8587174-a451-4fe6-d725-1c5dd9477cb2"
      },
      "execution_count": null,
      "outputs": [
        {
          "output_type": "stream",
          "name": "stdout",
          "text": [
            "Oversamplingデータ　AdaBoost モデルの精度\n"
          ]
        },
        {
          "output_type": "execute_result",
          "data": {
            "text/plain": [
              "<sklearn.metrics._plot.confusion_matrix.ConfusionMatrixDisplay at 0x7efee0b05190>"
            ]
          },
          "metadata": {},
          "execution_count": 52
        },
        {
          "output_type": "display_data",
          "data": {
            "image/png": "[encoded data removed]",
            "text/plain": [
              "<Figure size 432x288 with 2 Axes>"
            ]
          },
          "metadata": {
            "needs_background": "light"
          }
        }
      ]
    },
    {
      "cell_type": "code",
      "source": [
        "#Ada_BoostのROC曲線\n",
        "print('Oversamplingデータ　AdaBoost モデルの精度')\n",
        "smote_Ada_disp=metrics.plot_roc_curve(smote_Ada_Boost_CV,test_x,test_y)  \n",
        "plt.show(smote_Ada_disp)  "
      ],
      "metadata": {
        "colab": {
          "base_uri": "https://localhost:8080/",
          "height": 297
        },
        "id": "0_N-bkxtlaaf",
        "outputId": "6662b2a4-3af0-4501-85d3-ed0ff0c78ec3"
      },
      "execution_count": 64,
      "outputs": [
        {
          "output_type": "stream",
          "name": "stdout",
          "text": [
            "Oversamplingデータ　AdaBoost モデルの精度\n"
          ]
        },
        {
          "output_type": "display_data",
          "data": {
            "image/png": "[encoded data removed]",
            "text/plain": [
              "<Figure size 432x288 with 1 Axes>"
            ]
          },
          "metadata": {
            "needs_background": "light"
          }
        }
      ]
    },
    {
      "cell_type": "markdown",
      "source": [
        "# **Oversampling（SMOTE）に対してのLightGBM のscilit learn　APIによるモデル構築**"
      ],
      "metadata": {
        "id": "YhIjLtjCetxx"
      }
    },
    {
      "cell_type": "code",
      "source": [
        "#LightGBM scikit learn APIによる訓練 confusion matrix関数を使うにはsk-learn APIが必要\n",
        "\n",
        "smote_model_lgb = lgb.LGBMClassifier(objective='binary',\n",
        "                        metric='auc',\n",
        "                        n_estimators=1000,\n",
        "                        early_stopping_rounds=100)\n",
        "smote_model_lgb.fit(x_SMOTE,y_SMOTE,#scilit learn APIではfitで訓練データを渡す original APIではtrain \n",
        "        eval_set=[(test_x, test_y)],\n",
        "        verbose=50)"
      ],
      "metadata": {
        "colab": {
          "base_uri": "https://localhost:8080/"
        },
        "id": "J4bfA-U7e7mL",
        "outputId": "723d4929-645c-4503-c38f-57b3a6ca4433"
      },
      "execution_count": 65,
      "outputs": [
        {
          "output_type": "stream",
          "name": "stdout",
          "text": [
            "Training until validation scores don't improve for 100 rounds.\n",
            "[50]\tvalid_0's auc: 0.838509\n",
            "[100]\tvalid_0's auc: 0.829193\n",
            "Early stopping, best iteration is:\n",
            "[48]\tvalid_0's auc: 0.843168\n"
          ]
        },
        {
          "output_type": "execute_result",
          "data": {
            "text/plain": [
              "LGBMClassifier(early_stopping_rounds=100, metric='auc', n_estimators=1000,\n",
              "               objective='binary')"
            ]
          },
          "metadata": {},
          "execution_count": 65
        }
      ]
    },
    {
      "cell_type": "code",
      "source": [
        "from sklearn.metrics import confusion_matrix, plot_confusion_matrix\n",
        "print('Oversamplingデータ　LightGBM モデルの精度')\n",
        "plot_confusion_matrix(smote_model_lgb,test_x,test_y)"
      ],
      "metadata": {
        "colab": {
          "base_uri": "https://localhost:8080/",
          "height": 319
        },
        "id": "kzVnv5Fde9zu",
        "outputId": "309f27fe-4246-4ea0-8301-215e53363bdd"
      },
      "execution_count": 66,
      "outputs": [
        {
          "output_type": "stream",
          "name": "stdout",
          "text": [
            "Oversamplingデータ　LightGBM モデルの精度\n"
          ]
        },
        {
          "output_type": "execute_result",
          "data": {
            "text/plain": [
              "<sklearn.metrics._plot.confusion_matrix.ConfusionMatrixDisplay at 0x7f0addb98610>"
            ]
          },
          "metadata": {},
          "execution_count": 66
        },
        {
          "output_type": "display_data",
          "data": {
            "image/png": "[encoded data removed]",
            "text/plain": [
              "<Figure size 432x288 with 2 Axes>"
            ]
          },
          "metadata": {
            "needs_background": "light"
          }
        }
      ]
    },
    {
      "cell_type": "code",
      "source": [
        "pred_y=smote_model_lgb.predict(test_x)\n",
        "acc=accuracy_score(test_y,pred_y)\n",
        "recall=recall_score(test_y,pred_y)\n",
        "precision=precision_score(test_y,pred_y)\n",
        "f_measure=f1_score(test_y,pred_y)\n",
        "\n",
        "print('Oversamplingデータ　LightGBM モデルの精度')\n",
        "print('Accuracy:',acc)\n",
        "print('Recall:',recall)\n",
        "print('Precision:',precision)\n",
        "print('F-measure:{}'.format(f_measure))\n",
        "sensitivity=sensitivity1(test_y,pred_y)\n",
        "print('Sensitivity:{}'.format(sensitivity))\n",
        "specificity=specificity1(test_y,pred_y)\n",
        "print('Specificity:{}'.format(specificity))\n",
        "conf_matrix=confusion_matrix(test_y,pred_y)\n",
        "tn,fp,fn,tp=conf_matrix.ravel()\n",
        "print('tn,fp,fn,tp=',tn,fp,fn,tp)\n",
        "#不均衡モデルの評価に感度と特異度の相乗平均g_meanを計算\n",
        "g_mean=math.sqrt(sensitivity*specificity)\n",
        "print('G_mean:{}'.format(g_mean))"
      ],
      "metadata": {
        "colab": {
          "base_uri": "https://localhost:8080/"
        },
        "id": "Nih61QL9fDH9",
        "outputId": "7d9c8e80-78d1-4353-d227-b8baf1914f79"
      },
      "execution_count": 67,
      "outputs": [
        {
          "output_type": "stream",
          "name": "stdout",
          "text": [
            "Oversamplingデータ　LightGBM モデルの精度\n",
            "Accuracy: 0.8207547169811321\n",
            "Recall: 0.5\n",
            "Precision: 0.3684210526315789\n",
            "F-measure:0.4242424242424242\n",
            "Sensitivity:0.5\n",
            "Specificity:0.8695652173913043\n",
            "tn,fp,fn,tp= 80 12 7 7\n",
            "G_mean:0.659380473395787\n"
          ]
        }
      ]
    },
    {
      "cell_type": "code",
      "source": [
        "print('Oversamplingデータ　LightGBM モデルの精度')\n",
        "smote_lgb_disp=metrics.plot_roc_curve(smote_model_lgb,test_x,test_y)  # LGBMClassigier model2のROC曲線\n",
        "plt.show()   "
      ],
      "metadata": {
        "colab": {
          "base_uri": "https://localhost:8080/",
          "height": 297
        },
        "id": "6Z0eu1HTfIj8",
        "outputId": "31de16ba-8096-4c0d-a017-2c740471e710"
      },
      "execution_count": 68,
      "outputs": [
        {
          "output_type": "stream",
          "name": "stdout",
          "text": [
            "Oversamplingデータ　LightGBM モデルの精度\n"
          ]
        },
        {
          "output_type": "display_data",
          "data": {
            "image/png": "[encoded data removed]",
            "text/plain": [
              "<Figure size 432x288 with 1 Axes>"
            ]
          },
          "metadata": {
            "needs_background": "light"
          }
        }
      ]
    },
    {
      "cell_type": "code",
      "source": [
        "#いままでのROC曲線をまとめて表示\n",
        "ax = plt.gca()\n",
        "lgb_disp.plot(ax=ax, alpha=0.8,label='LGBM')\n",
        "rf_disp.plot(ax=ax,alpha=0.8,label='Random Forest')\n",
        "LR_disp.plot(ax=ax,alpha=0.8,label='Logistic Regression')\n",
        "Ada_disp.plot(ax=ax,alpha=0.8,label='Ada Boost')\n",
        "\n",
        "smote_lgb_disp.plot(ax=ax, alpha=0.8,label='SMOTE LGBM')\n",
        "smote_rf_disp.plot(ax=ax,alpha=0.8,label='SMOTE Random Forest')\n",
        "smote_LR_disp.plot(ax=ax,alpha=0.8,label='SMOTE Logistic Regression')\n",
        "smote_Ada_disp.plot(ax=ax,alpha=0.8,label='SMOTE Ada Boost')\n",
        "\n",
        "plt.show()"
      ],
      "metadata": {
        "colab": {
          "base_uri": "https://localhost:8080/",
          "height": 279
        },
        "id": "Py-OlWX1fKDn",
        "outputId": "4ac0cdfd-aeb3-4984-e8c0-20478c1d4966"
      },
      "execution_count": null,
      "outputs": [
        {
          "output_type": "display_data",
          "data": {
            "image/png": "[encoded data removed]",
            "text/plain": [
              "<Figure size 432x288 with 1 Axes>"
            ]
          },
          "metadata": {
            "needs_background": "light"
          }
        }
      ]
    }
  ]
}